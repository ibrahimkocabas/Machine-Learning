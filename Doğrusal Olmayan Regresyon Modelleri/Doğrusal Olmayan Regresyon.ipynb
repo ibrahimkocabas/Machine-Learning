{
 "cells": [
  {
   "cell_type": "markdown",
   "metadata": {},
   "source": [
    "# Doğrusal Olmayan Regresyon Modelleri"
   ]
  },
  {
   "cell_type": "code",
   "execution_count": 5,
   "metadata": {},
   "outputs": [],
   "source": [
    "import numpy as np\n",
    "import pandas as pd \n",
    "from sklearn.model_selection import train_test_split, GridSearchCV,cross_val_score\n",
    "from sklearn.metrics import mean_squared_error, r2_score\n",
    "import matplotlib.pyplot as plt\n",
    "from sklearn.preprocessing import scale \n",
    "from sklearn import model_selection\n",
    "from sklearn.tree import DecisionTreeRegressor, DecisionTreeClassifier\n",
    "from sklearn.neighbors import KNeighborsRegressor\n",
    "from sklearn.ensemble import BaggingRegressor\n",
    "\n",
    "from warnings import filterwarnings\n",
    "filterwarnings('ignore')"
   ]
  },
  {
   "cell_type": "markdown",
   "metadata": {},
   "source": [
    "## K-En Yakın Komşu (KNN)"
   ]
  },
  {
   "cell_type": "markdown",
   "metadata": {},
   "source": [
    "Tahminler gözlem benzerliğine göre yapılır. Parametrik olmayan bir öğrenme türüdür.\n",
    " * Komşu sayısını belirle (K)\n",
    " * Bilinmeyen nokta ile diğer tüm noktalara arasındaki uzaklıkları hesapla\n",
    " * Uzaklıkları sırala ve belirlenen k sayısına göre en yakın olank gözlemi seç\n",
    " * Sınıflandırma ise en sık sınıf, regresyon ise ortalama değeri tahmin değeri olarak ver."
   ]
  },
  {
   "cell_type": "markdown",
   "metadata": {},
   "source": [
    "#### Model"
   ]
  },
  {
   "cell_type": "code",
   "execution_count": 5,
   "metadata": {},
   "outputs": [],
   "source": [
    "hit = pd.read_csv(\"Hitters.csv\")\n",
    "df = hit.copy()\n",
    "df = df.dropna()\n",
    "dms = pd.get_dummies(df[['League', 'Division', 'NewLeague']])\n",
    "y = df[\"Salary\"]\n",
    "X_ = df.drop(['Salary', 'League', 'Division', 'NewLeague'], axis=1).astype('float64')\n",
    "X = pd.concat([X_, dms[['League_N', 'Division_W', 'NewLeague_N']]], axis=1)\n",
    "X_train, X_test, y_train, y_test = train_test_split(X, y, \n",
    "                                                    test_size=0.25, \n",
    "                                                    random_state=42)"
   ]
  },
  {
   "cell_type": "code",
   "execution_count": 6,
   "metadata": {},
   "outputs": [],
   "source": [
    "# Model Kurma\n",
    "knn_model = KNeighborsRegressor().fit(X_train, y_train)"
   ]
  },
  {
   "cell_type": "code",
   "execution_count": 9,
   "metadata": {},
   "outputs": [
    {
     "data": {
      "text/plain": [
       "5"
      ]
     },
     "execution_count": 9,
     "metadata": {},
     "output_type": "execute_result"
    }
   ],
   "source": [
    "# Model Hiperparametresi (Komşuluk sayısı)\n",
    "knn_model.n_neighbors"
   ]
  },
  {
   "cell_type": "markdown",
   "metadata": {},
   "source": [
    "#### Tahmin"
   ]
  },
  {
   "cell_type": "code",
   "execution_count": 13,
   "metadata": {},
   "outputs": [
    {
     "data": {
      "text/plain": [
       "array([ 510.3334,  808.3334,  772.5   ,  125.5   , 1005.    ,  325.5   ,\n",
       "        216.5   ,  101.5   ,  982.    ,  886.6666,  590.    ,  901.6666,\n",
       "        831.6666,  157.5   ,  393.    , 1005.    ,  735.5   ,   97.    ,\n",
       "        884.4   ,  302.    ,  450.    ,  817.6666,  832.6666,  392.3334,\n",
       "        528.    ,   81.6   ,  735.    ,  470.    ,  722.5   ,  101.    ,\n",
       "         90.5   ,   74.6   ,  748.3334,  217.    ,  280.5334, 1044.5   ,\n",
       "        955.    ,  232.    ,   78.6   ,  529.    ,   77.6   ,  106.5   ,\n",
       "        516.6666,  593.6666, 1005.    ,  649.1666,  715.    ,  101.5   ,\n",
       "        134.5   ,  810.    ,  743.    ,  521.3334,  664.3334,  195.    ,\n",
       "        102.4   ,  728.5   ,  488.    ,  962.5   ,  230.8334, 1040.    ,\n",
       "        885.    ,  542.    ,  720.4   ,  571.    ,  735.    ,   81.6   ])"
      ]
     },
     "execution_count": 13,
     "metadata": {},
     "output_type": "execute_result"
    }
   ],
   "source": [
    "# Test seti için tahmi nedilen y değerleri\n",
    "knn_model.predict(X_test)   "
   ]
  },
  {
   "cell_type": "code",
   "execution_count": 15,
   "metadata": {},
   "outputs": [
    {
     "data": {
      "text/plain": [
       "426.6570764525201"
      ]
     },
     "execution_count": 15,
     "metadata": {},
     "output_type": "execute_result"
    }
   ],
   "source": [
    "# Test hatası\n",
    "y_pred = knn_model.predict(X_test)\n",
    "np.sqrt(mean_squared_error(y_test, y_pred))"
   ]
  },
  {
   "cell_type": "markdown",
   "metadata": {},
   "source": [
    "Farklı k değerlerine karşılık olarak KNN farklı tahmin değerleri olacaktır. Bunları örnek olması için gözlemleyelim."
   ]
  },
  {
   "cell_type": "code",
   "execution_count": 16,
   "metadata": {},
   "outputs": [
    {
     "name": "stdout",
     "output_type": "stream",
     "text": [
      "k = 1 için RMSE değeri:  0.0\n",
      "k = 2 için RMSE değeri:  179.52761335480352\n",
      "k = 3 için RMSE değeri:  205.20157172291863\n",
      "k = 4 için RMSE değeri:  220.5139794876305\n",
      "k = 5 için RMSE değeri:  239.64671325413764\n",
      "k = 6 için RMSE değeri:  243.5904190007242\n",
      "k = 7 için RMSE değeri:  258.1478781634636\n",
      "k = 8 için RMSE değeri:  266.05374203349805\n",
      "k = 9 için RMSE değeri:  269.73782093553376\n",
      "k = 10 için RMSE değeri:  271.2798300436963\n"
     ]
    }
   ],
   "source": [
    "RMSE = []    #rmse değerlerini tutmak için boş bir liste oluşturuyoruz.\n",
    "\n",
    "for k in range(10):\n",
    "    k = k+1\n",
    "    knn_model = KNeighborsRegressor(n_neighbors = k).fit(X_train, y_train)   # her iterasyonda k'ya göre model fit etme\n",
    "    y_pred = knn_model.predict(X_train)     # eğitim seti üzerinde tahmin işlemi gerçekleştirme\n",
    "    rmse = np.sqrt(mean_squared_error(y_train,y_pred))   # tahmin işlmelerine göre eğitim hatası \n",
    "    RMSE.append(rmse)   # bulunan eğitim hatası değerlerini listeye ekleme\n",
    "    print(\"k =\" , k , \"için RMSE değeri: \", rmse)"
   ]
  },
  {
   "cell_type": "markdown",
   "metadata": {},
   "source": [
    "#### Model Tuning"
   ]
  },
  {
   "cell_type": "markdown",
   "metadata": {},
   "source": [
    "Şimdi burada Cross-Validation yöntemini işin içine koyarak farklı k değerlerine karşılık olacak şekilde nasıl bir seçim işlmei yapacağımızı ele alacağız. "
   ]
  },
  {
   "cell_type": "markdown",
   "metadata": {},
   "source": [
    "GridSearchCV metodu ile optimum k sayısını belirleme işlemi gerçekleştireceğiz."
   ]
  },
  {
   "cell_type": "markdown",
   "metadata": {},
   "source": [
    "GridSearch bir ızagra mantığı ile olası bir parametre setinin verilip tüm olası kombinasyonların denenmesi anlamına gelir."
   ]
  },
  {
   "cell_type": "code",
   "execution_count": 17,
   "metadata": {},
   "outputs": [],
   "source": [
    "from sklearn.model_selection import GridSearchCV"
   ]
  },
  {
   "cell_type": "code",
   "execution_count": 19,
   "metadata": {},
   "outputs": [],
   "source": [
    "# KNN parametreleri oluşturma\n",
    "knn_params = {'n_neighbors': np.arange(1,30,1)}"
   ]
  },
  {
   "cell_type": "code",
   "execution_count": 20,
   "metadata": {},
   "outputs": [],
   "source": [
    "# Model nesnesi oluşturma\n",
    "knn = KNeighborsRegressor()"
   ]
  },
  {
   "cell_type": "code",
   "execution_count": 21,
   "metadata": {},
   "outputs": [],
   "source": [
    "knn_cv_model = GridSearchCV(knn, knn_params, cv=10)"
   ]
  },
  {
   "cell_type": "code",
   "execution_count": 22,
   "metadata": {},
   "outputs": [
    {
     "data": {
      "text/plain": [
       "GridSearchCV(cv=10, estimator=KNeighborsRegressor(),\n",
       "             param_grid={'n_neighbors': array([ 1,  2,  3,  4,  5,  6,  7,  8,  9, 10, 11, 12, 13, 14, 15, 16, 17,\n",
       "       18, 19, 20, 21, 22, 23, 24, 25, 26, 27, 28, 29])})"
      ]
     },
     "execution_count": 22,
     "metadata": {},
     "output_type": "execute_result"
    }
   ],
   "source": [
    "knn_cv_model.fit(X_train, y_train)"
   ]
  },
  {
   "cell_type": "code",
   "execution_count": 23,
   "metadata": {},
   "outputs": [
    {
     "data": {
      "text/plain": [
       "8"
      ]
     },
     "execution_count": 23,
     "metadata": {},
     "output_type": "execute_result"
    }
   ],
   "source": [
    "# en uygun parametreyi bulma\n",
    "knn_cv_model.best_params_[\"n_neighbors\"]"
   ]
  },
  {
   "cell_type": "code",
   "execution_count": 25,
   "metadata": {},
   "outputs": [
    {
     "name": "stdout",
     "output_type": "stream",
     "text": [
      "k = 1 için RMSE değeri:  0.0 RMSE_CV değeri:  325.39475147063825\n",
      "k = 2 için RMSE değeri:  179.52761335480352 RMSE_CV değeri:  293.24000183333817\n",
      "k = 3 için RMSE değeri:  205.20157172291863 RMSE_CV değeri:  283.7486667487823\n",
      "k = 4 için RMSE değeri:  220.5139794876305 RMSE_CV değeri:  286.3240222024089\n",
      "k = 5 için RMSE değeri:  239.64671325413764 RMSE_CV değeri:  290.0705466132226\n",
      "k = 6 için RMSE değeri:  243.5904190007242 RMSE_CV değeri:  298.1263115575851\n",
      "k = 7 için RMSE değeri:  258.1478781634636 RMSE_CV değeri:  294.77070479194987\n",
      "k = 8 için RMSE değeri:  266.05374203349805 RMSE_CV değeri:  291.98672028891235\n",
      "k = 9 için RMSE değeri:  269.73782093553376 RMSE_CV değeri:  295.7162739573105\n",
      "k = 10 için RMSE değeri:  271.2798300436963 RMSE_CV değeri:  301.31047022701154\n"
     ]
    }
   ],
   "source": [
    "# Valide edilmemiş ve Valide edilmiş rmse değerleri karşılaştırması\n",
    "\n",
    "RMSE = [] \n",
    "RMSE_CV = []\n",
    "\n",
    "for k in range(10):\n",
    "    k = k+1\n",
    "    knn_model = KNeighborsRegressor(n_neighbors = k).fit(X_train, y_train)\n",
    "    y_pred = knn_model.predict(X_train) \n",
    "    \n",
    "    rmse = np.sqrt(mean_squared_error(y_train,y_pred))  # valilde edilmemiş rmse değeri\n",
    "    rmse_cv = np.sqrt(-1*cross_val_score(knn_model, X_train, y_train, cv=10, \n",
    "                                         scoring = \"neg_mean_squared_error\").mean())   # valide edilmiş rmse değeri\n",
    "    RMSE.append(rmse) \n",
    "    RMSE_CV.append(rmse_cv)\n",
    "    print(\"k =\" , k , \"için RMSE değeri: \", rmse, \"RMSE_CV değeri: \", rmse_cv )"
   ]
  },
  {
   "cell_type": "code",
   "execution_count": 28,
   "metadata": {},
   "outputs": [],
   "source": [
    "# Final Modeli Nesnesi\n",
    "knn_tuned = KNeighborsRegressor(n_neighbors = knn_cv_model.best_params_[\"n_neighbors\"])"
   ]
  },
  {
   "cell_type": "code",
   "execution_count": 31,
   "metadata": {},
   "outputs": [
    {
     "data": {
      "text/plain": [
       "KNeighborsRegressor(n_neighbors=8)"
      ]
     },
     "execution_count": 31,
     "metadata": {},
     "output_type": "execute_result"
    }
   ],
   "source": [
    "# Fit etme \n",
    "knn_tuned.fit(X_train, y_train)"
   ]
  },
  {
   "cell_type": "code",
   "execution_count": 36,
   "metadata": {},
   "outputs": [
    {
     "data": {
      "text/plain": [
       "413.7094731463598"
      ]
     },
     "execution_count": 36,
     "metadata": {},
     "output_type": "execute_result"
    }
   ],
   "source": [
    "# Tuned edilmiş test hatası hesaplama\n",
    "y_pred = knn_tuned.predict(X_test)\n",
    "np.sqrt(mean_squared_error(y_test, y_pred))"
   ]
  },
  {
   "cell_type": "markdown",
   "metadata": {},
   "source": [
    "## Destek Vektör Regresyonu (SVR)"
   ]
  },
  {
   "cell_type": "markdown",
   "metadata": {},
   "source": [
    "**Amaç,**bir marjin aralığına maksimum noktayı en küçük hata ile alabilecek şekilde doğru ya da eğriyi belirlemektir. Çıkışı itibariyle sınıflandırma problemleri için ortaya çıkmış ve sonrasında regresyon problemlerini de uygulanmıştır."
   ]
  },
  {
   "cell_type": "code",
   "execution_count": 38,
   "metadata": {},
   "outputs": [],
   "source": [
    "hit = pd.read_csv(\"Hitters.csv\")\n",
    "df = hit.copy()\n",
    "df = df.dropna()\n",
    "dms = pd.get_dummies(df[['League', 'Division', 'NewLeague']])\n",
    "y = df[\"Salary\"]\n",
    "X_ = df.drop(['Salary', 'League', 'Division', 'NewLeague'], axis=1).astype('float64')\n",
    "X = pd.concat([X_, dms[['League_N', 'Division_W', 'NewLeague_N']]], axis=1)\n",
    "X_train, X_test, y_train, y_test = train_test_split(X, y, \n",
    "                                                    test_size=0.25, \n",
    "                                                    random_state=42)"
   ]
  },
  {
   "cell_type": "code",
   "execution_count": 40,
   "metadata": {},
   "outputs": [],
   "source": [
    "# Test-Train seti için değişkeni Hits olarak seçiyoruz.\n",
    "X_train = pd.DataFrame(X_train[\"Hits\"])\n",
    "X_test = pd.DataFrame(X_test[\"Hits\"])"
   ]
  },
  {
   "cell_type": "markdown",
   "metadata": {},
   "source": [
    "#### Model"
   ]
  },
  {
   "cell_type": "code",
   "execution_count": 2,
   "metadata": {},
   "outputs": [],
   "source": [
    "from sklearn.svm import SVR"
   ]
  },
  {
   "cell_type": "code",
   "execution_count": 42,
   "metadata": {},
   "outputs": [],
   "source": [
    "svr_model = SVR(\"linear\").fit(X_train, y_train)"
   ]
  },
  {
   "cell_type": "code",
   "execution_count": 46,
   "metadata": {},
   "outputs": [
    {
     "data": {
      "text/plain": [
       "array([403.52804878, 666.91219512, 706.66829268, 194.80853659,\n",
       "       423.40609756])"
      ]
     },
     "execution_count": 46,
     "metadata": {},
     "output_type": "execute_result"
    }
   ],
   "source": [
    "# y bağımlı değişkenin tahmin edilen değerleri\n",
    "svr_model.predict(X_train)[0:5]"
   ]
  },
  {
   "cell_type": "code",
   "execution_count": 48,
   "metadata": {},
   "outputs": [
    {
     "data": {
      "text/plain": [
       "array([-48.69756098])"
      ]
     },
     "execution_count": 48,
     "metadata": {},
     "output_type": "execute_result"
    }
   ],
   "source": [
    "# sabit katsayı\n",
    "svr_model.intercept_"
   ]
  },
  {
   "cell_type": "code",
   "execution_count": 52,
   "metadata": {},
   "outputs": [
    {
     "data": {
      "text/plain": [
       "4.969512195122206"
      ]
     },
     "execution_count": 52,
     "metadata": {},
     "output_type": "execute_result"
    }
   ],
   "source": [
    "# bağımsız değişken katsayısı\n",
    "svr_model.coef_[0][0]"
   ]
  },
  {
   "cell_type": "code",
   "execution_count": 56,
   "metadata": {},
   "outputs": [
    {
     "name": "stdout",
     "output_type": "stream",
     "text": [
      "y = -48.69756097561513 + 4.969512195122206 x\n"
     ]
    }
   ],
   "source": [
    "# SVR'ın regresyona benzer olan formun- model denklemi\n",
    "print (\"y = {0} + {1} x\".format(svr_model.intercept_[0], \n",
    "                                svr_model.coef_[0][0]))"
   ]
  },
  {
   "cell_type": "markdown",
   "metadata": {},
   "source": [
    "Hits değişkenin ilk değerini yukarıdaki formülde yerine koyduğumuz zaman tahmin edilen y bağımlı değişkenin ilk değerini hesaplayabiliriz."
   ]
  },
  {
   "cell_type": "code",
   "execution_count": 57,
   "metadata": {},
   "outputs": [
    {
     "data": {
      "text/plain": [
       "183    91.0\n",
       "Name: Hits, dtype: float64"
      ]
     },
     "execution_count": 57,
     "metadata": {},
     "output_type": "execute_result"
    }
   ],
   "source": [
    "X_train[\"Hits\"][0:1]"
   ]
  },
  {
   "cell_type": "code",
   "execution_count": 59,
   "metadata": {},
   "outputs": [
    {
     "data": {
      "text/plain": [
       "403.5280487805056"
      ]
     },
     "execution_count": 59,
     "metadata": {},
     "output_type": "execute_result"
    }
   ],
   "source": [
    "-48.69756097561513 + 4.969512195122206 * 91"
   ]
  },
  {
   "cell_type": "markdown",
   "metadata": {},
   "source": [
    "Doğrusal SVR'ın bir geometrik olarak ne ifade ettiğine bakalım. Basit bir SVR şuan sadece tek bir değişkenimiz var."
   ]
  },
  {
   "cell_type": "code",
   "execution_count": 61,
   "metadata": {},
   "outputs": [],
   "source": [
    "y_pred = svr_model.predict(X_train)"
   ]
  },
  {
   "cell_type": "code",
   "execution_count": 62,
   "metadata": {},
   "outputs": [
    {
     "data": {
      "text/plain": [
       "[<matplotlib.lines.Line2D at 0xbd1c070>]"
      ]
     },
     "execution_count": 62,
     "metadata": {},
     "output_type": "execute_result"
    },
    {
     "data": {
      "image/png": "[encoded data removed]",
      "text/plain": [
       "<Figure size 432x288 with 1 Axes>"
      ]
     },
     "metadata": {
      "needs_background": "light"
     },
     "output_type": "display_data"
    }
   ],
   "source": [
    "plt.scatter(X_train, y_train)\n",
    "plt.plot(X_train, y_pred, color = \"r\")"
   ]
  },
  {
   "cell_type": "code",
   "execution_count": 63,
   "metadata": {},
   "outputs": [
    {
     "name": "stdout",
     "output_type": "stream",
     "text": [
      "y = -8.814095480334345 + 5.172456135470686 x\n"
     ]
    }
   ],
   "source": [
    "# Doğrusal Regresyonun formülasyonu\n",
    "\n",
    "from sklearn.linear_model import LinearRegression\n",
    "lm_model = LinearRegression().fit(X_train, y_train)\n",
    "lm_pred  = lm_model.predict(X_train)\n",
    "print(\"y = {0} + {1} x\".format(lm_model.intercept_, lm_model.coef_[0]))\n"
   ]
  },
  {
   "cell_type": "markdown",
   "metadata": {},
   "source": [
    "Şimdi Hits değişkenin ilk değerini bu formülde yerine yazalım."
   ]
  },
  {
   "cell_type": "code",
   "execution_count": 64,
   "metadata": {},
   "outputs": [
    {
     "data": {
      "text/plain": [
       "461.87941284749803"
      ]
     },
     "execution_count": 64,
     "metadata": {},
     "output_type": "execute_result"
    }
   ],
   "source": [
    "-8.814095480334345 + 5.172456135470686 * 91"
   ]
  },
  {
   "cell_type": "markdown",
   "metadata": {},
   "source": [
    "Yukarıda görüldüğü üzere doğrusal regresyon Salary bağımsız değişkeni için daha yüksek bir değer vermektedir."
   ]
  },
  {
   "cell_type": "markdown",
   "metadata": {},
   "source": [
    "İkiside aynı işlemi yapan iki farklı algoritma. Tek bir birim bazında ikisinden de bir tahmin sonucu bekledik. Bu farklılığın neden gerçekleştiğini gözlemleyeceğiz. İki modelin de oluşturduğu model denklemini üst üste koyarak bir gözlem yapalım."
   ]
  },
  {
   "cell_type": "code",
   "execution_count": 65,
   "metadata": {},
   "outputs": [
    {
     "data": {
      "text/plain": [
       "Text(0, 0.5, 'Maaş (Salary)')"
      ]
     },
     "execution_count": 65,
     "metadata": {},
     "output_type": "execute_result"
    },
    {
     "data": {
      "image/png": "[encoded data removed]",
      "text/plain": [
       "<Figure size 432x288 with 1 Axes>"
      ]
     },
     "metadata": {
      "needs_background": "light"
     },
     "output_type": "display_data"
    }
   ],
   "source": [
    "plt.scatter(X_train, y_train, alpha=0.5, s=23)\n",
    "plt.plot(X_train, lm_pred, 'g')\n",
    "plt.plot(X_train, y_pred, color='r')\n",
    "\n",
    "plt.xlabel(\"Atış Sayısı(Hits)\")\n",
    "plt.ylabel(\"Maaş (Salary)\")"
   ]
  },
  {
   "cell_type": "markdown",
   "metadata": {},
   "source": [
    "Kurmuş olduğumuz algoritmalar da lineer model daha yukarıda tahmin vermişti. Bu grafikte **yeşil** renk ile gösterilen kısım Doğrusal regresyon, **kırmızı** renk ile gösterilen ise SVR "
   ]
  },
  {
   "cell_type": "markdown",
   "metadata": {},
   "source": [
    "Bu iki doğru arasında fark olma sebebi SVR'ın **robust** olmasıdır. Aykırı gözlemler lineer modeli yani eğriyi yukarı doğru çekmektedir. SVR'da ise bu aykırı gözlemlerin etkisi düşüktür ve direnç gösterir."
   ]
  },
  {
   "cell_type": "markdown",
   "metadata": {},
   "source": [
    "#### Tahmin"
   ]
  },
  {
   "cell_type": "code",
   "execution_count": 68,
   "metadata": {},
   "outputs": [
    {
     "name": "stdout",
     "output_type": "stream",
     "text": [
      "y = -48.69756097561513 + 4.969512195122206 x\n"
     ]
    }
   ],
   "source": [
    "# sabit katsayı ve bağımsız değişken katsayısı ile modelin tahmin denklemi\n",
    "print (\"y = {0} + {1} x\".format(svr_model.intercept_[0], svr_model.coef_[0][0])) "
   ]
  },
  {
   "cell_type": "code",
   "execution_count": 70,
   "metadata": {},
   "outputs": [
    {
     "data": {
      "text/plain": [
       "array([403.52804878])"
      ]
     },
     "execution_count": 70,
     "metadata": {},
     "output_type": "execute_result"
    }
   ],
   "source": [
    "# Model içerisine bir değer koyarak tahminde bulunma \n",
    "svr_model.predict([[91]])"
   ]
  },
  {
   "cell_type": "code",
   "execution_count": 72,
   "metadata": {},
   "outputs": [
    {
     "data": {
      "text/plain": [
       "459.0187960365147"
      ]
     },
     "execution_count": 72,
     "metadata": {},
     "output_type": "execute_result"
    }
   ],
   "source": [
    "# test hatası\n",
    "y_pred = svr_model.predict(X_test)\n",
    "np.sqrt(mean_squared_error(y_test, y_pred))"
   ]
  },
  {
   "cell_type": "markdown",
   "metadata": {},
   "source": [
    "#### Model Tuning"
   ]
  },
  {
   "cell_type": "markdown",
   "metadata": {},
   "source": [
    "Burada tuned etmemiz gereken parametre C karmaşıklık(ceza) parametresidir."
   ]
  },
  {
   "cell_type": "code",
   "execution_count": 75,
   "metadata": {},
   "outputs": [],
   "source": [
    "svr_params = {'C': np.arange(0.1,2,0.1)}\n",
    "svr_cv_model = GridSearchCV(svr_model, svr_params, cv=10).fit(X_train, y_train)"
   ]
  },
  {
   "cell_type": "code",
   "execution_count": 77,
   "metadata": {},
   "outputs": [
    {
     "data": {
      "text/plain": [
       "0.1"
      ]
     },
     "execution_count": 77,
     "metadata": {},
     "output_type": "execute_result"
    }
   ],
   "source": [
    "# Önerilen en iyi parametre değeri\n",
    "svr_cv_model.best_params_\n",
    "\n",
    "# Değeri pandas series ile alma\n",
    "pd.Series(svr_cv_model.best_params_)[0]"
   ]
  },
  {
   "cell_type": "code",
   "execution_count": 78,
   "metadata": {},
   "outputs": [],
   "source": [
    "# Final modeli\n",
    "svr_tuned = SVR(\"linear\", C = pd.Series(svr_cv_model.best_params_)[0]).fit(X_train, y_train)"
   ]
  },
  {
   "cell_type": "code",
   "execution_count": 84,
   "metadata": {},
   "outputs": [
    {
     "data": {
      "text/plain": [
       "array([ 620.26418033,  674.06202459,  620.26418033,  424.63565574,\n",
       "        155.64643443,  292.58640164,  771.87628689,  683.84345082,\n",
       "        732.75058197,  297.47711475,  698.51559016,  605.59204098,\n",
       "        170.31857377,  664.28059836,  424.63565574,  507.77777869,\n",
       "        923.48839344,  312.1492541 ,  967.50481148,  512.6684918 ,\n",
       "        317.03996721, 1045.75622131,  522.44991803,  561.57562295,\n",
       "        933.26981967,  238.78855738,  708.29701639,  361.05638525,\n",
       "        287.69568852,  180.1       ,  248.56998361,  -39.98209016,\n",
       "        326.82139344,  542.01277049,  287.69568852,  400.18209016,\n",
       "        678.9527377 ,  542.01277049,   87.17645082,  214.3349918 ,\n",
       "        155.64643443,  507.77777869,  542.01277049,  493.10563934,\n",
       "        625.15489344,  678.9527377 ,  209.44427869,  488.21492623,\n",
       "        532.23134426,  742.5320082 ,  644.7177459 ,  229.00713115,\n",
       "        850.12769672,  625.15489344,  321.93068033,  727.85986885,\n",
       "        493.10563934,  297.47711475,  111.63001639,  625.15489344,\n",
       "        933.26981967,  634.93631967,  982.17695082,  326.82139344,\n",
       "        361.05638525,  214.3349918 ])"
      ]
     },
     "execution_count": 84,
     "metadata": {},
     "output_type": "execute_result"
    }
   ],
   "source": [
    "# Tuned edilmiş model üzerinden tahmin edilen y değerleri\n",
    "svr_tuned.predict(X_test)"
   ]
  },
  {
   "cell_type": "code",
   "execution_count": 85,
   "metadata": {},
   "outputs": [
    {
     "data": {
      "text/plain": [
       "433.50582685399695"
      ]
     },
     "execution_count": 85,
     "metadata": {},
     "output_type": "execute_result"
    }
   ],
   "source": [
    "# Tuned edilmiş model üzerinden test hatası hesaplama\n",
    "y_pred = svr_tuned.predict(X_test)\n",
    "np.sqrt(mean_squared_error(X_test, y_pred))"
   ]
  },
  {
   "cell_type": "markdown",
   "metadata": {},
   "source": [
    "## Doğrusal Olmayan SVR"
   ]
  },
  {
   "cell_type": "markdown",
   "metadata": {},
   "source": [
    "#### Model"
   ]
  },
  {
   "cell_type": "code",
   "execution_count": 10,
   "metadata": {},
   "outputs": [],
   "source": [
    "hit = pd.read_csv(\"Hitters.csv\")\n",
    "df = hit.copy()\n",
    "df = df.dropna()\n",
    "dms = pd.get_dummies(df[['League', 'Division', 'NewLeague']])\n",
    "y = df[\"Salary\"]\n",
    "X_ = df.drop(['Salary', 'League', 'Division', 'NewLeague'], axis=1).astype('float64')\n",
    "X = pd.concat([X_, dms[['League_N', 'Division_W', 'NewLeague_N']]], axis=1)\n",
    "X_train, X_test, y_train, y_test = train_test_split(X, y, \n",
    "                                                    test_size=0.25, \n",
    "                                                    random_state=42)"
   ]
  },
  {
   "cell_type": "code",
   "execution_count": 15,
   "metadata": {},
   "outputs": [],
   "source": [
    "# Model Kurma\n",
    "svr_rbf = SVR(\"rbf\").fit(X_train, y_train)"
   ]
  },
  {
   "cell_type": "markdown",
   "metadata": {},
   "source": [
    "#### Tahmin"
   ]
  },
  {
   "cell_type": "code",
   "execution_count": 16,
   "metadata": {},
   "outputs": [
    {
     "data": {
      "text/plain": [
       "array([467.17641555, 446.40313543, 478.61634896, 407.90736132,\n",
       "       478.21333994, 417.12254646, 409.5369652 , 406.6833667 ,\n",
       "       475.87387807, 472.35514043, 437.62371823, 470.87017269,\n",
       "       475.61088446, 409.98015887, 417.76687494, 478.43331711,\n",
       "       433.90433249, 405.3784308 , 449.34132456, 417.20961012,\n",
       "       467.52126683, 429.7970886 , 429.27433039, 425.64037296,\n",
       "       419.74184952, 403.04020294, 478.12867963, 419.46502593,\n",
       "       467.98640388, 405.00840939, 404.35642525, 402.66487856,\n",
       "       443.78645366, 412.97944034, 411.32083923, 478.8961275 ,\n",
       "       471.79125748, 410.33130924, 403.32692238, 426.9544654 ,\n",
       "       403.64557418, 404.74733617, 454.74782229, 433.10191289,\n",
       "       478.70972915, 459.9497864 , 477.55417184, 405.01026337,\n",
       "       408.92637939, 426.28903835, 472.7745124 , 446.66776352,\n",
       "       441.59170843, 412.58392272, 406.04166734, 438.41225906,\n",
       "       451.95520339, 476.94220443, 407.53571839, 475.58095683,\n",
       "       472.51311483, 420.0614604 , 453.93699692, 421.10196208,\n",
       "       478.53522976, 403.25126384])"
      ]
     },
     "execution_count": 16,
     "metadata": {},
     "output_type": "execute_result"
    }
   ],
   "source": [
    "# Test seti üzerinden tahmin edilen y bağımlı değişken değerleri\n",
    "svr_rbf.predict(X_test)"
   ]
  },
  {
   "cell_type": "code",
   "execution_count": 17,
   "metadata": {},
   "outputs": [
    {
     "data": {
      "text/plain": [
       "460.0032657244849"
      ]
     },
     "execution_count": 17,
     "metadata": {},
     "output_type": "execute_result"
    }
   ],
   "source": [
    "# Test hatası\n",
    "y_pred = svr_rbf.predict(X_test)\n",
    "np.sqrt(mean_squared_error(y_test, y_pred))"
   ]
  },
  {
   "cell_type": "markdown",
   "metadata": {},
   "source": [
    "#### Model Tuning"
   ]
  },
  {
   "cell_type": "code",
   "execution_count": 24,
   "metadata": {},
   "outputs": [
    {
     "data": {
      "text/plain": [
       "GridSearchCV(cv=10, estimator=SVR(),\n",
       "             param_grid={'C': [0.01, 0.1, 0.4, 5, 10, 20, 30, 40, 50]})"
      ]
     },
     "execution_count": 24,
     "metadata": {},
     "output_type": "execute_result"
    }
   ],
   "source": [
    "# GridSearch ile model ve parametreleri kullanarak optimum ceza parametresini bulma\n",
    "svr_params = {\"C\": [0.01, 0.1,0.4,5,10,20,30,40,50]}   # parametre seti oluşturma\n",
    "svr_cv_model = GridSearchCV(svr_rbf,svr_params, cv = 10)\n",
    "svr_cv_model.fit(X_train, y_train)"
   ]
  },
  {
   "cell_type": "code",
   "execution_count": 25,
   "metadata": {},
   "outputs": [
    {
     "data": {
      "text/plain": [
       "{'C': 50}"
      ]
     },
     "execution_count": 25,
     "metadata": {},
     "output_type": "execute_result"
    }
   ],
   "source": [
    "svr_cv_model.best_params_"
   ]
  },
  {
   "cell_type": "code",
   "execution_count": 26,
   "metadata": {},
   "outputs": [
    {
     "data": {
      "text/plain": [
       "50"
      ]
     },
     "execution_count": 26,
     "metadata": {},
     "output_type": "execute_result"
    }
   ],
   "source": [
    "pd.Series(svr_cv_model.best_params_)[0]"
   ]
  },
  {
   "cell_type": "code",
   "execution_count": 27,
   "metadata": {},
   "outputs": [],
   "source": [
    "# Final Modeli\n",
    "svr_tuned = SVR(\"rbf\", C = pd.Series(svr_cv_model.best_params_)[0]).fit(X_train, y_train)"
   ]
  },
  {
   "cell_type": "code",
   "execution_count": 29,
   "metadata": {},
   "outputs": [
    {
     "data": {
      "text/plain": [
       "array([802.04131677, 645.23557028, 839.14962266, 167.90440567,\n",
       "       827.97310997, 317.94869806, 205.70209193, 141.95252898,\n",
       "       845.36743802, 748.80827602, 565.71102494, 740.93268156,\n",
       "       774.82832687, 201.68659533, 331.4091879 , 832.13254486,\n",
       "       534.97643105, 122.96132251, 678.36149089, 315.95503716,\n",
       "       796.19638417, 490.18278807, 482.94325414, 427.50657068,\n",
       "       361.52413936,  74.12671747, 822.22950599, 354.53945377,\n",
       "       819.40287369, 117.79503797, 101.38387319,  53.05651885,\n",
       "       616.3390817 , 257.1187028 , 234.3504853 , 850.35994665,\n",
       "       756.87284025, 216.2802222 ,  80.09206766, 445.22079912,\n",
       "        88.9767928 , 114.65320112, 722.27236325, 521.57127579,\n",
       "       853.77358984, 753.90881922, 826.22056764, 118.71620185,\n",
       "       187.36542475, 446.68654298, 834.78244845, 649.34386463,\n",
       "       604.99596879, 244.57185436, 142.3527105 , 581.14481506,\n",
       "       695.93149468, 796.6878129 , 168.92606362, 796.5260448 ,\n",
       "       769.95800404, 366.24880495, 717.08683686, 377.63753616,\n",
       "       816.60057821,  80.15715265])"
      ]
     },
     "execution_count": 29,
     "metadata": {},
     "output_type": "execute_result"
    }
   ],
   "source": [
    "# Tuned edildikten sonra tahmin edilen y bağımlı değişken değerleri\n",
    "svr_tuned.predict(X_test)"
   ]
  },
  {
   "cell_type": "code",
   "execution_count": 30,
   "metadata": {},
   "outputs": [
    {
     "data": {
      "text/plain": [
       "428.00406888095694"
      ]
     },
     "execution_count": 30,
     "metadata": {},
     "output_type": "execute_result"
    }
   ],
   "source": [
    "# Test Hatası\n",
    "y_pred = svr_tuned.predict(X_test)\n",
    "np.sqrt(mean_squared_error(y_test, y_pred))"
   ]
  },
  {
   "cell_type": "markdown",
   "metadata": {},
   "source": [
    "## Yapay Sinir Ağları (Artificial Neural Networks) - YSA"
   ]
  },
  {
   "cell_type": "markdown",
   "metadata": {},
   "source": [
    "İnsan beyninin bilgi işleme şeklini referans alan sınıflandırma ve regresyon problemleri için kullanılabilen kuvvetli makine öğrenmesi algoritmalarından birisidir."
   ]
  },
  {
   "cell_type": "markdown",
   "metadata": {},
   "source": [
    "### Çok Katmanlı Algılayıcı (Multilayer Perceptron)"
   ]
  },
  {
   "cell_type": "markdown",
   "metadata": {},
   "source": [
    "#### Model"
   ]
  },
  {
   "cell_type": "code",
   "execution_count": 2,
   "metadata": {},
   "outputs": [],
   "source": [
    "hit = pd.read_csv(\"Hitters.csv\")\n",
    "df = hit.copy()\n",
    "df = df.dropna()\n",
    "dms = pd.get_dummies(df[['League', 'Division', 'NewLeague']])\n",
    "y = df[\"Salary\"]\n",
    "X_ = df.drop(['Salary', 'League', 'Division', 'NewLeague'], axis=1).astype('float64')\n",
    "X = pd.concat([X_, dms[['League_N', 'Division_W', 'NewLeague_N']]], axis=1)\n",
    "X_train, X_test, y_train, y_test = train_test_split(X, y, \n",
    "                                                    test_size=0.25,\n",
    "                                                    random_state=42)"
   ]
  },
  {
   "cell_type": "code",
   "execution_count": 3,
   "metadata": {},
   "outputs": [],
   "source": [
    "from sklearn.preprocessing import StandardScaler"
   ]
  },
  {
   "cell_type": "code",
   "execution_count": 4,
   "metadata": {},
   "outputs": [
    {
     "data": {
      "text/plain": [
       "StandardScaler()"
      ]
     },
     "execution_count": 4,
     "metadata": {},
     "output_type": "execute_result"
    }
   ],
   "source": [
    "# Dönüştürme işlemi\n",
    "scaler = StandardScaler()\n",
    "scaler.fit(X_train)"
   ]
  },
  {
   "cell_type": "code",
   "execution_count": 5,
   "metadata": {},
   "outputs": [],
   "source": [
    "X_train_scaled = scaler.transform(X_train)"
   ]
  },
  {
   "cell_type": "code",
   "execution_count": 87,
   "metadata": {},
   "outputs": [],
   "source": [
    "X_test_scaled = scaler.transform(X_test)"
   ]
  },
  {
   "cell_type": "code",
   "execution_count": 94,
   "metadata": {},
   "outputs": [],
   "source": [
    "# Model Kurma\n",
    "from sklearn.neural_network import MLPRegressor\n",
    "mlp_model = MLPRegressor(hidden_layer_sizes = (100,20)).fit(X_train_scaled, y_train)"
   ]
  },
  {
   "cell_type": "code",
   "execution_count": 95,
   "metadata": {},
   "outputs": [
    {
     "data": {
      "text/plain": [
       "4"
      ]
     },
     "execution_count": 95,
     "metadata": {},
     "output_type": "execute_result"
    }
   ],
   "source": [
    "# Katman sayısına ulaşma    -- Girdi,Gizli,Çıktı Katmanları\n",
    "mlp_model.n_layers_"
   ]
  },
  {
   "cell_type": "code",
   "execution_count": 96,
   "metadata": {},
   "outputs": [
    {
     "data": {
      "text/plain": [
       "(100, 20)"
      ]
     },
     "execution_count": 96,
     "metadata": {},
     "output_type": "execute_result"
    }
   ],
   "source": [
    "# Gizli katman içerisindeki eleman sayısı \n",
    "mlp_model.hidden_layer_sizes"
   ]
  },
  {
   "cell_type": "markdown",
   "metadata": {},
   "source": [
    "#### Tahmin"
   ]
  },
  {
   "cell_type": "code",
   "execution_count": 99,
   "metadata": {},
   "outputs": [
    {
     "data": {
      "text/plain": [
       "array([ 52.41579922, 339.8434854 , 206.56619383,  37.82690351,\n",
       "        36.70113449])"
      ]
     },
     "execution_count": 99,
     "metadata": {},
     "output_type": "execute_result"
    }
   ],
   "source": [
    "mlp_model.predict(X_train_scaled) [0:5]"
   ]
  },
  {
   "cell_type": "code",
   "execution_count": 114,
   "metadata": {},
   "outputs": [
    {
     "data": {
      "text/plain": [
       "496.83668622707864"
      ]
     },
     "execution_count": 114,
     "metadata": {},
     "output_type": "execute_result"
    }
   ],
   "source": [
    "# Test hatası\n",
    "y_pred = mlp_model.predict(X_test_scaled)\n",
    "np.sqrt(mean_squared_error(y_test, y_pred))"
   ]
  },
  {
   "cell_type": "markdown",
   "metadata": {},
   "source": [
    "#### Model Tuning"
   ]
  },
  {
   "cell_type": "markdown",
   "metadata": {},
   "source": [
    "Bir yapay sinir ağı modeli kurmak istediğimizde gizli katman sayısını ifade etmenin yolu bu argümana katmanların eleman sayısını girmektir. Her bir yeni eleman sayısı ekleme işlemi yapıldığında bunu katman eklenmesi oalrak algılar. "
   ]
  },
  {
   "cell_type": "code",
   "execution_count": 102,
   "metadata": {},
   "outputs": [],
   "source": [
    "# Deneme parametreleri oluşturma\n",
    "mlp_params = {\"alpha\": [0.1, 0.01, 0.02, 0.005],\n",
    "              \"hidden_layer_sizes\": [(20,20),(100,50,150),(300,200,150)],\n",
    "               \"activation\":[\"relu\",\"logistic\"]}"
   ]
  },
  {
   "cell_type": "code",
   "execution_count": 104,
   "metadata": {},
   "outputs": [],
   "source": [
    "# Model Oluşturma \n",
    "mlp_cv_model = GridSearchCV(mlp_model, mlp_params, cv=10)"
   ]
  },
  {
   "cell_type": "code",
   "execution_count": 105,
   "metadata": {},
   "outputs": [
    {
     "data": {
      "text/plain": [
       "GridSearchCV(cv=10, estimator=MLPRegressor(hidden_layer_sizes=(100, 20)),\n",
       "             param_grid={'activation': ['relu', 'logistic'],\n",
       "                         'alpha': [0.1, 0.01, 0.02, 0.005],\n",
       "                         'hidden_layer_sizes': [(20, 20), (100, 50, 150),\n",
       "                                                (300, 200, 150)]})"
      ]
     },
     "execution_count": 105,
     "metadata": {},
     "output_type": "execute_result"
    }
   ],
   "source": [
    "mlp_cv_model.fit(X_train_scaled, y_train)"
   ]
  },
  {
   "cell_type": "code",
   "execution_count": 108,
   "metadata": {},
   "outputs": [
    {
     "data": {
      "text/plain": [
       "{'activation': 'relu', 'alpha': 0.02, 'hidden_layer_sizes': (100, 50, 150)}"
      ]
     },
     "execution_count": 108,
     "metadata": {},
     "output_type": "execute_result"
    }
   ],
   "source": [
    "# Optimum parametleri seçme işlemi\n",
    "mlp_cv_model.best_params_"
   ]
  },
  {
   "cell_type": "code",
   "execution_count": 110,
   "metadata": {},
   "outputs": [],
   "source": [
    "# Final Modeli\n",
    "mlp_tuned = MLPRegressor(alpha = 0.02, hidden_layer_sizes = (100, 50, 150))"
   ]
  },
  {
   "cell_type": "code",
   "execution_count": 112,
   "metadata": {},
   "outputs": [
    {
     "data": {
      "text/plain": [
       "MLPRegressor(alpha=0.02, hidden_layer_sizes=(100, 50, 150))"
      ]
     },
     "execution_count": 112,
     "metadata": {},
     "output_type": "execute_result"
    }
   ],
   "source": [
    "mlp_tuned.fit(X_train_scaled, y_train)"
   ]
  },
  {
   "cell_type": "code",
   "execution_count": 113,
   "metadata": {},
   "outputs": [
    {
     "data": {
      "text/plain": [
       "365.502377527701"
      ]
     },
     "execution_count": 113,
     "metadata": {},
     "output_type": "execute_result"
    }
   ],
   "source": [
    "# Test hatası\n",
    "y_pred = mlp_tuned.predict(X_test_scaled)\n",
    "np.sqrt(mean_squared_error(y_test, y_pred))"
   ]
  },
  {
   "cell_type": "markdown",
   "metadata": {},
   "source": [
    "## Classification and Regression Tree(CART)"
   ]
  },
  {
   "cell_type": "markdown",
   "metadata": {},
   "source": [
    "Sınıflandırma ve regresyon ağaçlarından **amaç**, veri seti içerisindeki karmaşık yapıları basit karar yapılarına dönüştürmekdir.Heterojen veri setleri belirlenmiş bir hedef değişkene göre homojen alt gruplara ayrılır."
   ]
  },
  {
   "cell_type": "markdown",
   "metadata": {},
   "source": [
    "#### Model"
   ]
  },
  {
   "cell_type": "code",
   "execution_count": 2,
   "metadata": {},
   "outputs": [],
   "source": [
    "hit = pd.read_csv(\"Hitters.csv\")\n",
    "df = hit.copy()\n",
    "df = df.dropna()\n",
    "dms = pd.get_dummies(df[['League', 'Division', 'NewLeague']])\n",
    "y = df[\"Salary\"]\n",
    "X_ = df.drop(['Salary', 'League', 'Division', 'NewLeague'], axis=1).astype('float64')\n",
    "X = pd.concat([X_, dms[['League_N', 'Division_W', 'NewLeague_N']]], axis=1)\n",
    "X_train, X_test, y_train, y_test = train_test_split(X, y, \n",
    "                                                    test_size=0.25, \n",
    "                                                    random_state=42)"
   ]
  },
  {
   "cell_type": "code",
   "execution_count": 3,
   "metadata": {},
   "outputs": [],
   "source": [
    "X_train = pd.DataFrame(X_train[\"Hits\"])\n",
    "X_test = pd.DataFrame(X_test[\"Hits\"])"
   ]
  },
  {
   "cell_type": "code",
   "execution_count": 4,
   "metadata": {},
   "outputs": [
    {
     "data": {
      "text/plain": [
       "DecisionTreeRegressor(max_leaf_nodes=10)"
      ]
     },
     "execution_count": 4,
     "metadata": {},
     "output_type": "execute_result"
    }
   ],
   "source": [
    "# Model Oluşturma\n",
    "from sklearn.tree import DecisionTreeRegressor, DecisionTreeClassifier\n",
    "cart_model = DecisionTreeRegressor(max_leaf_nodes = 10)\n",
    "cart_model.fit(X_train, y_train)"
   ]
  },
  {
   "cell_type": "code",
   "execution_count": 19,
   "metadata": {},
   "outputs": [],
   "source": [
    "# Dallanmaların ve kırılmaların örnek görselleştirmesi"
   ]
  },
  {
   "cell_type": "code",
   "execution_count": 5,
   "metadata": {},
   "outputs": [
    {
     "data": {
      "image/png": "[encoded data removed]",
      "text/plain": [
       "<Figure size 432x288 with 1 Axes>"
      ]
     },
     "metadata": {
      "needs_background": "light"
     },
     "output_type": "display_data"
    }
   ],
   "source": [
    "X_grid = np.arange(min(np.array(X_train)),max(np.array(X_train)), 0.01) \n",
    "X_grid = X_grid.reshape((len(X_grid), 1))  \n",
    "plt.scatter(X_train, y_train, color = 'red') \n",
    "plt.plot(X_grid, cart_model.predict(X_grid), color = 'blue')  \n",
    "plt.title('CART REGRESON AĞACI')  \n",
    "plt.xlabel('Atış Sayısı(Hits)') \n",
    "plt.ylabel('Maaş (Salary)') ;"
   ]
  },
  {
   "cell_type": "markdown",
   "metadata": {},
   "source": [
    "**Oluşturduğumuz model içerisindeki max_leaf_nodes argümanın değiştirerek model üzerindeki bölme işlemlerini görebiliriz.** Bizim burdaki amacımız algoritma da bu parametreyi optimum değerde olması gerektiği bilgisini bulmaktır."
   ]
  },
  {
   "cell_type": "code",
   "execution_count": 23,
   "metadata": {},
   "outputs": [],
   "source": [
    "# Ağacın oluşturduğu kural setini üretme"
   ]
  },
  {
   "cell_type": "code",
   "execution_count": 21,
   "metadata": {
    "collapsed": true,
    "jupyter": {
     "outputs_hidden": true
    }
   },
   "outputs": [
    {
     "name": "stdout",
     "output_type": "stream",
     "text": [
      "Requirement already satisfied: skompiler in c:\\users\\resul\\anaconda3\\lib\\site-packages (0.5.5)\n",
      "Requirement already satisfied: scikit-learn in c:\\users\\resul\\anaconda3\\lib\\site-packages (from skompiler) (0.23.2)\n",
      "Requirement already satisfied: threadpoolctl>=2.0.0 in c:\\users\\resul\\anaconda3\\lib\\site-packages (from scikit-learn->skompiler) (2.1.0)\n",
      "Requirement already satisfied: numpy>=1.13.3 in c:\\users\\resul\\anaconda3\\lib\\site-packages (from scikit-learn->skompiler) (1.19.2)\n",
      "Requirement already satisfied: scipy>=0.19.1 in c:\\users\\resul\\anaconda3\\lib\\site-packages (from scikit-learn->skompiler) (1.5.2)\n",
      "Requirement already satisfied: joblib>=0.11 in c:\\users\\resul\\anaconda3\\lib\\site-packages (from scikit-learn->skompiler) (0.17.0)\n",
      "Note: you may need to restart the kernel to use updated packages.\n"
     ]
    }
   ],
   "source": [
    "pip install skompiler"
   ]
  },
  {
   "cell_type": "code",
   "execution_count": 7,
   "metadata": {},
   "outputs": [],
   "source": [
    "from skompiler import skompile"
   ]
  },
  {
   "cell_type": "code",
   "execution_count": 20,
   "metadata": {
    "collapsed": true,
    "jupyter": {
     "outputs_hidden": true
    }
   },
   "outputs": [
    {
     "name": "stdout",
     "output_type": "stream",
     "text": [
      "Collecting astor\n",
      "  Downloading astor-0.8.1-py2.py3-none-any.whl (27 kB)\n",
      "Installing collected packages: astor\n",
      "Successfully installed astor-0.8.1\n",
      "Note: you may need to restart the kernel to use updated packages.\n"
     ]
    }
   ],
   "source": [
    "pip install astor"
   ]
  },
  {
   "cell_type": "code",
   "execution_count": 8,
   "metadata": {},
   "outputs": [
    {
     "name": "stdout",
     "output_type": "stream",
     "text": [
      "(345.2011551724138 if x[0] <= 117.5 else ((((1300.0 if x[0] <= 118.5 else \n",
      "    641.0) if x[0] <= 122.5 else 1468.5236666666667) if x[0] <= 125.5 else \n",
      "    621.9679230769232) if x[0] <= 143.0 else (958.6111111111111 if x[0] <= \n",
      "    150.5 else 2460.0) if x[0] <= 151.5 else 499.1666666666667 if x[0] <= \n",
      "    157.5 else 892.5402413793104) if x[0] <= 225.5 else 1975.0)\n",
      "\n"
     ]
    }
   ],
   "source": [
    "print(skompile(cart_model.predict).to('python/code'))"
   ]
  },
  {
   "cell_type": "markdown",
   "metadata": {},
   "source": [
    "Yukarıdaki çıktı karar ağacının karar modelidir.Bu kural yerleştirildiğinde buraya gelecek olan x değerleri neticesinde bir tahmin etme işlmei gerçekleşmiş olacaktır."
   ]
  },
  {
   "cell_type": "markdown",
   "metadata": {},
   "source": [
    "#### Tahmin"
   ]
  },
  {
   "cell_type": "code",
   "execution_count": 24,
   "metadata": {},
   "outputs": [],
   "source": [
    "x = [91]"
   ]
  },
  {
   "cell_type": "code",
   "execution_count": 25,
   "metadata": {},
   "outputs": [
    {
     "data": {
      "text/plain": [
       "345.2011551724138"
      ]
     },
     "execution_count": 25,
     "metadata": {},
     "output_type": "execute_result"
    }
   ],
   "source": [
    "(345.2011551724138 if x[0] <= 117.5 else ((((1300.0 if x[0] <= 118.5 else \n",
    "    641.0) if x[0] <= 122.5 else 1468.5236666666667) if x[0] <= 125.5 else \n",
    "    621.9679230769232) if x[0] <= 143.0 else (958.6111111111111 if x[0] <= \n",
    "    150.5 else 2460.0) if x[0] <= 151.5 else 499.1666666666667 if x[0] <= \n",
    "    157.5 else 892.5402413793104) if x[0] <= 225.5 else 1975.0)"
   ]
  },
  {
   "cell_type": "code",
   "execution_count": 9,
   "metadata": {},
   "outputs": [
    {
     "data": {
      "text/plain": [
       "array([621.96792308, 958.61111111, 621.96792308, 345.20115517,\n",
       "       345.20115517])"
      ]
     },
     "execution_count": 9,
     "metadata": {},
     "output_type": "execute_result"
    }
   ],
   "source": [
    "cart_model.predict(X_test)[0:5]"
   ]
  },
  {
   "cell_type": "code",
   "execution_count": 10,
   "metadata": {},
   "outputs": [
    {
     "data": {
      "text/plain": [
       "array([345.20115517])"
      ]
     },
     "execution_count": 10,
     "metadata": {},
     "output_type": "execute_result"
    }
   ],
   "source": [
    "cart_model.predict([[91]])"
   ]
  },
  {
   "cell_type": "code",
   "execution_count": 11,
   "metadata": {},
   "outputs": [
    {
     "data": {
      "text/plain": [
       "486.34593105235456"
      ]
     },
     "execution_count": 11,
     "metadata": {},
     "output_type": "execute_result"
    }
   ],
   "source": [
    "# Test hatası\n",
    "y_pred = cart_model.predict(X_test)\n",
    "np.sqrt(mean_squared_error(y_test, y_pred))"
   ]
  },
  {
   "cell_type": "markdown",
   "metadata": {},
   "source": [
    "#### Model Tuning"
   ]
  },
  {
   "cell_type": "code",
   "execution_count": 19,
   "metadata": {},
   "outputs": [],
   "source": [
    "# Modelimizi bir önüne getirelim ve bazı parametreli değiştirerek neler olacağını gözlemleyelim\n",
    "cart_model = DecisionTreeRegressor(max_leaf_nodes = 15)\n",
    "cart_model.fit(X_train, y_train)\n",
    "y_pred = cart_model.predict(X_test)"
   ]
  },
  {
   "cell_type": "code",
   "execution_count": 20,
   "metadata": {},
   "outputs": [
    {
     "data": {
      "text/plain": [
       "455.8367349677217"
      ]
     },
     "execution_count": 20,
     "metadata": {},
     "output_type": "execute_result"
    }
   ],
   "source": [
    "np.sqrt(mean_squared_error(y_test, y_pred))"
   ]
  },
  {
   "cell_type": "markdown",
   "metadata": {},
   "source": [
    "max_leaf_nodes sayımız başlangıçta model kurarken rastgele olarak 10 vermiştik ve test hatası olarak 469 değerini almıştık.Burada görüleceği üzere max_leaf_nodes sayısını 15 yaptığımızda test hata değermimiz 455 oldu."
   ]
  },
  {
   "cell_type": "code",
   "execution_count": 25,
   "metadata": {},
   "outputs": [],
   "source": [
    "# İlave bir paremetre daha ekleyerek değişime bakalım\n",
    "cart_model = DecisionTreeRegressor(max_leaf_nodes = 15, min_samples_split = 10)\n",
    "cart_model.fit(X_train, y_train)\n",
    "y_pred = cart_model.predict(X_test)"
   ]
  },
  {
   "cell_type": "code",
   "execution_count": 26,
   "metadata": {},
   "outputs": [
    {
     "data": {
      "text/plain": [
       "458.44092458608196"
      ]
     },
     "execution_count": 26,
     "metadata": {},
     "output_type": "execute_result"
    }
   ],
   "source": [
    "np.sqrt(mean_squared_error(y_test, y_pred))"
   ]
  },
  {
   "cell_type": "markdown",
   "metadata": {},
   "source": [
    "Yukarıdaki parametre değerlerini değiştirdiğimiz de test hatasının değerinin değiştiğini göreceğiz."
   ]
  },
  {
   "cell_type": "markdown",
   "metadata": {},
   "source": [
    "**Şimdi optimum parametre değerlerini bulmak için GridSearch ile Cross-Validation işlemi yapacağız.**"
   ]
  },
  {
   "cell_type": "code",
   "execution_count": 30,
   "metadata": {},
   "outputs": [],
   "source": [
    "cart_params = {\"min_samples_split\": range(2,100),\n",
    "               \"max_leaf_nodes\": range(2,10)}"
   ]
  },
  {
   "cell_type": "code",
   "execution_count": 31,
   "metadata": {},
   "outputs": [],
   "source": [
    "cart_cv_model = GridSearchCV(cart_model, cart_params, cv=10)"
   ]
  },
  {
   "cell_type": "code",
   "execution_count": 34,
   "metadata": {},
   "outputs": [
    {
     "data": {
      "text/plain": [
       "GridSearchCV(cv=10,\n",
       "             estimator=DecisionTreeRegressor(max_leaf_nodes=15,\n",
       "                                             min_samples_split=10),\n",
       "             param_grid={'max_leaf_nodes': range(2, 10),\n",
       "                         'min_samples_split': range(2, 100)})"
      ]
     },
     "execution_count": 34,
     "metadata": {},
     "output_type": "execute_result"
    }
   ],
   "source": [
    "cart_cv_model.fit(X_train, y_train)"
   ]
  },
  {
   "cell_type": "code",
   "execution_count": null,
   "metadata": {},
   "outputs": [],
   "source": [
    "cart_cv_model.best_params_"
   ]
  },
  {
   "cell_type": "code",
   "execution_count": 35,
   "metadata": {},
   "outputs": [],
   "source": [
    "# Final Modeli\n",
    "cart_tuned = DecisionTreeRegressor(max_leaf_nodes = 9, min_samples_split = 76)"
   ]
  },
  {
   "cell_type": "code",
   "execution_count": 36,
   "metadata": {},
   "outputs": [
    {
     "data": {
      "text/plain": [
       "DecisionTreeRegressor(max_leaf_nodes=9, min_samples_split=76)"
      ]
     },
     "execution_count": 36,
     "metadata": {},
     "output_type": "execute_result"
    }
   ],
   "source": [
    "cart_tuned.fit(X_train, y_train)"
   ]
  },
  {
   "cell_type": "code",
   "execution_count": 38,
   "metadata": {},
   "outputs": [
    {
     "data": {
      "text/plain": [
       "423.406689243066"
      ]
     },
     "execution_count": 38,
     "metadata": {},
     "output_type": "execute_result"
    }
   ],
   "source": [
    "# Test Hatası\n",
    "y_pred = cart_tuned.predict(X_test)\n",
    "np.sqrt(mean_squared_error(y_test, y_pred))"
   ]
  },
  {
   "cell_type": "markdown",
   "metadata": {},
   "source": [
    "Tek değişken üzerine kurmuş olduğumuz algoritmada iyileştirilmiş test hatası değeri budur. Tüm değişkeleri kullanarak bir işlem yaptığımızda açıklanabilirlik ve test hatası değeri değişkenlik gösterecektir."
   ]
  },
  {
   "cell_type": "markdown",
   "metadata": {},
   "source": [
    "## Bagged Trees"
   ]
  },
  {
   "cell_type": "markdown",
   "metadata": {},
   "source": [
    "**Bagging:**Temeli bootstrap yöntemi ile oluşturulan birden fazla karar ağacının ürettiğini tahminlerin bir araya getirilerek değerlendirilmesine dayanır."
   ]
  },
  {
   "cell_type": "markdown",
   "metadata": {},
   "source": [
    "### Topluluk Öğrenme Yöntemleri\n",
    "**Internal:**Modellerin kendi içerisinde topluluk öğrenme yapısını taşımasıdır.Kendi içinde birden fazla ağaç bulunmasıdır.\n",
    "\n",
    "**External**:Bir den farklı algoritmaların bir araya gelip bu algoritmaların beraber bir modelleme problemi üzerinde çalışmasıdır."
   ]
  },
  {
   "cell_type": "markdown",
   "metadata": {},
   "source": [
    "#### Model"
   ]
  },
  {
   "cell_type": "code",
   "execution_count": 53,
   "metadata": {},
   "outputs": [],
   "source": [
    "hit = pd.read_csv(\"Hitters.csv\")\n",
    "df = hit.copy()\n",
    "df = df.dropna()\n",
    "dms = pd.get_dummies(df[['League', 'Division', 'NewLeague']])\n",
    "y = df[\"Salary\"]\n",
    "X_ = df.drop(['Salary', 'League', 'Division', 'NewLeague'], axis=1).astype('float64')\n",
    "X = pd.concat([X_, dms[['League_N', 'Division_W', 'NewLeague_N']]], axis=1)\n",
    "X_train, X_test, y_train, y_test = train_test_split(X, y, \n",
    "                                                    test_size=0.25, \n",
    "                                                    random_state=42)"
   ]
  },
  {
   "cell_type": "code",
   "execution_count": 54,
   "metadata": {},
   "outputs": [
    {
     "data": {
      "text/plain": [
       "BaggingRegressor(bootstrap_features=True)"
      ]
     },
     "execution_count": 54,
     "metadata": {},
     "output_type": "execute_result"
    }
   ],
   "source": [
    "# Model Kurma\n",
    "from sklearn.ensemble import BaggingRegressor\n",
    "bag_model = BaggingRegressor(bootstrap_features = True)\n",
    "bag_model.fit(X_train, y_train)"
   ]
  },
  {
   "cell_type": "markdown",
   "metadata": {},
   "source": [
    "Model içindeki otomatik parametrelerden n_estimators parametresi birbirinden farklı oluşturulan ağaçları ifade etmektedir."
   ]
  },
  {
   "cell_type": "code",
   "execution_count": 43,
   "metadata": {},
   "outputs": [
    {
     "data": {
      "text/plain": [
       "[DecisionTreeRegressor(random_state=584355877),\n",
       " DecisionTreeRegressor(random_state=912744435),\n",
       " DecisionTreeRegressor(random_state=1087092102),\n",
       " DecisionTreeRegressor(random_state=1265543213),\n",
       " DecisionTreeRegressor(random_state=255610307),\n",
       " DecisionTreeRegressor(random_state=1476844017),\n",
       " DecisionTreeRegressor(random_state=320598283),\n",
       " DecisionTreeRegressor(random_state=1734224081),\n",
       " DecisionTreeRegressor(random_state=821586387),\n",
       " DecisionTreeRegressor(random_state=306091249)]"
      ]
     },
     "execution_count": 43,
     "metadata": {},
     "output_type": "execute_result"
    }
   ],
   "source": [
    "# Model içindeki birbirinden farklı olan ağaçlar\n",
    "bag_model.estimators_"
   ]
  },
  {
   "cell_type": "code",
   "execution_count": 44,
   "metadata": {
    "collapsed": true,
    "jupyter": {
     "outputs_hidden": true
    }
   },
   "outputs": [
    {
     "data": {
      "text/plain": [
       "[array([ 34,  64, 154,  48,  35, 123, 128,  90, 190,  70,  46,  13,  11,\n",
       "        180,  53,  55, 141, 166, 167, 186,  55,   1, 132,  13,  37, 126,\n",
       "         65,  29,  43,  74,  72,  89, 188,  46, 129, 191, 188, 137,  95,\n",
       "         31,  26,  98, 174, 119,  91,  98,  41, 106, 112,  19,  26,  76,\n",
       "        110, 140, 172,  87, 131,  91,  75, 144,  62, 188,  32,  28, 182,\n",
       "         95,  23, 112, 158, 170, 133,  73,  81, 127, 116, 152,  21, 138,\n",
       "         65, 130,  10,   3, 109, 114,  53, 116,  96, 100,  80, 125, 137,\n",
       "         67, 147, 136, 195, 148, 110,  93,  62, 192,  75,  18,  82, 175,\n",
       "         21, 135,  22, 173,  45, 131, 186, 102, 102,  35,  21,  56,  55,\n",
       "         42,  72,  82,  84,  31, 153,  99,  49, 118, 143,  32, 112, 101,\n",
       "        139,  19,  38, 140,  60,  83, 171, 138,  29, 156, 147, 148,  80,\n",
       "         17,  60, 173, 174,  60, 188,  18, 180, 101,  48, 169,  11, 175,\n",
       "        159,  85, 172,  37,  35,  49, 144,  58,  10,  93, 195,  13, 113,\n",
       "        139,  89,  40, 196,  64,  42,  62,  22,  93,   7, 172, 136,  43,\n",
       "         40, 191, 182,  66,  87,  22, 178,  25, 178,  15,  61, 145, 180,\n",
       "         32, 149]),\n",
       " array([193, 154, 150, 115, 136,  66,  82, 102, 143,  84, 195,   2,  36,\n",
       "        170, 162, 141, 108,  57,  16,  40, 104,  83, 122, 146,  45, 141,\n",
       "        115, 144, 192, 187, 158, 172, 181,  81, 108, 122, 145, 103, 121,\n",
       "        173,  49,  90,  60,  48, 186,  88,  62, 179,   7,   1, 134,  48,\n",
       "        138,  87,  59,  63,   1,  74,  31, 129,  12,  98,  75, 119,  55,\n",
       "        173,  75,  33, 189,  75, 118,  31, 182,  97,  34, 102,  86, 108,\n",
       "          9,  25,  71, 180, 123, 165,  81,  69, 153,  70, 106,  61,  97,\n",
       "        166, 190,  86, 180,  54,  30,  76,  27,  11, 152, 144, 164,  91,\n",
       "        102,  81, 116, 173,  47, 104, 130, 128,  84,  49, 190, 133,  17,\n",
       "        166, 164,   4, 157, 112, 103,  63, 117, 181, 195, 127, 106, 146,\n",
       "        106,  20,  92,  67, 144, 174, 158,   0, 106, 138, 117, 176, 133,\n",
       "         57, 152, 165, 150,  42,  38, 196,  10, 133, 189,  94, 118,  95,\n",
       "          5, 174,  33,  16,  12,  43, 106,  12,  38, 128,   5, 196,  95,\n",
       "        186, 178, 194,  89, 189, 186,   6,  17,  59,  13,  47, 165, 113,\n",
       "         64,  33,  93,  10,  16,  97, 133,  25, 143, 176, 131, 109,  39,\n",
       "         25,  88]),\n",
       " array([ 47,  46, 124,  22, 131, 113,  91,  75, 161, 101, 131, 194, 114,\n",
       "         23,  69,  72, 131, 112, 116,  80,  15, 132, 127, 184, 160,  18,\n",
       "         15, 169,  69, 189,  85, 114, 102, 188, 129,  70,  32,  17, 158,\n",
       "         44,  39, 147,  62, 107, 183, 162,  66, 102,  58, 117,  71, 172,\n",
       "        169, 129,  95, 186, 170,  21,  19,  63,  84, 157,   1, 117, 124,\n",
       "        173, 178, 179,   4, 194, 113,  19, 175, 143,  84,  78,  73, 173,\n",
       "         33,  58, 150, 141, 145, 138,  27,  94, 176,  55, 134,  31, 181,\n",
       "        148, 158,  48,  47, 179,  20, 100,   0,  77,  40, 169, 132,  79,\n",
       "         62,  25,  53, 120,  89,  99,  42,  10,   1, 111, 131, 127,  74,\n",
       "        148,  47,  50,  84,  28,  93,   8, 191, 121, 182,  28, 125, 139,\n",
       "        119, 177,  78, 118,  53,  77,  98,  73,  27,  28,  33,  95, 189,\n",
       "        195, 156,   2, 141,  86,  69,  64,  28,  45, 110,  44, 113,  84,\n",
       "        123, 126, 128,  28,  69,  50, 191, 145,  20,  45,  57,  74,  75,\n",
       "         27,  20,  86,   1,  27, 190,  61,  37,  42, 196,  39,  77, 166,\n",
       "         64, 133,  20,  29,  74, 154, 177,  33,  89,  91,  91, 142, 188,\n",
       "         66,  88]),\n",
       " array([147,  55,  99, 143, 120,   8,  28, 104,  24,  27,  26, 149, 138,\n",
       "         51, 159,  86,  38, 165, 123, 115, 106,  11, 185, 136, 187, 109,\n",
       "         50, 161,  28,  11,  42,  77, 168, 178, 189, 146,  88,  56, 128,\n",
       "         50,  84,  44,  24, 128, 160,  41,  91, 179,  80, 155,  54, 109,\n",
       "        123, 189, 159,  15, 109, 185,  13,   2,  28,  73, 139,   8, 113,\n",
       "         98,  83, 146,  57,  53,   0, 115,  25, 119, 123, 153, 192,  17,\n",
       "        177,   1, 187, 125,  57, 170,  71, 139, 172, 154, 108, 181,   0,\n",
       "        154, 141,  40, 191, 155, 181, 138,  81,   6,  83, 177,  83,  50,\n",
       "         11, 123, 165,  35,  90, 195,  93,  29,  94, 118,  84, 177, 101,\n",
       "        134, 118,  87,  11,  68,  87,  77,  31, 162, 164,  11, 145,  60,\n",
       "         16,  77,  91, 154, 142, 132, 132,  23, 142,  54,  95,  18, 175,\n",
       "        106,  78,  42, 177, 145,  91, 106,  17, 176,  85, 163,  78,  84,\n",
       "        127, 119,   7,  31,  46,  23, 121,  14, 107,  52,  50, 109,  80,\n",
       "         57, 174, 114, 181, 104,  65, 105,  30,  96,  93, 140, 107,  38,\n",
       "         83,  42,   3, 140,  87, 148, 127, 122, 164,  88,   4, 156,  73,\n",
       "         43,  59]),\n",
       " array([182,  58,  95,   7,  48, 183, 112,  36, 102,   5,  27,  34,  78,\n",
       "         16,  34, 152,  37,   4, 153,  65,  67, 134, 134,  52,  96,  49,\n",
       "        166,  93,  94, 176,  87, 118, 192, 168, 175, 120, 144, 107,  70,\n",
       "        181, 123,  93, 167,   5,  44, 111, 189,  73,  94, 105,  39,  97,\n",
       "        106, 103,  99,  75, 117,  58, 125,  96,  44, 181, 151,  55, 190,\n",
       "         56,  21, 173,  69, 101, 140, 183, 181, 147, 179,  76,  51,  39,\n",
       "         88,  17, 162, 127,  45, 125,  28, 166, 143, 120,  56,  26, 169,\n",
       "         38,   5,  66,  67, 114,  93,  31, 132, 105,  36, 103, 145, 161,\n",
       "         59, 156, 104,  28, 189, 140,  95,  88,  28, 153, 187,  89, 151,\n",
       "        115, 179, 137, 156,  48, 151,  37,  27,  69, 163,  98,  43, 179,\n",
       "         88,  72,  86,  91,  68, 117,  17, 171,  52,  36,  26, 185,  16,\n",
       "        186,  16,  90,  59, 190,   3,  65,  38, 149,  88, 153, 191,  46,\n",
       "        120,  97, 193,  16,  66,  74, 166, 147, 136, 112, 167,  52,  31,\n",
       "        128, 132,  77, 151, 150, 181, 126,  71, 122,  25,  63,  89,  51,\n",
       "         76, 154, 141, 121, 138, 177,  54, 176,  74,   0,   2, 104,  17,\n",
       "         47,  25]),\n",
       " array([147, 153, 124,  72, 180, 129, 145, 167, 103,  55, 172,   8, 100,\n",
       "         16,  66, 170,  99, 171, 113,  67,  61, 100,  74, 177,  39,  15,\n",
       "         13,  37, 135,  90, 120,  72,  63,  71, 149,   0, 101, 164,   0,\n",
       "        127,  93, 129,  27, 134, 145, 142,  44,  55,   8, 144, 163,  14,\n",
       "         42,  40,  41,  78,  67, 123, 133,  91,  64,  85,  33,  75,  36,\n",
       "        177,  55, 143,  82,  86, 156, 105,  69, 100,  38,  65, 149,  31,\n",
       "         93,  39, 149,  93,  68,  84, 179,  56, 121,  53,  17,  69,  97,\n",
       "         57, 193,  15, 139, 149, 136, 151, 173,  18,  84,   8,  41,  52,\n",
       "        115,  61,  19, 196, 185,  55,  19, 110,   3,  38,  20, 138, 187,\n",
       "        106,  75,  93,  18, 154, 113, 163,  39,  61, 141,  74,  19, 184,\n",
       "         65,  81, 152, 110,  43, 142,  12,  16, 173, 145,  38, 123,  98,\n",
       "         23, 145,  32,  60,  42,  51,  92, 172,  20,  64,  69, 189, 147,\n",
       "        178, 164,  38,  91, 183,  40,  20,  45,  70, 190, 163,  82,  66,\n",
       "        149,   2,  22,  99, 164,  30,   3, 160, 192, 174, 147, 156,  94,\n",
       "         27, 176, 147, 111, 149, 142,  12, 130, 187, 159, 186, 101, 138,\n",
       "         81,  55]),\n",
       " array([ 24, 136,  55, 162,  26,  85, 169, 166,   9,  88, 178,  33, 122,\n",
       "         25, 110, 110,  26,  47, 138,  64,  19, 187, 137,  62,  32,  76,\n",
       "        158,  78, 146,  43,  62,  44,  38, 152, 174,  70,  70,  21, 166,\n",
       "         66,   8,  51,  70, 137, 101, 170,  20,  79,   3,  33,  74,  28,\n",
       "         65,  44, 155, 196,  41, 183,  92,  95,  62,  22, 105, 101,  80,\n",
       "         78, 175, 184, 167,  99,  99, 156,  42,  18, 131,  12, 187, 184,\n",
       "        134, 141, 134, 169,  54,  31, 135,  32,  89,  69, 141, 174,  48,\n",
       "        117, 174,   1, 112,  35, 148,  41,  40,  89, 138, 143, 124,  82,\n",
       "         11,  31, 175,  38,  18,  62,  51,   0, 127,  23, 153, 194,  16,\n",
       "        134,  87,  65, 149,  33,  35, 132,  33, 172,  98,  80, 125,  64,\n",
       "        155, 125, 117, 123, 160,  84,  63,  99,  59, 158,  50, 170,  57,\n",
       "         88,  48,  50, 158,  34,  89,  53, 144,  45, 186, 151,  19,  89,\n",
       "         62,  81,  59, 156,   3,  75,  84, 149, 148, 196,  59, 141,  48,\n",
       "        191, 137,  69, 103,  46,  32,  65, 133, 149, 128,  69,  83, 168,\n",
       "         11, 142, 180, 169, 187,   6,  39, 150,  85,   8, 143, 140,  88,\n",
       "        185, 134]),\n",
       " array([  2,  48, 129, 142, 144, 190,  43, 181,  94,  19,  99,  27, 117,\n",
       "         93, 140,  56, 124,  53,  96,  38, 148,  48,  30, 106,  30,  53,\n",
       "          2,  26, 179, 181, 109, 101,  71,  60,  80, 180, 123,  80, 135,\n",
       "        196, 163, 101,  32,  35, 129,  99,  53,   6,  31,  27, 191,  78,\n",
       "         33, 110,  82, 189, 134,  42, 192, 138,  94, 183, 111, 190, 122,\n",
       "         69,  68,  82,   6, 118,  67,  28, 188,  51, 196, 153, 103, 140,\n",
       "         17, 191, 112, 188,  73, 112, 175,  87,  34,  16,   0, 135, 104,\n",
       "         58,  61,  48, 135, 156, 109,  34,  26, 193, 190, 170,  26,  16,\n",
       "         74,  22, 126, 110, 118, 128,  12,  76, 146,  89,  87,  72,  64,\n",
       "        165,  46,  94, 105, 118, 152,  88,  38, 128,  79,  53,  18,  28,\n",
       "         24,  91,  63, 175, 112,  43, 137,  72,  91, 174,  67, 115,  88,\n",
       "        177, 181,  73, 140, 130,  91, 145,  87,  64, 184, 196, 141,  22,\n",
       "         85, 167,  34,  23, 125, 195,  87,  90,  21,   8, 145,  74, 131,\n",
       "         10, 170, 187, 192,  58,  43, 150, 159,  59, 170,  49,  84,  96,\n",
       "        170,  84,  52, 134,  29,  49, 109, 123, 195, 192, 162, 116,  28,\n",
       "          5, 166]),\n",
       " array([ 18, 149, 116, 161, 157,  87, 180,  40, 111,  24, 189, 185, 143,\n",
       "        195,  22, 171,  95, 158,  62,  71,  92, 110,  50,  48,  79, 146,\n",
       "         51, 131, 130,  14, 117, 154,  33,  18, 105, 147, 139, 194,  47,\n",
       "        169,  82, 148,  50, 101, 104, 156, 110,  35,  96, 166,  97, 108,\n",
       "         51,  29,  80, 116,   2, 141, 113,  57, 174,  75, 118, 116, 176,\n",
       "         64, 103, 165,  91, 149,  16,  55,  22,  50,  51,  18,  26,  39,\n",
       "         43,  13,  23, 167, 130,  46, 142,  39,  89,  77,  34,  83,  17,\n",
       "        113,  86, 164,  85, 179, 188, 112, 171, 157, 177,  48,  77, 164,\n",
       "          4, 173, 100,  26,  84,  47,  89, 135,  57, 159,  40,  13, 147,\n",
       "        174,  22,  90,   2, 131, 137, 134,  42, 165,  29, 109,  40, 128,\n",
       "         74,  11,  78, 142,  50, 175,  59,   2,  48,  13,  43,  82,  45,\n",
       "         38,  76,  52, 167, 143, 188,  36,  18, 139,   0,  20, 133, 196,\n",
       "        186,  89, 175,  58,  81, 105,  92, 186, 121, 106,  88,  93, 178,\n",
       "        111, 121,  56,  62, 125, 140, 139, 192,  54, 127,  55, 132, 112,\n",
       "        166,  64, 114, 175, 195, 182,  38, 171, 184,  28, 100,  46, 125,\n",
       "         74,  87]),\n",
       " array([191, 189, 160, 152, 159, 111,  88, 174,  92,  61,  88,  36,  13,\n",
       "         53, 193,  26, 170,  32,  41, 142,  24, 163, 172,  45,  67, 153,\n",
       "         67, 120, 146,  84, 171,  45, 138, 176,  46, 126,  96, 155, 172,\n",
       "        131, 137,   1,  89, 136,  60,  91, 160,  68,  88,  43,  98, 114,\n",
       "         20, 135, 158, 109, 179,  52,  55, 149,  52,  71, 152,  45,  55,\n",
       "        139,  55, 110, 148,  10,  57, 102,  31,  18, 139, 103, 111,  83,\n",
       "        133, 190, 126,  54, 173, 176, 129, 165,  13,  19,  60, 117,   2,\n",
       "         56, 156, 169, 130,  19, 172, 170, 170, 173,  27, 146,  99,  11,\n",
       "        165, 151,  47, 109, 138, 101, 186, 167, 179, 151, 151, 111, 149,\n",
       "        167,  46, 115,  22,  76, 193, 121, 128, 160, 175, 151,  18, 102,\n",
       "         91, 191,  54,  87, 155, 169, 107,  85, 147,  75, 157,  32, 180,\n",
       "        126,  44, 174,  64, 170,  80,  12,  48, 112,  94, 137,  84,  57,\n",
       "        111,  55, 173, 196,  50,   8,  54, 144,  76,   3,  74, 109, 154,\n",
       "         92, 182, 147,  27, 107, 164, 117, 181,  75,  11, 194, 182, 124,\n",
       "         94,  91,  86, 184,   3,   1, 123,  92,  77,  83,  24,  38,  87,\n",
       "         51, 189])]"
      ]
     },
     "execution_count": 44,
     "metadata": {},
     "output_type": "execute_result"
    }
   ],
   "source": [
    "# Her bir ağaçta kaç tane örnek olduğu bilgisi\n",
    "bag_model.estimators_samples_"
   ]
  },
  {
   "cell_type": "code",
   "execution_count": 45,
   "metadata": {
    "collapsed": true,
    "jupyter": {
     "outputs_hidden": true
    }
   },
   "outputs": [
    {
     "data": {
      "text/plain": [
       "[array([ 5, 17,  6,  8, 12, 13, 14,  6, 12,  9, 12, 10, 17,  5,  7, 18, 18,\n",
       "         9, 12]),\n",
       " array([11, 12, 10,  8, 17, 15,  7,  5,  2, 16,  1,  9,  8, 14, 13, 15, 17,\n",
       "        17,  8]),\n",
       " array([ 6, 12, 15, 11,  8, 12, 12,  3,  5,  7,  1, 13,  3, 17, 17, 17,  0,\n",
       "         0, 18]),\n",
       " array([13, 15,  3, 10,  7, 12,  6,  1, 11, 13, 18,  1, 13, 12, 18, 12,  3,\n",
       "        16,  5]),\n",
       " array([ 3, 11, 15, 17,  4, 12,  3, 17, 17,  8,  1,  6,  9,  4, 12,  9, 10,\n",
       "         4,  2]),\n",
       " array([17,  2,  6, 13,  5,  0,  6, 18,  3,  5,  8, 18,  6,  6,  6, 10, 10,\n",
       "        16,  7]),\n",
       " array([11,  5, 11, 12, 13, 11,  8, 16, 16, 11,  6,  7, 17,  0, 16, 12, 14,\n",
       "        18,  2]),\n",
       " array([17,  6,  1,  7,  3, 17,  6, 13, 13,  6,  8,  6,  0,  7,  2,  0, 12,\n",
       "         4,  2]),\n",
       " array([ 6, 14,  5,  8,  4, 10,  5,  9, 10,  0, 14, 10, 13, 14, 15, 18,  6,\n",
       "         7, 14]),\n",
       " array([17,  8,  1, 11, 10, 18, 10, 16, 14,  9, 15,  4,  3, 16,  7,  9,  2,\n",
       "        13, 14])]"
      ]
     },
     "execution_count": 45,
     "metadata": {},
     "output_type": "execute_result"
    }
   ],
   "source": [
    "# Her bir ağacın bağımsız değişkenleri\n",
    "bag_model.estimators_features_"
   ]
  },
  {
   "cell_type": "markdown",
   "metadata": {},
   "source": [
    "#### Tahmin"
   ]
  },
  {
   "cell_type": "code",
   "execution_count": 55,
   "metadata": {},
   "outputs": [
    {
     "data": {
      "text/plain": [
       "356.86799464185293"
      ]
     },
     "execution_count": 55,
     "metadata": {},
     "output_type": "execute_result"
    }
   ],
   "source": [
    "# Test Hatası(İlkel)\n",
    "y_pred = bag_model.predict(X_test)\n",
    "np.sqrt(mean_squared_error(y_test, y_pred))"
   ]
  },
  {
   "cell_type": "code",
   "execution_count": 57,
   "metadata": {},
   "outputs": [],
   "source": [
    "# Örneğin 2.ağaca gitmek (1.index)\n",
    "iki_y_pred = bag_model.estimators_[1].fit(X_train, y_train).predict(X_test)"
   ]
  },
  {
   "cell_type": "code",
   "execution_count": 58,
   "metadata": {},
   "outputs": [
    {
     "data": {
      "text/plain": [
       "519.1710409833861"
      ]
     },
     "execution_count": 58,
     "metadata": {},
     "output_type": "execute_result"
    }
   ],
   "source": [
    "np.sqrt(mean_squared_error(y_test, iki_y_pred))"
   ]
  },
  {
   "cell_type": "code",
   "execution_count": 59,
   "metadata": {},
   "outputs": [],
   "source": [
    "# Örneğin 7.ağaca gitmek\n",
    "yedi_y_pred = bag_model.estimators_[6].fit(X_train, y_train).predict(X_test)"
   ]
  },
  {
   "cell_type": "code",
   "execution_count": 60,
   "metadata": {},
   "outputs": [
    {
     "data": {
      "text/plain": [
       "443.40625602969646"
      ]
     },
     "execution_count": 60,
     "metadata": {},
     "output_type": "execute_result"
    }
   ],
   "source": [
    "np.sqrt(mean_squared_error(y_test, yedi_y_pred))"
   ]
  },
  {
   "cell_type": "markdown",
   "metadata": {},
   "source": [
    "#### Model Tuning"
   ]
  },
  {
   "cell_type": "markdown",
   "metadata": {},
   "source": [
    "Bu kısımda yine **GridSearchCV** yaklaşımı ile tahminci sayısı değiştirerek durum gözlemlemesi yapacağız."
   ]
  },
  {
   "cell_type": "code",
   "execution_count": 65,
   "metadata": {},
   "outputs": [
    {
     "data": {
      "text/plain": [
       "BaggingRegressor(bootstrap_features=True)"
      ]
     },
     "execution_count": 65,
     "metadata": {},
     "output_type": "execute_result"
    }
   ],
   "source": [
    "bag_model = BaggingRegressor(bootstrap_features = True)\n",
    "bag_model.fit(X_train, y_train)"
   ]
  },
  {
   "cell_type": "code",
   "execution_count": 62,
   "metadata": {},
   "outputs": [],
   "source": [
    "# Model Parametresi\n",
    "bag_params = {\"n_estimators\": range(2,20)}"
   ]
  },
  {
   "cell_type": "code",
   "execution_count": 66,
   "metadata": {},
   "outputs": [],
   "source": [
    "bag_cv_model = GridSearchCV(bag_model, bag_params, cv = 10)"
   ]
  },
  {
   "cell_type": "code",
   "execution_count": 67,
   "metadata": {},
   "outputs": [
    {
     "data": {
      "text/plain": [
       "GridSearchCV(cv=10, estimator=BaggingRegressor(bootstrap_features=True),\n",
       "             param_grid={'n_estimators': range(2, 20)})"
      ]
     },
     "execution_count": 67,
     "metadata": {},
     "output_type": "execute_result"
    }
   ],
   "source": [
    "bag_cv_model.fit(X_train, y_train)"
   ]
  },
  {
   "cell_type": "code",
   "execution_count": 68,
   "metadata": {},
   "outputs": [
    {
     "data": {
      "text/plain": [
       "{'n_estimators': 7}"
      ]
     },
     "execution_count": 68,
     "metadata": {},
     "output_type": "execute_result"
    }
   ],
   "source": [
    "bag_cv_model.best_params_"
   ]
  },
  {
   "cell_type": "code",
   "execution_count": 70,
   "metadata": {},
   "outputs": [],
   "source": [
    "# Final Modeli\n",
    "bag_tuned =  BaggingRegressor(n_estimators = 7, random_state = 45)"
   ]
  },
  {
   "cell_type": "code",
   "execution_count": 71,
   "metadata": {},
   "outputs": [
    {
     "data": {
      "text/plain": [
       "BaggingRegressor(n_estimators=7, random_state=45)"
      ]
     },
     "execution_count": 71,
     "metadata": {},
     "output_type": "execute_result"
    }
   ],
   "source": [
    "bag_tuned.fit(X_train, y_train)"
   ]
  },
  {
   "cell_type": "code",
   "execution_count": 72,
   "metadata": {},
   "outputs": [
    {
     "data": {
      "text/plain": [
       "354.206758941082"
      ]
     },
     "execution_count": 72,
     "metadata": {},
     "output_type": "execute_result"
    }
   ],
   "source": [
    "# Test Hatası\n",
    "y_pred = bag_tuned.predict(X_test)\n",
    "np.sqrt(mean_squared_error(y_test, y_pred))"
   ]
  },
  {
   "cell_type": "markdown",
   "metadata": {},
   "source": [
    "## Random Forests (RF)"
   ]
  },
  {
   "cell_type": "markdown",
   "metadata": {},
   "source": [
    "Temeli birden çok karar ağacının ürettiği tahminlern bir araya gelerek değerlendirilmesine dayanır."
   ]
  },
  {
   "cell_type": "markdown",
   "metadata": {},
   "source": [
    " * Bagging ile Random Subspace yöntemlerinin birleşimi ile oluşmuştur.\n",
    " * Ağaçlar ile gözlemler bootstrap rastgele örnek seçim yöntemi ile **değişkenler random subspace yöntemi ile seçilir.**\n",
    " * Karar ağacının her bir düğümünde en iyi dallara ayırıcı(bilgi kazancı) değişken tüm değişkenler arasından rastgele seçilen daha az sayıdaki değişken arasında seçilir.\n",
    " * Ağaç oluşturmada veri setinin 2/3'ü kullanılır.Dışarıda kalan veri ağaçların performans değerlendirmesi ve değişken öneminin belirlenmesi için kullanılır.\n",
    " * Her düğüm noktasında rastgele değişken seçimi yapılır.(regresyon'da p/3, sınıflama'da karekök p)\n",
    " * Nihai tahmin için ağaçlardan tahmin değerleri talep edilirken her bir ağacın daha önce hesaplanan hata oranları göz önüne alınarak ağaçlara ağırlık verilir."
   ]
  },
  {
   "cell_type": "markdown",
   "metadata": {},
   "source": [
    "#### Model"
   ]
  },
  {
   "cell_type": "code",
   "execution_count": 73,
   "metadata": {},
   "outputs": [],
   "source": [
    "hit = pd.read_csv(\"Hitters.csv\")\n",
    "df = hit.copy()\n",
    "df = df.dropna()\n",
    "dms = pd.get_dummies(df[['League', 'Division', 'NewLeague']])\n",
    "y = df[\"Salary\"]\n",
    "X_ = df.drop(['Salary', 'League', 'Division', 'NewLeague'], axis=1).astype('float64')\n",
    "X = pd.concat([X_, dms[['League_N', 'Division_W', 'NewLeague_N']]], axis=1)\n",
    "X_train, X_test, y_train, y_test = train_test_split(X, y, \n",
    "                                                    test_size=0.25, \n",
    "                                                    random_state=42)"
   ]
  },
  {
   "cell_type": "code",
   "execution_count": 74,
   "metadata": {},
   "outputs": [],
   "source": [
    "from sklearn.ensemble import RandomForestRegressor"
   ]
  },
  {
   "cell_type": "code",
   "execution_count": 76,
   "metadata": {},
   "outputs": [
    {
     "data": {
      "text/plain": [
       "RandomForestRegressor(random_state=42)"
      ]
     },
     "execution_count": 76,
     "metadata": {},
     "output_type": "execute_result"
    }
   ],
   "source": [
    "# Model Oluşturma\n",
    "rf_model = RandomForestRegressor(random_state = 42)\n",
    "rf_model.fit(X_train, y_train)"
   ]
  },
  {
   "cell_type": "markdown",
   "metadata": {},
   "source": [
    "Random Forests'da önemli olan üç parametre vardır.\n",
    " * Fit edilecek ağaç sayısı (n_estimators)\n",
    " * Her bölünmeden göze alınacak olan değişken sayısı (max_feautures)\n",
    " * Ağacın maksimum derinlik sayısı (max_depth)"
   ]
  },
  {
   "cell_type": "markdown",
   "metadata": {},
   "source": [
    "#### Tahmin"
   ]
  },
  {
   "cell_type": "code",
   "execution_count": 79,
   "metadata": {},
   "outputs": [
    {
     "data": {
      "text/plain": [
       "array([ 740.62167,  895.99497, 1184.695  ,  139.65167,  634.75833])"
      ]
     },
     "execution_count": 79,
     "metadata": {},
     "output_type": "execute_result"
    }
   ],
   "source": [
    "# Tahmin edilen y değerleri\n",
    "rf_model.predict(X_test)[0:5]"
   ]
  },
  {
   "cell_type": "code",
   "execution_count": 80,
   "metadata": {},
   "outputs": [
    {
     "data": {
      "text/plain": [
       "345.00286717448006"
      ]
     },
     "execution_count": 80,
     "metadata": {},
     "output_type": "execute_result"
    }
   ],
   "source": [
    "# Test Hatası\n",
    "y_pred = rf_model.predict(X_test)\n",
    "np.sqrt(mean_squared_error(y_test, y_pred))"
   ]
  },
  {
   "cell_type": "markdown",
   "metadata": {},
   "source": [
    "#### Model Tuning"
   ]
  },
  {
   "cell_type": "code",
   "execution_count": 89,
   "metadata": {},
   "outputs": [],
   "source": [
    "rf_params = {'max_depth': list(range(1,10)),\n",
    "            'max_features': [3,5,10,15],\n",
    "            'n_estimators' : [100, 200, 500, 1000]}"
   ]
  },
  {
   "cell_type": "code",
   "execution_count": 90,
   "metadata": {},
   "outputs": [],
   "source": [
    "# Model Oluşturma\n",
    "rf_model = RandomForestRegressor(random_state = 42)"
   ]
  },
  {
   "cell_type": "code",
   "execution_count": 91,
   "metadata": {},
   "outputs": [],
   "source": [
    "rf_cv_model = GridSearchCV(rf_model,\n",
    "                         rf_params,\n",
    "                         cv=10,\n",
    "                         n_jobs = -1)"
   ]
  },
  {
   "cell_type": "code",
   "execution_count": 92,
   "metadata": {},
   "outputs": [
    {
     "data": {
      "text/plain": [
       "GridSearchCV(cv=10, estimator=RandomForestRegressor(random_state=42), n_jobs=-1,\n",
       "             param_grid={'max_depth': [1, 2, 3, 4, 5, 6, 7, 8, 9],\n",
       "                         'max_features': [3, 5, 10, 15],\n",
       "                         'n_estimators': [100, 200, 500, 1000]})"
      ]
     },
     "execution_count": 92,
     "metadata": {},
     "output_type": "execute_result"
    }
   ],
   "source": [
    "rf_cv_model.fit(X_train, y_train)"
   ]
  },
  {
   "cell_type": "code",
   "execution_count": 88,
   "metadata": {},
   "outputs": [
    {
     "data": {
      "text/plain": [
       "{'max_depth': 8, 'max_features': 3, 'n_estimators': 100}"
      ]
     },
     "execution_count": 88,
     "metadata": {},
     "output_type": "execute_result"
    }
   ],
   "source": [
    "rf_cv_model.best_params_"
   ]
  },
  {
   "cell_type": "code",
   "execution_count": 93,
   "metadata": {},
   "outputs": [],
   "source": [
    "# Final Modeli"
   ]
  },
  {
   "cell_type": "code",
   "execution_count": 96,
   "metadata": {},
   "outputs": [],
   "source": [
    "rf_tuned = RandomForestRegressor(max_depth  = 8, \n",
    "                                 max_features = 3, \n",
    "                                 n_estimators =100)"
   ]
  },
  {
   "cell_type": "code",
   "execution_count": 97,
   "metadata": {},
   "outputs": [],
   "source": [
    "rf_tuned = rf_tuned.fit(X_train, y_train)"
   ]
  },
  {
   "cell_type": "code",
   "execution_count": 98,
   "metadata": {},
   "outputs": [
    {
     "data": {
      "text/plain": [
       "341.3735827097043"
      ]
     },
     "execution_count": 98,
     "metadata": {},
     "output_type": "execute_result"
    }
   ],
   "source": [
    "# Test Hatası\n",
    "y_pred = rf_tuned.predict(X_test)\n",
    "np.sqrt(mean_squared_error(y_test, y_pred))"
   ]
  },
  {
   "cell_type": "code",
   "execution_count": 99,
   "metadata": {},
   "outputs": [],
   "source": [
    "# Değişkenlerin Önem Düzeyi"
   ]
  },
  {
   "cell_type": "code",
   "execution_count": 102,
   "metadata": {},
   "outputs": [],
   "source": [
    "Importance = pd.DataFrame({\"Importance\": rf_tuned.feature_importances_*100},\n",
    "                         index = X_train.columns)"
   ]
  },
  {
   "cell_type": "code",
   "execution_count": 103,
   "metadata": {},
   "outputs": [
    {
     "data": {
      "text/plain": [
       "Text(0.5, 0, 'Değişken Önem Düzeyleri')"
      ]
     },
     "execution_count": 103,
     "metadata": {},
     "output_type": "execute_result"
    },
    {
     "data": {
      "image/png": "[encoded data removed]",
      "text/plain": [
       "<Figure size 432x288 with 1 Axes>"
      ]
     },
     "metadata": {
      "needs_background": "light"
     },
     "output_type": "display_data"
    }
   ],
   "source": [
    "Importance.sort_values(by = \"Importance\", \n",
    "                       axis = 0, \n",
    "                       ascending = True).plot(kind =\"barh\", color = \"r\")\n",
    "\n",
    "plt.xlabel(\"Değişken Önem Düzeyleri\")"
   ]
  },
  {
   "cell_type": "markdown",
   "metadata": {},
   "source": [
    "Yukarıdaki görsel değişkenlerin veri seti üzerinde ki önem düzeyini göstermektedir. Doğrusal regresyon da değişkenlerin önemlerine ilişkin bilgiler alabiliyorduk. Çıktıya baktığımız zaman değişkenler model için anlamlı mı değil mi ? Daha sonra bu değişkenlerin bağımlı değişkene olan katkılarını gözlemleyebiliyorduk."
   ]
  },
  {
   "cell_type": "markdown",
   "metadata": {},
   "source": [
    "## Gradient Boosting Machines (GBM)"
   ]
  },
  {
   "cell_type": "markdown",
   "metadata": {},
   "source": [
    "AdaBoot'un sınıflandırma ve regresyon problemlerine kolayca uyarlanabilen genelleştirilmiş versiyonudur. Artıklar üzerine tek tahminsel model formunda olan modeller serisi kurulur.Bagging'de ağaçlar bağımsızdır,boosting yöntemlerinde ise ağaçların birbirine bağımlılığı söz konusudur.(iterative/kümalatif)\n",
    "\n",
    " * Seri içerisindeki bir model serideki bir önceki modelin tahmin artıklarının/hatalarının üzerine kurularak(fit) oluşturulur.\n",
    " * GBM diferansiyellenebilen herhangi bir kayıp fonksiyonunu optimize edebilen Gradient descent algoritmasını kullanmakta.\n",
    " * GB bir çok teme löğrenci tipi(base learner type) kullanılabilir.\n",
    " * Cost fonksiyonları ve link fonksiyonları modifiye edilebilirdir.\n",
    " * Boosting + Gradient Descent"
   ]
  },
  {
   "cell_type": "markdown",
   "metadata": {},
   "source": [
    "**Boosting Yöntemlerine Giriş**\n",
    "\n",
    "Zayıf öğrenicileri bir araya getirip güçlü bir öğrenici ortaya çıkarmak fikrine dayanır.\n",
    "\n",
    "**Adaptive Boosting(AdaBoost):** Zayıf sınıflandırıcıların bir araya gelerek güçlü bir sınıflandırıcı oluşturması fikrini hayata geçiren algoritmadır."
   ]
  },
  {
   "cell_type": "markdown",
   "metadata": {},
   "source": [
    "#### Model"
   ]
  },
  {
   "cell_type": "code",
   "execution_count": 6,
   "metadata": {},
   "outputs": [],
   "source": [
    "hit = pd.read_csv(\"Hitters.csv\")\n",
    "df = hit.copy()\n",
    "df = df.dropna()\n",
    "dms = pd.get_dummies(df[['League', 'Division', 'NewLeague']])\n",
    "y = df[\"Salary\"]\n",
    "X_ = df.drop(['Salary', 'League', 'Division', 'NewLeague'], axis=1).astype('float64')\n",
    "X = pd.concat([X_, dms[['League_N', 'Division_W', 'NewLeague_N']]], axis=1)\n",
    "X_train, X_test, y_train, y_test = train_test_split(X, y, \n",
    "                                                    test_size=0.25, \n",
    "                                                    random_state=42)"
   ]
  },
  {
   "cell_type": "code",
   "execution_count": 2,
   "metadata": {},
   "outputs": [],
   "source": [
    "from sklearn.ensemble import GradientBoostingRegressor"
   ]
  },
  {
   "cell_type": "code",
   "execution_count": 8,
   "metadata": {},
   "outputs": [
    {
     "data": {
      "text/plain": [
       "GradientBoostingRegressor()"
      ]
     },
     "execution_count": 8,
     "metadata": {},
     "output_type": "execute_result"
    }
   ],
   "source": [
    "# Model Kurma\n",
    "gbm_model = GradientBoostingRegressor()\n",
    "gbm_model.fit(X_train, y_train)"
   ]
  },
  {
   "cell_type": "markdown",
   "metadata": {},
   "source": [
    "GBM kullanırken kullanmış olduğumuz algoritma hem ağaca dayalı bir yöntem olabilir hem de lineer bir yöntem olabilir.Bu kısımda biz ağaca dayalı yöntem şeklinde kullanacağız."
   ]
  },
  {
   "cell_type": "markdown",
   "metadata": {},
   "source": [
    "#### Tahmin"
   ]
  },
  {
   "cell_type": "code",
   "execution_count": 10,
   "metadata": {},
   "outputs": [
    {
     "data": {
      "text/plain": [
       "352.20812653916516"
      ]
     },
     "execution_count": 10,
     "metadata": {},
     "output_type": "execute_result"
    }
   ],
   "source": [
    "# Test Hatası\n",
    "y_pred = gbm_model.predict(X_test)\n",
    "np.sqrt(mean_squared_error(y_test, y_pred))"
   ]
  },
  {
   "cell_type": "markdown",
   "metadata": {},
   "source": [
    "#### Model Tuning"
   ]
  },
  {
   "cell_type": "code",
   "execution_count": 11,
   "metadata": {},
   "outputs": [],
   "source": [
    "# Tuned edilecek olan parametreler\n",
    "gbm_params = {\n",
    "    'learning_rate': [0.001, 0.01, 0.1, 0.2],\n",
    "    'max_depth': [3, 5, 8,50,100],\n",
    "    'n_estimators': [200, 500, 1000],\n",
    "    'subsample': [1,0.5,0.75],\n",
    "}"
   ]
  },
  {
   "cell_type": "code",
   "execution_count": 12,
   "metadata": {},
   "outputs": [
    {
     "name": "stdout",
     "output_type": "stream",
     "text": [
      "Fitting 10 folds for each of 180 candidates, totalling 1800 fits\n"
     ]
    },
    {
     "name": "stderr",
     "output_type": "stream",
     "text": [
      "[Parallel(n_jobs=-1)]: Using backend LokyBackend with 4 concurrent workers.\n",
      "[Parallel(n_jobs=-1)]: Done  33 tasks      | elapsed:    8.1s\n",
      "[Parallel(n_jobs=-1)]: Done 154 tasks      | elapsed:   48.5s\n",
      "[Parallel(n_jobs=-1)]: Done 357 tasks      | elapsed:  2.8min\n",
      "[Parallel(n_jobs=-1)]: Done 640 tasks      | elapsed:  5.4min\n",
      "[Parallel(n_jobs=-1)]: Done 1005 tasks      | elapsed:  9.8min\n",
      "[Parallel(n_jobs=-1)]: Done 1450 tasks      | elapsed: 15.7min\n",
      "[Parallel(n_jobs=-1)]: Done 1800 out of 1800 | elapsed: 20.9min finished\n"
     ]
    },
    {
     "data": {
      "text/plain": [
       "GridSearchCV(cv=10, estimator=GradientBoostingRegressor(), n_jobs=-1,\n",
       "             param_grid={'learning_rate': [0.001, 0.01, 0.1, 0.2],\n",
       "                         'max_depth': [3, 5, 8, 50, 100],\n",
       "                         'n_estimators': [200, 500, 1000],\n",
       "                         'subsample': [1, 0.5, 0.75]},\n",
       "             verbose=2)"
      ]
     },
     "execution_count": 12,
     "metadata": {},
     "output_type": "execute_result"
    }
   ],
   "source": [
    "gbm = GradientBoostingRegressor()\n",
    "gbm_cv_model = GridSearchCV(gbm, gbm_params, cv=10, n_jobs = -1, verbose = 2) #verbose:iterasyonları gözlemlemek için argüman\n",
    "gbm_cv_model.fit(X_train, y_train)"
   ]
  },
  {
   "cell_type": "code",
   "execution_count": 13,
   "metadata": {},
   "outputs": [
    {
     "data": {
      "text/plain": [
       "{'learning_rate': 0.1, 'max_depth': 3, 'n_estimators': 500, 'subsample': 0.75}"
      ]
     },
     "execution_count": 13,
     "metadata": {},
     "output_type": "execute_result"
    }
   ],
   "source": [
    "gbm_cv_model.best_params_"
   ]
  },
  {
   "cell_type": "code",
   "execution_count": 19,
   "metadata": {},
   "outputs": [],
   "source": [
    "# Final Modeli\n",
    "gbm_tuned = GradientBoostingRegressor(learning_rate = 0.1,  \n",
    "                                      max_depth = 3, \n",
    "                                      n_estimators = 500, \n",
    "                                      subsample = 0.75)\n",
    "\n",
    "gbm_tuned = gbm_tuned.fit(X_train,y_train)"
   ]
  },
  {
   "cell_type": "code",
   "execution_count": 20,
   "metadata": {},
   "outputs": [
    {
     "data": {
      "text/plain": [
       "336.16833700096214"
      ]
     },
     "execution_count": 20,
     "metadata": {},
     "output_type": "execute_result"
    }
   ],
   "source": [
    "# Test Hatası\n",
    "y_pred = gbm_tuned.predict(X_test)\n",
    "np.sqrt(mean_squared_error(y_test, y_pred))"
   ]
  },
  {
   "cell_type": "code",
   "execution_count": 21,
   "metadata": {},
   "outputs": [
    {
     "data": {
      "text/plain": [
       "Text(0.5, 0, 'Değişken Önem Düzeyleri')"
      ]
     },
     "execution_count": 21,
     "metadata": {},
     "output_type": "execute_result"
    },
    {
     "data": {
      "image/png": "[encoded data removed]",
      "text/plain": [
       "<Figure size 432x288 with 1 Axes>"
      ]
     },
     "metadata": {
      "needs_background": "light"
     },
     "output_type": "display_data"
    }
   ],
   "source": [
    "# GBM Değişken Önem Düzeyi\n",
    "Importance = pd.DataFrame({\"Importance\": gbm_tuned.feature_importances_*100},\n",
    "                         index = X_train.columns)\n",
    "\n",
    "Importance.sort_values(by = \"Importance\", \n",
    "                       axis = 0, \n",
    "                       ascending = True).plot(kind =\"barh\", color = \"r\")\n",
    "\n",
    "plt.xlabel(\"Değişken Önem Düzeyleri\")"
   ]
  },
  {
   "cell_type": "markdown",
   "metadata": {},
   "source": [
    "## XGBoost (eXtreme Gradient Boosting)"
   ]
  },
  {
   "cell_type": "markdown",
   "metadata": {},
   "source": [
    "**XGBoost**,GBM'in hız ve tahmin performansını arttırmak üzere optimize edilmiş;ölçeklenebilir ve farklı platformlara entegre edilebilir."
   ]
  },
  {
   "cell_type": "markdown",
   "metadata": {},
   "source": [
    " * R,Python,Hadoop,Scala ve Julia ile kullanılabilir.\n",
    " * Ölçeklenebilir ve hızlıdır.\n",
    " * Tahmin başarısı yüksektir."
   ]
  },
  {
   "cell_type": "markdown",
   "metadata": {},
   "source": [
    "#### Model"
   ]
  },
  {
   "cell_type": "code",
   "execution_count": 22,
   "metadata": {},
   "outputs": [],
   "source": [
    "hit = pd.read_csv(\"Hitters.csv\")\n",
    "df = hit.copy()\n",
    "df = df.dropna()\n",
    "dms = pd.get_dummies(df[['League', 'Division', 'NewLeague']])\n",
    "y = df[\"Salary\"]\n",
    "X_ = df.drop(['Salary', 'League', 'Division', 'NewLeague'], axis=1).astype('float64')\n",
    "X = pd.concat([X_, dms[['League_N', 'Division_W', 'NewLeague_N']]], axis=1)\n",
    "X_train, X_test, y_train, y_test = train_test_split(X, y, \n",
    "                                                    test_size=0.25, \n",
    "                                                    random_state=42)"
   ]
  },
  {
   "cell_type": "code",
   "execution_count": 25,
   "metadata": {},
   "outputs": [
    {
     "name": "stdout",
     "output_type": "stream",
     "text": [
      "Requirement already satisfied: xgboost in c:\\users\\resul\\anaconda3\\lib\\site-packages (1.3.3)\n",
      "Requirement already satisfied: scipy in c:\\users\\resul\\anaconda3\\lib\\site-packages (from xgboost) (1.5.2)\n",
      "Requirement already satisfied: numpy in c:\\users\\resul\\anaconda3\\lib\\site-packages (from xgboost) (1.19.2)\n"
     ]
    }
   ],
   "source": [
    "# XGB indirme işlemi\n",
    "!pip install xgboost"
   ]
  },
  {
   "cell_type": "markdown",
   "metadata": {},
   "source": [
    "Standart Pandas ya da Numpy yerine kendi veri yapısını kullanırsak daha performaslı sonuçlar elde edilebilir."
   ]
  },
  {
   "cell_type": "code",
   "execution_count": 26,
   "metadata": {},
   "outputs": [],
   "source": [
    "import xgboost as xgb"
   ]
  },
  {
   "cell_type": "code",
   "execution_count": 27,
   "metadata": {},
   "outputs": [],
   "source": [
    "DM_train = xgb.DMatrix(data = X_train, label = y_train)\n",
    "DM_test = xgb.DMatrix(data = X_test, label = y_test)"
   ]
  },
  {
   "cell_type": "code",
   "execution_count": 29,
   "metadata": {},
   "outputs": [],
   "source": [
    "# Model Kurma\n",
    "from xgboost import XGBRegressor\n",
    "xgb_model = XGBRegressor().fit(X_train, y_train)"
   ]
  },
  {
   "cell_type": "markdown",
   "metadata": {},
   "source": [
    "#### Tahmin"
   ]
  },
  {
   "cell_type": "code",
   "execution_count": 30,
   "metadata": {},
   "outputs": [
    {
     "data": {
      "text/plain": [
       "355.46515176059927"
      ]
     },
     "execution_count": 30,
     "metadata": {},
     "output_type": "execute_result"
    }
   ],
   "source": [
    "# Test Hatası\n",
    "y_pred = xgb_model.predict(X_test)\n",
    "np.sqrt(mean_squared_error(y_test, y_pred))"
   ]
  },
  {
   "cell_type": "markdown",
   "metadata": {},
   "source": [
    "#### Model Tuning"
   ]
  },
  {
   "cell_type": "code",
   "execution_count": 33,
   "metadata": {},
   "outputs": [],
   "source": [
    "# Model içerisindeki önemli olan parametreleri optimize etmek\n",
    "xgb_params = {\n",
    "     'colsample_bytree': [0.4, 0.5,0.6,0.9,1],  # ağaç başına değişkenlerden alınacak olan örnek oranı\n",
    "     'n_estimators':[100, 200, 500, 1000],\n",
    "     'max_depth': [2,3,4,5,6], # overfitting önüne geçmek için kullanılan ve karmaşıklık parametresi olarak aslında adlandırılan bir parametre\n",
    "     'learning_rate': [0.1, 0.01, 0.5]  # daraltma adım boyu - overfitting engellemek için kulanılan değişkenlerden 0-1 arasında değer alması beklenir.\n",
    "}"
   ]
  },
  {
   "cell_type": "code",
   "execution_count": 35,
   "metadata": {},
   "outputs": [
    {
     "name": "stdout",
     "output_type": "stream",
     "text": [
      "Fitting 10 folds for each of 300 candidates, totalling 3000 fits\n"
     ]
    },
    {
     "name": "stderr",
     "output_type": "stream",
     "text": [
      "[Parallel(n_jobs=-1)]: Using backend LokyBackend with 4 concurrent workers.\n",
      "[Parallel(n_jobs=-1)]: Done  33 tasks      | elapsed:   10.5s\n",
      "[Parallel(n_jobs=-1)]: Done 154 tasks      | elapsed:   44.3s\n",
      "[Parallel(n_jobs=-1)]: Done 357 tasks      | elapsed:  1.8min\n",
      "[Parallel(n_jobs=-1)]: Done 640 tasks      | elapsed:  3.0min\n",
      "[Parallel(n_jobs=-1)]: Done 1005 tasks      | elapsed:  5.2min\n",
      "[Parallel(n_jobs=-1)]: Done 1450 tasks      | elapsed:  7.5min\n",
      "[Parallel(n_jobs=-1)]: Done 1977 tasks      | elapsed: 11.1min\n",
      "[Parallel(n_jobs=-1)]: Done 2584 tasks      | elapsed: 15.5min\n",
      "[Parallel(n_jobs=-1)]: Done 3000 out of 3000 | elapsed: 19.0min finished\n"
     ]
    },
    {
     "data": {
      "text/plain": [
       "GridSearchCV(cv=10,\n",
       "             estimator=XGBRegressor(base_score=None, booster=None,\n",
       "                                    colsample_bylevel=None,\n",
       "                                    colsample_bynode=None,\n",
       "                                    colsample_bytree=None, gamma=None,\n",
       "                                    gpu_id=None, importance_type='gain',\n",
       "                                    interaction_constraints=None,\n",
       "                                    learning_rate=None, max_delta_step=None,\n",
       "                                    max_depth=None, min_child_weight=None,\n",
       "                                    missing=nan, monotone_constraints=None,\n",
       "                                    n_estimators=100, n_jobs=None,\n",
       "                                    num_parallel_tree=None, random_state=None,\n",
       "                                    reg_alpha=None, reg_lambda=None,\n",
       "                                    scale_pos_weight=None, subsample=None,\n",
       "                                    tree_method=None, validate_parameters=None,\n",
       "                                    verbosity=None),\n",
       "             n_jobs=-1,\n",
       "             param_grid={'colsample_bytree': [0.4, 0.5, 0.6, 0.9, 1],\n",
       "                         'learning_rate': [0.1, 0.01, 0.5],\n",
       "                         'max_depth': [2, 3, 4, 5, 6],\n",
       "                         'n_estimators': [100, 200, 500, 1000]},\n",
       "             verbose=2)"
      ]
     },
     "execution_count": 35,
     "metadata": {},
     "output_type": "execute_result"
    }
   ],
   "source": [
    "xgb = XGBRegressor()\n",
    "xgb_cv_model = GridSearchCV(xgb,param_grid = xgb_params, cv=10, n_jobs = -1, verbose = 2)\n",
    "xgb_cv_model.fit(X_train, y_train)"
   ]
  },
  {
   "cell_type": "code",
   "execution_count": 36,
   "metadata": {},
   "outputs": [
    {
     "data": {
      "text/plain": [
       "{'colsample_bytree': 0.5,\n",
       " 'learning_rate': 0.1,\n",
       " 'max_depth': 2,\n",
       " 'n_estimators': 500}"
      ]
     },
     "execution_count": 36,
     "metadata": {},
     "output_type": "execute_result"
    }
   ],
   "source": [
    "xgb_cv_model.best_params_"
   ]
  },
  {
   "cell_type": "code",
   "execution_count": 37,
   "metadata": {},
   "outputs": [],
   "source": [
    "# Final Modeli\n",
    "xgb_tuned = XGBRegressor(colsample_bytree = 0.5, \n",
    "                         learning_rate = 0.1, \n",
    "                         max_depth = 2, \n",
    "                         n_estimators = 500) \n",
    "\n",
    "xgb_tuned = xgb_tuned.fit(X_train,y_train)"
   ]
  },
  {
   "cell_type": "code",
   "execution_count": 39,
   "metadata": {},
   "outputs": [
    {
     "data": {
      "text/plain": [
       "346.0275204366939"
      ]
     },
     "execution_count": 39,
     "metadata": {},
     "output_type": "execute_result"
    }
   ],
   "source": [
    "# Test Hatası\n",
    "y_pred = xgb_tuned.predict(X_test)\n",
    "np.sqrt(mean_squared_error(y_test, y_pred))"
   ]
  },
  {
   "cell_type": "markdown",
   "metadata": {},
   "source": [
    "## LightGBM"
   ]
  },
  {
   "cell_type": "markdown",
   "metadata": {},
   "source": [
    "**Light GBM,** XGBoost'un eğitim süresi performansını arttırmaya yönelik geliştirilen bir diğer GBM türüdür.\n",
    " * Daha performaslı\n",
    " * Level-wise büyüme stratejisi yerine Leaf-wise büyüme stratejisi\n",
    " * Breadth-first search (BFS) yerine depth-first-searh (DFS)\n",
    " \n",
    "**XGBoost** değişkenleri ayırmak ve farklı bölme noktalarını araştırmak için karar ağaçlarını kullanılıyor. Bu işleme Level-wise büyüme stratejisi adı veriliyor. \n",
    "\n",
    "**Light GBM** daha iyi fit edebilmek için splitlere odaklanıyor buna da Leaf-wise büyüme stratejisi adı veriliyor.\n",
    "\n",
    "Ağaç yapılarındaki bölme işlemleri düşünüldüğünde XGBoost daha geniş kapsamlı bir arama yapar, LightGBM ise derinlemesine ilk arama yapar."
   ]
  },
  {
   "cell_type": "markdown",
   "metadata": {},
   "source": [
    "#### Model"
   ]
  },
  {
   "cell_type": "code",
   "execution_count": 49,
   "metadata": {},
   "outputs": [],
   "source": [
    "hit = pd.read_csv(\"Hitters.csv\")\n",
    "df = hit.copy()\n",
    "df = df.dropna()\n",
    "dms = pd.get_dummies(df[['League', 'Division', 'NewLeague']])\n",
    "y = df[\"Salary\"]\n",
    "X_ = df.drop(['Salary', 'League', 'Division', 'NewLeague'], axis=1).astype('float64')\n",
    "X = pd.concat([X_, dms[['League_N', 'Division_W', 'NewLeague_N']]], axis=1)\n",
    "X_train, X_test, y_train, y_test = train_test_split(X, y, \n",
    "                                                    test_size=0.25, \n",
    "                                                    random_state=42)"
   ]
  },
  {
   "cell_type": "code",
   "execution_count": 41,
   "metadata": {
    "collapsed": true,
    "jupyter": {
     "outputs_hidden": true
    }
   },
   "outputs": [
    {
     "name": "stdout",
     "output_type": "stream",
     "text": [
      "Collecting lightgbm\n",
      "  Downloading lightgbm-3.1.1-py2.py3-none-win_amd64.whl (754 kB)\n",
      "Requirement already satisfied: scikit-learn!=0.22.0 in c:\\users\\resul\\anaconda3\\lib\\site-packages (from lightgbm) (0.23.2)\n",
      "Requirement already satisfied: scipy in c:\\users\\resul\\anaconda3\\lib\\site-packages (from lightgbm) (1.5.2)\n",
      "Requirement already satisfied: wheel in c:\\users\\resul\\anaconda3\\lib\\site-packages (from lightgbm) (0.35.1)\n",
      "Requirement already satisfied: numpy in c:\\users\\resul\\anaconda3\\lib\\site-packages (from lightgbm) (1.19.2)\n",
      "Requirement already satisfied: joblib>=0.11 in c:\\users\\resul\\anaconda3\\lib\\site-packages (from scikit-learn!=0.22.0->lightgbm) (0.17.0)\n",
      "Requirement already satisfied: threadpoolctl>=2.0.0 in c:\\users\\resul\\anaconda3\\lib\\site-packages (from scikit-learn!=0.22.0->lightgbm) (2.1.0)\n",
      "Installing collected packages: lightgbm\n",
      "Successfully installed lightgbm-3.1.1\n"
     ]
    }
   ],
   "source": [
    "! pip install lightgbm"
   ]
  },
  {
   "cell_type": "code",
   "execution_count": 50,
   "metadata": {},
   "outputs": [],
   "source": [
    "from lightgbm import LGBMRegressor"
   ]
  },
  {
   "cell_type": "code",
   "execution_count": 51,
   "metadata": {},
   "outputs": [
    {
     "data": {
      "text/plain": [
       "LGBMRegressor()"
      ]
     },
     "execution_count": 51,
     "metadata": {},
     "output_type": "execute_result"
    }
   ],
   "source": [
    "# Model Oluşturma\n",
    "lgbm_model = LGBMRegressor()\n",
    "lgbm_model.fit(X_train, y_train)"
   ]
  },
  {
   "cell_type": "markdown",
   "metadata": {},
   "source": [
    "#### Tahmin"
   ]
  },
  {
   "cell_type": "code",
   "execution_count": 52,
   "metadata": {},
   "outputs": [
    {
     "data": {
      "text/plain": [
       "363.8712087611089"
      ]
     },
     "execution_count": 52,
     "metadata": {},
     "output_type": "execute_result"
    }
   ],
   "source": [
    "# Test Hatası -- Diğerlerinden farklı olarak burada num_iteration isimli argüman kullanıyoruz.\n",
    "y_pred = lgbm_model.predict(X_test, \n",
    "                            num_iteration = lgbm_model.best_iteration_)\n",
    "np.sqrt(mean_squared_error(y_test, y_pred))"
   ]
  },
  {
   "cell_type": "markdown",
   "metadata": {},
   "source": [
    "#### Model Tuning"
   ]
  },
  {
   "cell_type": "code",
   "execution_count": 53,
   "metadata": {},
   "outputs": [],
   "source": [
    "# Önemli olan hiperparametrelerden optimum olanı seçme\n",
    "lgbm_grid = {\n",
    "    'colsample_bytree': [0.4, 0.5,0.6,0.9,1],\n",
    "    'learning_rate': [0.01, 0.1, 0.5,1],\n",
    "    'n_estimators': [20, 40, 100, 200, 500,1000],\n",
    "    'max_depth': [1,2,3,4,5,6,7,8] }\n",
    "\n",
    "lgbm = LGBMRegressor()\n",
    "lgbm_cv_model = GridSearchCV(lgbm, lgbm_grid, cv=10, n_jobs = -1, verbose = 2)"
   ]
  },
  {
   "cell_type": "code",
   "execution_count": null,
   "metadata": {},
   "outputs": [],
   "source": [
    "lgbm_cv_model.fit(X_train, y_train)"
   ]
  },
  {
   "cell_type": "code",
   "execution_count": null,
   "metadata": {},
   "outputs": [],
   "source": [
    "# Optimum Parametre değerleri\n",
    "lgbm_cv_model.best_params_"
   ]
  },
  {
   "cell_type": "code",
   "execution_count": null,
   "metadata": {},
   "outputs": [],
   "source": [
    "# Final Modeli\n",
    "lgbm_tuned = LGBMRegressor(learning_rate = 0.1, \n",
    "                           max_depth = 7, \n",
    "                           n_estimators = 40,\n",
    "                          colsample_bytree = 0.6)\n",
    "\n",
    "lgbm_tuned = lgbm_tuned.fit(X_train,y_train"
   ]
  },
  {
   "cell_type": "code",
   "execution_count": null,
   "metadata": {},
   "outputs": [],
   "source": [
    "# Test Hatası\n",
    "y_pred = lgbm_tuned.predict(X_test)\n",
    "np.sqrt(mean_squared_error(y_test, y_pred))"
   ]
  },
  {
   "cell_type": "markdown",
   "metadata": {},
   "source": [
    "## CatBoost (Category Boosting)"
   ]
  },
  {
   "cell_type": "markdown",
   "metadata": {},
   "source": [
    "Kategorik değişkenler ile otomatik olarak mücadele edilebilen,hızlı,başarılı bir diger GBM türüdür. Yandex tarafından 2017 yılında geliştirilmiştir.\n",
    "\n",
    " * Kategorik değişken desteği\n",
    " * Hızlı ve ölçeklenebilir GPU desteği\n",
    " * Daha başarılı tahminler\n",
    " * Hızlı train ve hızlı tahmin\n",
    " * Rusya'nın ilk açık kaynak kodlu başarılı ML çalışması"
   ]
  },
  {
   "cell_type": "markdown",
   "metadata": {},
   "source": [
    "#### Model"
   ]
  },
  {
   "cell_type": "code",
   "execution_count": 55,
   "metadata": {},
   "outputs": [],
   "source": [
    "hit = pd.read_csv(\"Hitters.csv\")\n",
    "df = hit.copy()\n",
    "df = df.dropna()\n",
    "dms = pd.get_dummies(df[['League', 'Division', 'NewLeague']])\n",
    "y = df[\"Salary\"]\n",
    "X_ = df.drop(['Salary', 'League', 'Division', 'NewLeague'], axis=1).astype('float64')\n",
    "X = pd.concat([X_, dms[['League_N', 'Division_W', 'NewLeague_N']]], axis=1)\n",
    "X_train, X_test, y_train, y_test = train_test_split(X, y, \n",
    "                                                    test_size=0.25, \n",
    "                                                    random_state=42)"
   ]
  },
  {
   "cell_type": "code",
   "execution_count": 56,
   "metadata": {
    "collapsed": true,
    "jupyter": {
     "outputs_hidden": true
    }
   },
   "outputs": [
    {
     "name": "stdout",
     "output_type": "stream",
     "text": [
      "Collecting catboost\n",
      "  Downloading catboost-0.24.4-cp38-none-win_amd64.whl (65.4 MB)\n",
      "Requirement already satisfied: six in c:\\users\\resul\\anaconda3\\lib\\site-packages (from catboost) (1.15.0)\n",
      "Requirement already satisfied: numpy>=1.16.0 in c:\\users\\resul\\anaconda3\\lib\\site-packages (from catboost) (1.19.2)\n",
      "Collecting graphviz\n",
      "  Downloading graphviz-0.16-py2.py3-none-any.whl (19 kB)\n",
      "Collecting plotly\n",
      "  Downloading plotly-4.14.3-py2.py3-none-any.whl (13.2 MB)\n",
      "Requirement already satisfied: matplotlib in c:\\users\\resul\\anaconda3\\lib\\site-packages (from catboost) (3.3.2)\n",
      "Requirement already satisfied: scipy in c:\\users\\resul\\anaconda3\\lib\\site-packages (from catboost) (1.5.2)\n",
      "Requirement already satisfied: pandas>=0.24.0 in c:\\users\\resul\\anaconda3\\lib\\site-packages (from catboost) (1.1.3)\n",
      "Collecting retrying>=1.3.3\n",
      "  Downloading retrying-1.3.3.tar.gz (10 kB)\n",
      "Requirement already satisfied: certifi>=2020.06.20 in c:\\users\\resul\\anaconda3\\lib\\site-packages (from matplotlib->catboost) (2020.6.20)\n",
      "Requirement already satisfied: kiwisolver>=1.0.1 in c:\\users\\resul\\anaconda3\\lib\\site-packages (from matplotlib->catboost) (1.3.0)\n",
      "Requirement already satisfied: python-dateutil>=2.1 in c:\\users\\resul\\anaconda3\\lib\\site-packages (from matplotlib->catboost) (2.8.1)\n",
      "Requirement already satisfied: cycler>=0.10 in c:\\users\\resul\\anaconda3\\lib\\site-packages (from matplotlib->catboost) (0.10.0)\n",
      "Requirement already satisfied: pyparsing!=2.0.4,!=2.1.2,!=2.1.6,>=2.0.3 in c:\\users\\resul\\anaconda3\\lib\\site-packages (from matplotlib->catboost) (2.4.7)\n",
      "Requirement already satisfied: pillow>=6.2.0 in c:\\users\\resul\\anaconda3\\lib\\site-packages (from matplotlib->catboost) (8.0.1)\n",
      "Requirement already satisfied: pytz>=2017.2 in c:\\users\\resul\\anaconda3\\lib\\site-packages (from pandas>=0.24.0->catboost) (2020.1)\n",
      "Building wheels for collected packages: retrying\n",
      "  Building wheel for retrying (setup.py): started\n",
      "  Building wheel for retrying (setup.py): finished with status 'done'\n",
      "  Created wheel for retrying: filename=retrying-1.3.3-py3-none-any.whl size=11434 sha256=bc09cb7dd964cb562058cff78dafdfb82ce646799f7d91c26a844e903748d173\n",
      "  Stored in directory: c:\\users\\resul\\appdata\\local\\pip\\cache\\wheels\\c4\\a7\\48\\0a434133f6d56e878ca511c0e6c38326907c0792f67b476e56\n",
      "Successfully built retrying\n",
      "Installing collected packages: graphviz, retrying, plotly, catboost\n",
      "Successfully installed catboost-0.24.4 graphviz-0.16 plotly-4.14.3 retrying-1.3.3\n"
     ]
    }
   ],
   "source": [
    "!pip install catboost"
   ]
  },
  {
   "cell_type": "code",
   "execution_count": 57,
   "metadata": {},
   "outputs": [],
   "source": [
    "from catboost import CatBoostRegressor"
   ]
  },
  {
   "cell_type": "code",
   "execution_count": null,
   "metadata": {},
   "outputs": [],
   "source": [
    "# Model Oluşturma\n",
    "catb = CatBoostRegressor()\n",
    "catb_model = catb.fit(X_train, y_train)"
   ]
  },
  {
   "cell_type": "markdown",
   "metadata": {},
   "source": [
    "#### Tahmin"
   ]
  },
  {
   "cell_type": "code",
   "execution_count": null,
   "metadata": {},
   "outputs": [],
   "source": [
    "# Test Hatası\n",
    "y_pred = catb_model.predict(X_test)\n",
    "np.sqrt(mean_squared_error(y_test, y_pred))"
   ]
  },
  {
   "cell_type": "markdown",
   "metadata": {},
   "source": [
    "#### Model Tuning"
   ]
  },
  {
   "cell_type": "code",
   "execution_count": null,
   "metadata": {},
   "outputs": [],
   "source": [
    "# Uygun olan hiperparametre seçimi\n",
    "catb_grid = {\n",
    "    'iterations': [200,500,1000,2000],\n",
    "    'learning_rate': [0.01, 0.03, 0.05, 0.1],\n",
    "    'depth': [3,4,5,6,7,8] }"
   ]
  },
  {
   "cell_type": "code",
   "execution_count": null,
   "metadata": {},
   "outputs": [],
   "source": [
    "# Model Oluşturma\n",
    "catb = CatBoostRegressor()\n",
    "catb_cv_model = GridSearchCV(catb, catb_grid, cv=5, n_jobs = -1, verbose = 2)\n",
    "catb_cv_model.fit(X_train, y_train)"
   ]
  },
  {
   "cell_type": "code",
   "execution_count": null,
   "metadata": {},
   "outputs": [],
   "source": [
    "# En iyi parametre gözlem değerleri\n",
    "catb_cv_model.best_params_"
   ]
  },
  {
   "cell_type": "code",
   "execution_count": null,
   "metadata": {},
   "outputs": [],
   "source": [
    "# Final Modeli\n",
    "catb_tuned = CatBoostRegressor(iterations = 200, \n",
    "                               learning_rate = 0.01, \n",
    "                               depth = 8)\n",
    "​\n",
    "catb_tuned = catb_tuned.fit(X_train,y_train)"
   ]
  },
  {
   "cell_type": "code",
   "execution_count": null,
   "metadata": {},
   "outputs": [],
   "source": [
    "# Test Hatası\n",
    "y_pred = catb_tuned.predict(X_test)\n",
    "np.sqrt(mean_squared_error(y_test, y_pred))"
   ]
  }
 ],
 "metadata": {
  "kernelspec": {
   "display_name": "Python 3",
   "language": "python",
   "name": "python3"
  },
  "language_info": {
   "codemirror_mode": {
    "name": "ipython",
    "version": 3
   },
   "file_extension": ".py",
   "mimetype": "text/x-python",
   "name": "python",
   "nbconvert_exporter": "python",
   "pygments_lexer": "ipython3",
   "version": "3.8.5"
  }
 },
 "nbformat": 4,
 "nbformat_minor": 4
}
