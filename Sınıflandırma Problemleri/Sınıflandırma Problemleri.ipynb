{
 "cells": [
  {
   "cell_type": "markdown",
   "metadata": {},
   "source": [
    "# Sınıflandırma Problemleri"
   ]
  },
  {
   "cell_type": "markdown",
   "metadata": {},
   "source": [
    "Hedeflenen değişken bir kategorik değişken olacak ve amacımız yine benzer bir şekilde örneğin yeni bir gözlem birimi geldiğinde bağımsız bir değişken değerleri gözlemlendiğinde kategorik değişkenin 1 ya da 0 sınıfının gerçekleşme olasılığı ile ilgileneceğiz."
   ]
  },
  {
   "cell_type": "code",
   "execution_count": 3,
   "metadata": {},
   "outputs": [],
   "source": [
    "import numpy as np\n",
    "import pandas as pd \n",
    "import statsmodels.api as sm\n",
    "import statsmodels.formula.api as smf\n",
    "import seaborn as sns\n",
    "from sklearn.preprocessing import scale \n",
    "from sklearn.model_selection import train_test_split, GridSearchCV, cross_val_score\n",
    "from sklearn.metrics import confusion_matrix, accuracy_score, classification_report\n",
    "from sklearn.metrics import roc_auc_score,roc_curve\n",
    "import statsmodels.formula.api as smf\n",
    "import matplotlib.pyplot as plt\n",
    "from sklearn.neighbors import KNeighborsClassifier\n",
    "from sklearn.discriminant_analysis import LinearDiscriminantAnalysis\n",
    "from sklearn.linear_model import LogisticRegression\n",
    "from sklearn.svm import SVC\n",
    "from sklearn.naive_bayes import GaussianNB\n",
    "from sklearn import tree\n",
    "from sklearn.ensemble import RandomForestClassifier\n",
    "from sklearn.ensemble import GradientBoostingClassifier\n",
    "\n",
    "\n",
    "from warnings import filterwarnings\n",
    "filterwarnings('ignore')"
   ]
  },
  {
   "cell_type": "markdown",
   "metadata": {},
   "source": [
    "## Lojistik Regresyon (Logistic Regression)"
   ]
  },
  {
   "cell_type": "markdown",
   "metadata": {},
   "source": [
    "**Amaç**,sınıflandırma problemi için bağımlı ve bağımsız değişkenler arasındaki ilişkiyi tanımlayan doğrusal bir model kurmaktır.Bağımlı değişkenimiz kategoriktir.Kategorik bir yanıt değişkenin tahmin edilmesine sınıflandırma problemi denmiş olur.Amacımız henüz gözlenmemiş bir X değer seti geldiğinde bunun sonucunda oluşacak sınıfı ortaya çıkarmaktır.Genellikle X'in her bir kategoriye ait olma olasılıkları ile ilgilenir.\n",
    "\n",
    "Sınıf tahminlerinin iyiliği, yanlış sınıflandırma oranı ya da doğru sınıflandırma oranı ile ölçülür.\n",
    "\n",
    " * Bağımlı değişken kategoriktir.\n",
    " * Adını bağımlı değişkene uygulanan logit dönüşümünden alır.\n",
    " * Doğrusal regresyonda aranan varsayımlar burada aranmadığı için daha esnek kullanılabilirliği vardır.\n",
    " * Bağımlı değişkenin 1 olarak tanımlanan değerinin gerçekleşme olasılığı hesaplanır.Dolayısıyla bağımlı değişkenin alacağı değer ile ilgilenilmez.\n",
    " * Logistik fonksiyonu sayesinde üretilen değerler 0-1 arasında olur."
   ]
  },
  {
   "cell_type": "markdown",
   "metadata": {},
   "source": [
    "#### Model"
   ]
  },
  {
   "cell_type": "markdown",
   "metadata": {},
   "source": [
    "Veri seti bir hasta geldiğinde onun şeker hastası olup olmadığını tahmin edebilecek bir makine öğrenmesi modeli geliştirilebilir mi ? Buna yönelik olarak veri setinde örneğin ; daha önce geçirilen hamilelik sayısı,kan basıncı,vücut kitle endeksi,insülin ve yaş gibi bazı değişkenler vardır.Buradaki **Outcome** değişkeni çıktı/hedef/bağımlı değişkenimizdir."
   ]
  },
  {
   "cell_type": "code",
   "execution_count": 5,
   "metadata": {},
   "outputs": [
    {
     "data": {
      "text/html": [
       "<div>\n",
       "<style scoped>\n",
       "    .dataframe tbody tr th:only-of-type {\n",
       "        vertical-align: middle;\n",
       "    }\n",
       "\n",
       "    .dataframe tbody tr th {\n",
       "        vertical-align: top;\n",
       "    }\n",
       "\n",
       "    .dataframe thead th {\n",
       "        text-align: right;\n",
       "    }\n",
       "</style>\n",
       "<table border=\"1\" class=\"dataframe\">\n",
       "  <thead>\n",
       "    <tr style=\"text-align: right;\">\n",
       "      <th></th>\n",
       "      <th>Pregnancies</th>\n",
       "      <th>Glucose</th>\n",
       "      <th>BloodPressure</th>\n",
       "      <th>SkinThickness</th>\n",
       "      <th>Insulin</th>\n",
       "      <th>BMI</th>\n",
       "      <th>DiabetesPedigreeFunction</th>\n",
       "      <th>Age</th>\n",
       "      <th>Outcome</th>\n",
       "    </tr>\n",
       "  </thead>\n",
       "  <tbody>\n",
       "    <tr>\n",
       "      <td>0</td>\n",
       "      <td>6</td>\n",
       "      <td>148</td>\n",
       "      <td>72</td>\n",
       "      <td>35</td>\n",
       "      <td>0</td>\n",
       "      <td>33.6</td>\n",
       "      <td>0.627</td>\n",
       "      <td>50</td>\n",
       "      <td>1</td>\n",
       "    </tr>\n",
       "    <tr>\n",
       "      <td>1</td>\n",
       "      <td>1</td>\n",
       "      <td>85</td>\n",
       "      <td>66</td>\n",
       "      <td>29</td>\n",
       "      <td>0</td>\n",
       "      <td>26.6</td>\n",
       "      <td>0.351</td>\n",
       "      <td>31</td>\n",
       "      <td>0</td>\n",
       "    </tr>\n",
       "    <tr>\n",
       "      <td>2</td>\n",
       "      <td>8</td>\n",
       "      <td>183</td>\n",
       "      <td>64</td>\n",
       "      <td>0</td>\n",
       "      <td>0</td>\n",
       "      <td>23.3</td>\n",
       "      <td>0.672</td>\n",
       "      <td>32</td>\n",
       "      <td>1</td>\n",
       "    </tr>\n",
       "    <tr>\n",
       "      <td>3</td>\n",
       "      <td>1</td>\n",
       "      <td>89</td>\n",
       "      <td>66</td>\n",
       "      <td>23</td>\n",
       "      <td>94</td>\n",
       "      <td>28.1</td>\n",
       "      <td>0.167</td>\n",
       "      <td>21</td>\n",
       "      <td>0</td>\n",
       "    </tr>\n",
       "    <tr>\n",
       "      <td>4</td>\n",
       "      <td>0</td>\n",
       "      <td>137</td>\n",
       "      <td>40</td>\n",
       "      <td>35</td>\n",
       "      <td>168</td>\n",
       "      <td>43.1</td>\n",
       "      <td>2.288</td>\n",
       "      <td>33</td>\n",
       "      <td>1</td>\n",
       "    </tr>\n",
       "  </tbody>\n",
       "</table>\n",
       "</div>"
      ],
      "text/plain": [
       "   Pregnancies  Glucose  BloodPressure  SkinThickness  Insulin   BMI  \\\n",
       "0            6      148             72             35        0  33.6   \n",
       "1            1       85             66             29        0  26.6   \n",
       "2            8      183             64              0        0  23.3   \n",
       "3            1       89             66             23       94  28.1   \n",
       "4            0      137             40             35      168  43.1   \n",
       "\n",
       "   DiabetesPedigreeFunction  Age  Outcome  \n",
       "0                     0.627   50        1  \n",
       "1                     0.351   31        0  \n",
       "2                     0.672   32        1  \n",
       "3                     0.167   21        0  \n",
       "4                     2.288   33        1  "
      ]
     },
     "execution_count": 5,
     "metadata": {},
     "output_type": "execute_result"
    }
   ],
   "source": [
    "diabetes = pd.read_csv(\"diabetes.csv\")\n",
    "df = diabetes.copy()\n",
    "df = df.dropna()\n",
    "df.head()"
   ]
  },
  {
   "cell_type": "code",
   "execution_count": 8,
   "metadata": {},
   "outputs": [
    {
     "name": "stdout",
     "output_type": "stream",
     "text": [
      "<class 'pandas.core.frame.DataFrame'>\n",
      "Int64Index: 768 entries, 0 to 767\n",
      "Data columns (total 9 columns):\n",
      "Pregnancies                 768 non-null int64\n",
      "Glucose                     768 non-null int64\n",
      "BloodPressure               768 non-null int64\n",
      "SkinThickness               768 non-null int64\n",
      "Insulin                     768 non-null int64\n",
      "BMI                         768 non-null float64\n",
      "DiabetesPedigreeFunction    768 non-null float64\n",
      "Age                         768 non-null int64\n",
      "Outcome                     768 non-null int64\n",
      "dtypes: float64(2), int64(7)\n",
      "memory usage: 60.0 KB\n"
     ]
    }
   ],
   "source": [
    "df.info()"
   ]
  },
  {
   "cell_type": "markdown",
   "metadata": {},
   "source": [
    "Buradaki **Outcome** değişkenimiz bir kategorik değişken olarak görünmese de 0-1 şeklinde evet-hayır ifade eden bir yapıdadır."
   ]
  },
  {
   "cell_type": "code",
   "execution_count": 11,
   "metadata": {},
   "outputs": [
    {
     "data": {
      "text/plain": [
       "0    500\n",
       "1    268\n",
       "Name: Outcome, dtype: int64"
      ]
     },
     "execution_count": 11,
     "metadata": {},
     "output_type": "execute_result"
    }
   ],
   "source": [
    "# Bağımlı değişken içindeki şeker hastası olanlar(1) ve olmayanlar(0)\n",
    "df[\"Outcome\"].value_counts()"
   ]
  },
  {
   "cell_type": "code",
   "execution_count": 12,
   "metadata": {},
   "outputs": [
    {
     "data": {
      "image/png": "[encoded data removed]",
      "text/plain": [
       "<Figure size 432x288 with 1 Axes>"
      ]
     },
     "metadata": {
      "needs_background": "light"
     },
     "output_type": "display_data"
    }
   ],
   "source": [
    "# Görsel gösterimi\n",
    "df[\"Outcome\"].value_counts().plot.barh();"
   ]
  },
  {
   "cell_type": "code",
   "execution_count": 13,
   "metadata": {},
   "outputs": [
    {
     "data": {
      "text/html": [
       "<div>\n",
       "<style scoped>\n",
       "    .dataframe tbody tr th:only-of-type {\n",
       "        vertical-align: middle;\n",
       "    }\n",
       "\n",
       "    .dataframe tbody tr th {\n",
       "        vertical-align: top;\n",
       "    }\n",
       "\n",
       "    .dataframe thead th {\n",
       "        text-align: right;\n",
       "    }\n",
       "</style>\n",
       "<table border=\"1\" class=\"dataframe\">\n",
       "  <thead>\n",
       "    <tr style=\"text-align: right;\">\n",
       "      <th></th>\n",
       "      <th>count</th>\n",
       "      <th>mean</th>\n",
       "      <th>std</th>\n",
       "      <th>min</th>\n",
       "      <th>25%</th>\n",
       "      <th>50%</th>\n",
       "      <th>75%</th>\n",
       "      <th>max</th>\n",
       "    </tr>\n",
       "  </thead>\n",
       "  <tbody>\n",
       "    <tr>\n",
       "      <td>Pregnancies</td>\n",
       "      <td>768.0</td>\n",
       "      <td>3.845052</td>\n",
       "      <td>3.369578</td>\n",
       "      <td>0.000</td>\n",
       "      <td>1.00000</td>\n",
       "      <td>3.0000</td>\n",
       "      <td>6.00000</td>\n",
       "      <td>17.00</td>\n",
       "    </tr>\n",
       "    <tr>\n",
       "      <td>Glucose</td>\n",
       "      <td>768.0</td>\n",
       "      <td>120.894531</td>\n",
       "      <td>31.972618</td>\n",
       "      <td>0.000</td>\n",
       "      <td>99.00000</td>\n",
       "      <td>117.0000</td>\n",
       "      <td>140.25000</td>\n",
       "      <td>199.00</td>\n",
       "    </tr>\n",
       "    <tr>\n",
       "      <td>BloodPressure</td>\n",
       "      <td>768.0</td>\n",
       "      <td>69.105469</td>\n",
       "      <td>19.355807</td>\n",
       "      <td>0.000</td>\n",
       "      <td>62.00000</td>\n",
       "      <td>72.0000</td>\n",
       "      <td>80.00000</td>\n",
       "      <td>122.00</td>\n",
       "    </tr>\n",
       "    <tr>\n",
       "      <td>SkinThickness</td>\n",
       "      <td>768.0</td>\n",
       "      <td>20.536458</td>\n",
       "      <td>15.952218</td>\n",
       "      <td>0.000</td>\n",
       "      <td>0.00000</td>\n",
       "      <td>23.0000</td>\n",
       "      <td>32.00000</td>\n",
       "      <td>99.00</td>\n",
       "    </tr>\n",
       "    <tr>\n",
       "      <td>Insulin</td>\n",
       "      <td>768.0</td>\n",
       "      <td>79.799479</td>\n",
       "      <td>115.244002</td>\n",
       "      <td>0.000</td>\n",
       "      <td>0.00000</td>\n",
       "      <td>30.5000</td>\n",
       "      <td>127.25000</td>\n",
       "      <td>846.00</td>\n",
       "    </tr>\n",
       "    <tr>\n",
       "      <td>BMI</td>\n",
       "      <td>768.0</td>\n",
       "      <td>31.992578</td>\n",
       "      <td>7.884160</td>\n",
       "      <td>0.000</td>\n",
       "      <td>27.30000</td>\n",
       "      <td>32.0000</td>\n",
       "      <td>36.60000</td>\n",
       "      <td>67.10</td>\n",
       "    </tr>\n",
       "    <tr>\n",
       "      <td>DiabetesPedigreeFunction</td>\n",
       "      <td>768.0</td>\n",
       "      <td>0.471876</td>\n",
       "      <td>0.331329</td>\n",
       "      <td>0.078</td>\n",
       "      <td>0.24375</td>\n",
       "      <td>0.3725</td>\n",
       "      <td>0.62625</td>\n",
       "      <td>2.42</td>\n",
       "    </tr>\n",
       "    <tr>\n",
       "      <td>Age</td>\n",
       "      <td>768.0</td>\n",
       "      <td>33.240885</td>\n",
       "      <td>11.760232</td>\n",
       "      <td>21.000</td>\n",
       "      <td>24.00000</td>\n",
       "      <td>29.0000</td>\n",
       "      <td>41.00000</td>\n",
       "      <td>81.00</td>\n",
       "    </tr>\n",
       "    <tr>\n",
       "      <td>Outcome</td>\n",
       "      <td>768.0</td>\n",
       "      <td>0.348958</td>\n",
       "      <td>0.476951</td>\n",
       "      <td>0.000</td>\n",
       "      <td>0.00000</td>\n",
       "      <td>0.0000</td>\n",
       "      <td>1.00000</td>\n",
       "      <td>1.00</td>\n",
       "    </tr>\n",
       "  </tbody>\n",
       "</table>\n",
       "</div>"
      ],
      "text/plain": [
       "                          count        mean         std     min       25%  \\\n",
       "Pregnancies               768.0    3.845052    3.369578   0.000   1.00000   \n",
       "Glucose                   768.0  120.894531   31.972618   0.000  99.00000   \n",
       "BloodPressure             768.0   69.105469   19.355807   0.000  62.00000   \n",
       "SkinThickness             768.0   20.536458   15.952218   0.000   0.00000   \n",
       "Insulin                   768.0   79.799479  115.244002   0.000   0.00000   \n",
       "BMI                       768.0   31.992578    7.884160   0.000  27.30000   \n",
       "DiabetesPedigreeFunction  768.0    0.471876    0.331329   0.078   0.24375   \n",
       "Age                       768.0   33.240885   11.760232  21.000  24.00000   \n",
       "Outcome                   768.0    0.348958    0.476951   0.000   0.00000   \n",
       "\n",
       "                               50%        75%     max  \n",
       "Pregnancies                 3.0000    6.00000   17.00  \n",
       "Glucose                   117.0000  140.25000  199.00  \n",
       "BloodPressure              72.0000   80.00000  122.00  \n",
       "SkinThickness              23.0000   32.00000   99.00  \n",
       "Insulin                    30.5000  127.25000  846.00  \n",
       "BMI                        32.0000   36.60000   67.10  \n",
       "DiabetesPedigreeFunction    0.3725    0.62625    2.42  \n",
       "Age                        29.0000   41.00000   81.00  \n",
       "Outcome                     0.0000    1.00000    1.00  "
      ]
     },
     "execution_count": 13,
     "metadata": {},
     "output_type": "execute_result"
    }
   ],
   "source": [
    "# Veri setti içerisinde ki sürekli değişkenlerin betimsel istatistikleri\n",
    "df.describe().T"
   ]
  },
  {
   "cell_type": "code",
   "execution_count": 14,
   "metadata": {},
   "outputs": [],
   "source": [
    "# Değişkenlerimizi Oluşturma\n",
    "y = df[\"Outcome\"]  # bağımlı değişken\n",
    "X = df.drop([\"Outcome\"], axis = 1)  # bağımlı değikeni dışarıda bırakarak geri kalan sürekli değişkenleri aldık"
   ]
  },
  {
   "cell_type": "code",
   "execution_count": 15,
   "metadata": {},
   "outputs": [
    {
     "name": "stdout",
     "output_type": "stream",
     "text": [
      "Optimization terminated successfully.\n",
      "         Current function value: 0.608498\n",
      "         Iterations 5\n"
     ]
    }
   ],
   "source": [
    "# Stats-Model ile Model Kurma\n",
    "loj = sm.Logit(y, X)\n",
    "loj_model = loj.fit()"
   ]
  },
  {
   "cell_type": "code",
   "execution_count": 16,
   "metadata": {},
   "outputs": [
    {
     "data": {
      "text/html": [
       "<table class=\"simpletable\">\n",
       "<caption>Logit Regression Results</caption>\n",
       "<tr>\n",
       "  <th>Dep. Variable:</th>        <td>Outcome</td>     <th>  No. Observations:  </th>  <td>   768</td>  \n",
       "</tr>\n",
       "<tr>\n",
       "  <th>Model:</th>                 <td>Logit</td>      <th>  Df Residuals:      </th>  <td>   760</td>  \n",
       "</tr>\n",
       "<tr>\n",
       "  <th>Method:</th>                 <td>MLE</td>       <th>  Df Model:          </th>  <td>     7</td>  \n",
       "</tr>\n",
       "<tr>\n",
       "  <th>Date:</th>            <td>Mon, 15 Feb 2021</td> <th>  Pseudo R-squ.:     </th>  <td>0.05922</td> \n",
       "</tr>\n",
       "<tr>\n",
       "  <th>Time:</th>                <td>14:05:23</td>     <th>  Log-Likelihood:    </th> <td> -467.33</td> \n",
       "</tr>\n",
       "<tr>\n",
       "  <th>converged:</th>             <td>True</td>       <th>  LL-Null:           </th> <td> -496.74</td> \n",
       "</tr>\n",
       "<tr>\n",
       "  <th>Covariance Type:</th>     <td>nonrobust</td>    <th>  LLR p-value:       </th> <td>2.583e-10</td>\n",
       "</tr>\n",
       "</table>\n",
       "<table class=\"simpletable\">\n",
       "<tr>\n",
       "              <td></td>                <th>coef</th>     <th>std err</th>      <th>z</th>      <th>P>|z|</th>  <th>[0.025</th>    <th>0.975]</th>  \n",
       "</tr>\n",
       "<tr>\n",
       "  <th>Pregnancies</th>              <td>    0.1284</td> <td>    0.029</td> <td>    4.484</td> <td> 0.000</td> <td>    0.072</td> <td>    0.185</td>\n",
       "</tr>\n",
       "<tr>\n",
       "  <th>Glucose</th>                  <td>    0.0129</td> <td>    0.003</td> <td>    4.757</td> <td> 0.000</td> <td>    0.008</td> <td>    0.018</td>\n",
       "</tr>\n",
       "<tr>\n",
       "  <th>BloodPressure</th>            <td>   -0.0303</td> <td>    0.005</td> <td>   -6.481</td> <td> 0.000</td> <td>   -0.039</td> <td>   -0.021</td>\n",
       "</tr>\n",
       "<tr>\n",
       "  <th>SkinThickness</th>            <td>    0.0002</td> <td>    0.006</td> <td>    0.032</td> <td> 0.974</td> <td>   -0.012</td> <td>    0.012</td>\n",
       "</tr>\n",
       "<tr>\n",
       "  <th>Insulin</th>                  <td>    0.0007</td> <td>    0.001</td> <td>    0.942</td> <td> 0.346</td> <td>   -0.001</td> <td>    0.002</td>\n",
       "</tr>\n",
       "<tr>\n",
       "  <th>BMI</th>                      <td>   -0.0048</td> <td>    0.011</td> <td>   -0.449</td> <td> 0.653</td> <td>   -0.026</td> <td>    0.016</td>\n",
       "</tr>\n",
       "<tr>\n",
       "  <th>DiabetesPedigreeFunction</th> <td>    0.3203</td> <td>    0.240</td> <td>    1.335</td> <td> 0.182</td> <td>   -0.150</td> <td>    0.790</td>\n",
       "</tr>\n",
       "<tr>\n",
       "  <th>Age</th>                      <td>   -0.0156</td> <td>    0.008</td> <td>   -1.852</td> <td> 0.064</td> <td>   -0.032</td> <td>    0.001</td>\n",
       "</tr>\n",
       "</table>"
      ],
      "text/plain": [
       "<class 'statsmodels.iolib.summary.Summary'>\n",
       "\"\"\"\n",
       "                           Logit Regression Results                           \n",
       "==============================================================================\n",
       "Dep. Variable:                Outcome   No. Observations:                  768\n",
       "Model:                          Logit   Df Residuals:                      760\n",
       "Method:                           MLE   Df Model:                            7\n",
       "Date:                Mon, 15 Feb 2021   Pseudo R-squ.:                 0.05922\n",
       "Time:                        14:05:23   Log-Likelihood:                -467.33\n",
       "converged:                       True   LL-Null:                       -496.74\n",
       "Covariance Type:            nonrobust   LLR p-value:                 2.583e-10\n",
       "============================================================================================\n",
       "                               coef    std err          z      P>|z|      [0.025      0.975]\n",
       "--------------------------------------------------------------------------------------------\n",
       "Pregnancies                  0.1284      0.029      4.484      0.000       0.072       0.185\n",
       "Glucose                      0.0129      0.003      4.757      0.000       0.008       0.018\n",
       "BloodPressure               -0.0303      0.005     -6.481      0.000      -0.039      -0.021\n",
       "SkinThickness                0.0002      0.006      0.032      0.974      -0.012       0.012\n",
       "Insulin                      0.0007      0.001      0.942      0.346      -0.001       0.002\n",
       "BMI                         -0.0048      0.011     -0.449      0.653      -0.026       0.016\n",
       "DiabetesPedigreeFunction     0.3203      0.240      1.335      0.182      -0.150       0.790\n",
       "Age                         -0.0156      0.008     -1.852      0.064      -0.032       0.001\n",
       "============================================================================================\n",
       "\"\"\""
      ]
     },
     "execution_count": 16,
     "metadata": {},
     "output_type": "execute_result"
    }
   ],
   "source": [
    "loj_model.summary()"
   ]
  },
  {
   "cell_type": "code",
   "execution_count": 18,
   "metadata": {},
   "outputs": [
    {
     "data": {
      "text/plain": [
       "LogisticRegression(C=1.0, class_weight=None, dual=False, fit_intercept=True,\n",
       "                   intercept_scaling=1, l1_ratio=None, max_iter=100,\n",
       "                   multi_class='warn', n_jobs=None, penalty='l2',\n",
       "                   random_state=None, solver='liblinear', tol=0.0001, verbose=0,\n",
       "                   warm_start=False)"
      ]
     },
     "execution_count": 18,
     "metadata": {},
     "output_type": "execute_result"
    }
   ],
   "source": [
    "# Scikit-Learn ile Model Kurma\n",
    "from sklearn.linear_model import LogisticRegression\n",
    "loj = LogisticRegression(solver=\"liblinear\")\n",
    "loj_model = loj.fit(X,y)\n",
    "loj_model"
   ]
  },
  {
   "cell_type": "code",
   "execution_count": 20,
   "metadata": {},
   "outputs": [
    {
     "data": {
      "text/plain": [
       "array([-5.85143231])"
      ]
     },
     "execution_count": 20,
     "metadata": {},
     "output_type": "execute_result"
    }
   ],
   "source": [
    "# Sabit Katsayı\n",
    "loj_model.intercept_"
   ]
  },
  {
   "cell_type": "code",
   "execution_count": 22,
   "metadata": {},
   "outputs": [
    {
     "data": {
      "text/plain": [
       "array([[ 1.16963683e-01,  2.82797772e-02, -1.69496404e-02,\n",
       "         7.62955369e-04, -6.33114442e-04,  5.93176655e-02,\n",
       "         6.70241372e-01,  7.12009920e-03]])"
      ]
     },
     "execution_count": 22,
     "metadata": {},
     "output_type": "execute_result"
    }
   ],
   "source": [
    "# Bütün bağımsız değişkenlerin katsayısı\n",
    "loj_model.coef_"
   ]
  },
  {
   "cell_type": "markdown",
   "metadata": {},
   "source": [
    "#### Tahmin - Model Tuning"
   ]
  },
  {
   "cell_type": "code",
   "execution_count": 23,
   "metadata": {},
   "outputs": [],
   "source": [
    "y_pred = loj_model.predict(X)"
   ]
  },
  {
   "cell_type": "code",
   "execution_count": 24,
   "metadata": {},
   "outputs": [
    {
     "data": {
      "text/plain": [
       "array([[448,  52],\n",
       "       [121, 147]], dtype=int64)"
      ]
     },
     "execution_count": 24,
     "metadata": {},
     "output_type": "execute_result"
    }
   ],
   "source": [
    "# Karmaşıklık Matrisi\n",
    "confusion_matrix(y, y_pred)"
   ]
  },
  {
   "cell_type": "code",
   "execution_count": 25,
   "metadata": {},
   "outputs": [
    {
     "data": {
      "text/plain": [
       "0.7747395833333334"
      ]
     },
     "execution_count": 25,
     "metadata": {},
     "output_type": "execute_result"
    }
   ],
   "source": [
    "# Doğruluk puanı --> Doğru yapılan işler / Tüm işler \n",
    "accuracy_score(y, y_pred)"
   ]
  },
  {
   "cell_type": "code",
   "execution_count": 37,
   "metadata": {},
   "outputs": [
    {
     "name": "stdout",
     "output_type": "stream",
     "text": [
      "              precision    recall  f1-score   support\n",
      "\n",
      "           0       0.79      0.90      0.84       500\n",
      "           1       0.74      0.55      0.63       268\n",
      "\n",
      "    accuracy                           0.77       768\n",
      "   macro avg       0.76      0.72      0.73       768\n",
      "weighted avg       0.77      0.77      0.77       768\n",
      "\n"
     ]
    }
   ],
   "source": [
    "print(classification_report(y, y_pred))"
   ]
  },
  {
   "cell_type": "code",
   "execution_count": 28,
   "metadata": {},
   "outputs": [
    {
     "data": {
      "text/plain": [
       "array([1, 0, 1, 0, 1, 0, 0, 1, 1, 0], dtype=int64)"
      ]
     },
     "execution_count": 28,
     "metadata": {},
     "output_type": "execute_result"
    }
   ],
   "source": [
    "loj_model.predict(X)[0:10]"
   ]
  },
  {
   "cell_type": "code",
   "execution_count": 29,
   "metadata": {},
   "outputs": [
    {
     "data": {
      "text/plain": [
       "array([[0.35173854, 0.64826146],\n",
       "       [0.91632343, 0.08367657],\n",
       "       [0.22529941, 0.77470059],\n",
       "       [0.92055638, 0.07944362],\n",
       "       [0.16933907, 0.83066093],\n",
       "       [0.79795784, 0.20204216],\n",
       "       [0.87903358, 0.12096642],\n",
       "       [0.27676054, 0.72323946],\n",
       "       [0.32079071, 0.67920929],\n",
       "       [0.92186314, 0.07813686]])"
      ]
     },
     "execution_count": 29,
     "metadata": {},
     "output_type": "execute_result"
    }
   ],
   "source": [
    "# 0-1 olarak değil olasılık oranı ile tahmin değerlerini gösterme --> sol taraf(0) sağ taraf(1)\n",
    "loj_model.predict_proba(X)[0:10]"
   ]
  },
  {
   "cell_type": "code",
   "execution_count": null,
   "metadata": {},
   "outputs": [],
   "source": []
  },
  {
   "cell_type": "markdown",
   "metadata": {},
   "source": [
    "Şimdi tahmin değelerinden kendimize göre bir eşik değeri belirterek bu değerin altı ve üstündeki değerlerin 0 ya da 1 olmasını söyleyeceğiz."
   ]
  },
  {
   "cell_type": "code",
   "execution_count": 31,
   "metadata": {},
   "outputs": [],
   "source": [
    "# Tahmin edilen değerler içerisinden 1 olan sütunu alma\n",
    "y_probs = loj_model.predict_proba(X)\n",
    "y_probs = y_probs[:,1]"
   ]
  },
  {
   "cell_type": "code",
   "execution_count": 33,
   "metadata": {},
   "outputs": [
    {
     "data": {
      "text/plain": [
       "array([0.64826146, 0.08367657, 0.77470059, 0.07944362, 0.83066093,\n",
       "       0.20204216, 0.12096642, 0.72323946, 0.67920929, 0.07813686])"
      ]
     },
     "execution_count": 33,
     "metadata": {},
     "output_type": "execute_result"
    }
   ],
   "source": [
    "# Doğruluğunu kontrol etme\n",
    "y_probs[0:10]"
   ]
  },
  {
   "cell_type": "code",
   "execution_count": 35,
   "metadata": {},
   "outputs": [],
   "source": [
    "# 0.5 eşik değeri belirterek üstündeki değerleri 1 altındaki değerleri 0 yap \n",
    "y_pred = [1 if i > 0.5 else 0 for i in y_probs]"
   ]
  },
  {
   "cell_type": "code",
   "execution_count": 36,
   "metadata": {},
   "outputs": [
    {
     "data": {
      "text/plain": [
       "[1, 0, 1, 0, 1, 0, 0, 1, 1, 0]"
      ]
     },
     "execution_count": 36,
     "metadata": {},
     "output_type": "execute_result"
    }
   ],
   "source": [
    "y_pred[0:10]"
   ]
  },
  {
   "cell_type": "code",
   "execution_count": 38,
   "metadata": {},
   "outputs": [
    {
     "data": {
      "image/png": "[encoded data removed]",
      "text/plain": [
       "<Figure size 432x288 with 1 Axes>"
      ]
     },
     "metadata": {
      "needs_background": "light"
     },
     "output_type": "display_data"
    }
   ],
   "source": [
    "# ROC Eğrisi\n",
    "from sklearn.metrics import roc_auc_score,roc_curve\n",
    "\n",
    "logit_roc_auc = roc_auc_score(y, loj_model.predict(X))  # auc skoru hesaplayacak fonksyion(gerçek değerler ve tahmin edilen değerler)\n",
    "\n",
    "fpr, tpr, thresholds = roc_curve(y, loj_model.predict_proba(X)[:,1])  # ilgilendiğimiz kısım olan 1 durumu\n",
    "plt.figure()\n",
    "plt.plot(fpr, tpr, label='AUC (area = %0.2f)' % logit_roc_auc)\n",
    "plt.plot([0, 1], [0, 1],'r--')\n",
    "plt.xlim([0.0, 1.0])\n",
    "plt.ylim([0.0, 1.05])\n",
    "plt.xlabel('False Positive Oranı')\n",
    "plt.ylabel('True Positive Oranı')\n",
    "plt.title('ROC')\n",
    "plt.show()"
   ]
  },
  {
   "cell_type": "markdown",
   "metadata": {},
   "source": [
    "Mavi çizgi modelimizin başarısını hesaplamak için kullanacağımzı eğri.Kırmızı çizgi ise hiçbir modelleme çalışması yapsaydık dahi elde edeceğimiz başarıyı ifade etmektedir.Rastgele bütün değerleri 1 ya da 0 değerlerini atasatdık bu çizgi ortaya çıkacaktır.Bu çizgiden ne farkım var sorusuna mümkün olduğu kadar bu çizgiden uzaklaşarak cevap vermeye çalışıyoruz.AUC (Area Under Curve)"
   ]
  },
  {
   "cell_type": "code",
   "execution_count": null,
   "metadata": {},
   "outputs": [],
   "source": []
  },
  {
   "cell_type": "markdown",
   "metadata": {},
   "source": [
    "Şimdi ise modelimizi test-train olarak ayırarak bir Cross-Validation yöntemi ile hata elde edeceğiz."
   ]
  },
  {
   "cell_type": "code",
   "execution_count": 68,
   "metadata": {},
   "outputs": [
    {
     "data": {
      "text/plain": [
       "LogisticRegression(C=1.0, class_weight=None, dual=False, fit_intercept=True,\n",
       "                   intercept_scaling=1, l1_ratio=None, max_iter=100,\n",
       "                   multi_class='warn', n_jobs=None, penalty='l2',\n",
       "                   random_state=None, solver='liblinear', tol=0.0001, verbose=0,\n",
       "                   warm_start=False)"
      ]
     },
     "execution_count": 68,
     "metadata": {},
     "output_type": "execute_result"
    }
   ],
   "source": [
    "from sklearn.model_selection import train_test_split, GridSearchCV, cross_val_score\n",
    "X_train, X_test, y_train, y_test = train_test_split(X, y,\n",
    "                                                    test_size = 0.30,\n",
    "\n",
    "                                                    random_state = 42)\n",
    "# Model Kurma\n",
    "loj = LogisticRegression(solver = \"liblinear\")\n",
    "loj_model = loj.fit(X_train, y_train)\n",
    "loj_model"
   ]
  },
  {
   "cell_type": "code",
   "execution_count": 12,
   "metadata": {},
   "outputs": [
    {
     "data": {
      "text/plain": [
       "0.7532467532467533"
      ]
     },
     "execution_count": 12,
     "metadata": {},
     "output_type": "execute_result"
    }
   ],
   "source": [
    "# Doğruluk Skoru\n",
    "accuracy_score(y_test, loj_model.predict(X_test))"
   ]
  },
  {
   "cell_type": "markdown",
   "metadata": {},
   "source": [
    "**Cross-Validation Skoru**\n",
    " * 1.argüman lojistik model, \n",
    " * 2.argüman model içerisine yerleştirilmek istenen bağımsız değişken seti\n",
    " * 3.argüman tahmin edilen y değerleri\n",
    " * 4.argüman cross validation"
   ]
  },
  {
   "cell_type": "code",
   "execution_count": 13,
   "metadata": {},
   "outputs": [
    {
     "data": {
      "text/plain": [
       "0.7704710144927536"
      ]
     },
     "execution_count": 13,
     "metadata": {},
     "output_type": "execute_result"
    }
   ],
   "source": [
    "# Modeli en doğru skoru\n",
    "cross_val_score(loj_model, X_test, y_test, cv=10).mean()"
   ]
  },
  {
   "cell_type": "markdown",
   "metadata": {},
   "source": [
    "## Gauissian Naive Bayes"
   ]
  },
  {
   "cell_type": "markdown",
   "metadata": {},
   "source": [
    "**Tanım:**Olasılık temelli bir modelleme tekniğidir.Amaç belirli bir örneğin her sınıfa ait olma olasılığının koşullu olasılık temelli hesaplanmasıdır.Örneğin bir kredi başvurusu yapmak isteyen kişinin daha önceki bilinen veriler üzerinde kredi borcunu ödeyip ödeyememe durumu örnek olarak verilebilir."
   ]
  },
  {
   "cell_type": "markdown",
   "metadata": {},
   "source": [
    "#### Model ve Tahmin"
   ]
  },
  {
   "cell_type": "code",
   "execution_count": 4,
   "metadata": {},
   "outputs": [],
   "source": [
    "df = diabetes.copy()\n",
    "df = df.dropna()\n",
    "y = df[\"Outcome\"]\n",
    "X = df.drop(['Outcome'], axis=1)\n",
    "X_train, X_test, y_train, y_test = train_test_split(X, y, \n",
    "                                                    test_size=0.30, \n",
    "                                                    random_state=42)"
   ]
  },
  {
   "cell_type": "code",
   "execution_count": 5,
   "metadata": {},
   "outputs": [],
   "source": [
    "from sklearn.naive_bayes import GaussianNB"
   ]
  },
  {
   "cell_type": "code",
   "execution_count": 70,
   "metadata": {},
   "outputs": [
    {
     "data": {
      "text/plain": [
       "GaussianNB(priors=None, var_smoothing=1e-09)"
      ]
     },
     "execution_count": 70,
     "metadata": {},
     "output_type": "execute_result"
    }
   ],
   "source": [
    "# Model Kurma\n",
    "nb = GaussianNB()\n",
    "nb_model = nb.fit(X_train, y_train)\n",
    "nb_model              "
   ]
  },
  {
   "cell_type": "code",
   "execution_count": 10,
   "metadata": {},
   "outputs": [
    {
     "data": {
      "text/plain": [
       "array([0, 0, 0, 0, 1, 1, 0, 0, 0, 1], dtype=int64)"
      ]
     },
     "execution_count": 10,
     "metadata": {},
     "output_type": "execute_result"
    }
   ],
   "source": [
    "# Tahmin edilen y değerleri\n",
    "nb_model.predict(X_test)[0:10]"
   ]
  },
  {
   "cell_type": "code",
   "execution_count": 14,
   "metadata": {},
   "outputs": [
    {
     "data": {
      "text/plain": [
       "array([[0.73815858, 0.26184142],\n",
       "       [0.94027894, 0.05972106],\n",
       "       [0.97242831, 0.02757169],\n",
       "       [0.82840069, 0.17159931],\n",
       "       [0.47153473, 0.52846527],\n",
       "       [0.47274458, 0.52725542],\n",
       "       [0.99607705, 0.00392295],\n",
       "       [0.69925055, 0.30074945],\n",
       "       [0.53838117, 0.46161883],\n",
       "       [0.25004536, 0.74995464]])"
      ]
     },
     "execution_count": 14,
     "metadata": {},
     "output_type": "execute_result"
    }
   ],
   "source": [
    "# Tahmin olasılık oranları\n",
    "nb_model.predict_proba(X_test)[0:10]"
   ]
  },
  {
   "cell_type": "code",
   "execution_count": 15,
   "metadata": {},
   "outputs": [
    {
     "data": {
      "text/plain": [
       "0.7445887445887446"
      ]
     },
     "execution_count": 15,
     "metadata": {},
     "output_type": "execute_result"
    }
   ],
   "source": [
    "# Test Hatası\n",
    "y_pred = nb_model.predict(X_test)\n",
    "accuracy_score(y_test, y_pred)"
   ]
  },
  {
   "cell_type": "code",
   "execution_count": 16,
   "metadata": {},
   "outputs": [
    {
     "data": {
      "text/plain": [
       "0.775"
      ]
     },
     "execution_count": 16,
     "metadata": {},
     "output_type": "execute_result"
    }
   ],
   "source": [
    "# Doğrulanmış Test Skoru\n",
    "cross_val_score(nb_model, X_test, y_test, cv=10).mean()"
   ]
  },
  {
   "cell_type": "markdown",
   "metadata": {},
   "source": [
    "**Dışsal bir paremetresi olmadığından dolayı Model Tuning yapma işlemi söz konusu değildir.**"
   ]
  },
  {
   "cell_type": "markdown",
   "metadata": {},
   "source": [
    "## K-En Yakın Komşu (KNN)"
   ]
  },
  {
   "cell_type": "markdown",
   "metadata": {},
   "source": [
    "Tahminler gözlem benzerliği göre yapılır.\n",
    "\n",
    "**Bana arkadaşını söyle sana kim olduğunu söyleyeyim.**\n",
    "\n",
    " **KNN Basamakları**\n",
    " * Komşu sayısını belirle\n",
    " * Bilinmeyen nokta ile diğer tüm noktolar arasındaki uzaklıkları hesapla\n",
    " * Uzaklıkları sırala ve belirlenen k sayısına göre en yakın olna k gözlemi seç\n",
    " * Sınıflandımra ise en sık sınıf, regresyon ise ortalama değeri tahmin olarak verir."
   ]
  },
  {
   "cell_type": "markdown",
   "metadata": {},
   "source": [
    "#### Model ve Tahmin"
   ]
  },
  {
   "cell_type": "code",
   "execution_count": 17,
   "metadata": {},
   "outputs": [],
   "source": [
    "df = diabetes.copy()\n",
    "df = df.dropna()\n",
    "y = df[\"Outcome\"]\n",
    "X = df.drop(['Outcome'], axis=1)\n",
    "X_train, X_test, y_train, y_test = train_test_split(X, y, \n",
    "                                                    test_size=0.30, \n",
    "                                                    random_state=42)"
   ]
  },
  {
   "cell_type": "code",
   "execution_count": 18,
   "metadata": {},
   "outputs": [
    {
     "data": {
      "text/plain": [
       "KNeighborsClassifier(algorithm='auto', leaf_size=30, metric='minkowski',\n",
       "                     metric_params=None, n_jobs=None, n_neighbors=5, p=2,\n",
       "                     weights='uniform')"
      ]
     },
     "execution_count": 18,
     "metadata": {},
     "output_type": "execute_result"
    }
   ],
   "source": [
    "# Model Kurma\n",
    "from sklearn.neighbors import KNeighborsClassifier\n",
    "knn = KNeighborsClassifier()\n",
    "knn_model = knn.fit(X_train, y_train)\n",
    "knn_model"
   ]
  },
  {
   "cell_type": "code",
   "execution_count": 20,
   "metadata": {},
   "outputs": [
    {
     "data": {
      "text/plain": [
       "0.6883116883116883"
      ]
     },
     "execution_count": 20,
     "metadata": {},
     "output_type": "execute_result"
    }
   ],
   "source": [
    "# Tahmin\n",
    "y_pred = knn_model.predict(X_test)\n",
    "accuracy_score(y_test, y_pred)"
   ]
  },
  {
   "cell_type": "code",
   "execution_count": 21,
   "metadata": {},
   "outputs": [
    {
     "name": "stdout",
     "output_type": "stream",
     "text": [
      "              precision    recall  f1-score   support\n",
      "\n",
      "           0       0.77      0.75      0.76       151\n",
      "           1       0.55      0.56      0.56        80\n",
      "\n",
      "    accuracy                           0.69       231\n",
      "   macro avg       0.66      0.66      0.66       231\n",
      "weighted avg       0.69      0.69      0.69       231\n",
      "\n"
     ]
    }
   ],
   "source": [
    "print(classification_report(y_test, y_pred))"
   ]
  },
  {
   "cell_type": "markdown",
   "metadata": {},
   "source": [
    "#### Model Tuning"
   ]
  },
  {
   "cell_type": "code",
   "execution_count": 22,
   "metadata": {},
   "outputs": [],
   "source": [
    "# Parametre \n",
    "knn_params = {\"n_neighbors\": np.arange(1,50)}"
   ]
  },
  {
   "cell_type": "code",
   "execution_count": 23,
   "metadata": {},
   "outputs": [
    {
     "data": {
      "text/plain": [
       "GridSearchCV(cv=10, error_score='raise-deprecating',\n",
       "             estimator=KNeighborsClassifier(algorithm='auto', leaf_size=30,\n",
       "                                            metric='minkowski',\n",
       "                                            metric_params=None, n_jobs=None,\n",
       "                                            n_neighbors=5, p=2,\n",
       "                                            weights='uniform'),\n",
       "             iid='warn', n_jobs=None,\n",
       "             param_grid={'n_neighbors': array([ 1,  2,  3,  4,  5,  6,  7,  8,  9, 10, 11, 12, 13, 14, 15, 16, 17,\n",
       "       18, 19, 20, 21, 22, 23, 24, 25, 26, 27, 28, 29, 30, 31, 32, 33, 34,\n",
       "       35, 36, 37, 38, 39, 40, 41, 42, 43, 44, 45, 46, 47, 48, 49])},\n",
       "             pre_dispatch='2*n_jobs', refit=True, return_train_score=False,\n",
       "             scoring=None, verbose=0)"
      ]
     },
     "execution_count": 23,
     "metadata": {},
     "output_type": "execute_result"
    }
   ],
   "source": [
    "# Cross-Valide ederek Model Kurma\n",
    "knn = KNeighborsClassifier()\n",
    "knn_cv = GridSearchCV(knn, knn_params, cv=10)\n",
    "knn_cv.fit(X_train, y_train)"
   ]
  },
  {
   "cell_type": "code",
   "execution_count": 24,
   "metadata": {},
   "outputs": [
    {
     "name": "stdout",
     "output_type": "stream",
     "text": [
      "En iyi skor:0.7486033519553073\n",
      "En iyi parametreler: {'n_neighbors': 11}\n"
     ]
    }
   ],
   "source": [
    "# Modelin en iyi değerleri\n",
    "print(\"En iyi skor:\" + str(knn_cv.best_score_))\n",
    "print(\"En iyi parametreler: \" + str(knn_cv.best_params_))"
   ]
  },
  {
   "cell_type": "code",
   "execution_count": 71,
   "metadata": {},
   "outputs": [],
   "source": [
    "# Final Modeli\n",
    "knn = KNeighborsClassifier(n_neighbors = 11)\n",
    "knn_tuned = knn.fit(X_train, y_train)"
   ]
  },
  {
   "cell_type": "code",
   "execution_count": 26,
   "metadata": {},
   "outputs": [
    {
     "data": {
      "text/plain": [
       "0.7316017316017316"
      ]
     },
     "execution_count": 26,
     "metadata": {},
     "output_type": "execute_result"
    }
   ],
   "source": [
    "# Tuned edilmiş skor değeri\n",
    "y_pred = knn_tuned.predict(X_test)\n",
    "accuracy_score(y_test, y_pred)"
   ]
  },
  {
   "cell_type": "code",
   "execution_count": 27,
   "metadata": {},
   "outputs": [
    {
     "data": {
      "text/plain": [
       "0.7316017316017316"
      ]
     },
     "execution_count": 27,
     "metadata": {},
     "output_type": "execute_result"
    }
   ],
   "source": [
    "# Başka bir fonksiyon ile accuracy değerine ulaşma\n",
    "knn_tuned.score(X_test, y_test)"
   ]
  },
  {
   "cell_type": "markdown",
   "metadata": {},
   "source": [
    "## Destek Vektör Makineleri"
   ]
  },
  {
   "cell_type": "markdown",
   "metadata": {},
   "source": [
    "### SVC (Support Vector Classification)"
   ]
  },
  {
   "cell_type": "markdown",
   "metadata": {},
   "source": [
    "**Amaç**, iki sınıf arasındaki ayrımın optimum olmasını sağlayacak hiper-düzlemi bulmaktır."
   ]
  },
  {
   "cell_type": "markdown",
   "metadata": {},
   "source": [
    "#### Model ve Tahmin"
   ]
  },
  {
   "cell_type": "code",
   "execution_count": 29,
   "metadata": {},
   "outputs": [],
   "source": [
    "df = diabetes.copy()\n",
    "df = df.dropna()\n",
    "y = df[\"Outcome\"]\n",
    "X = df.drop(['Outcome'], axis=1)\n",
    "X_train, X_test, y_train, y_test = train_test_split(X, y, \n",
    "                                                    test_size=0.30,\n",
    "                                                     random_state=42)"
   ]
  },
  {
   "cell_type": "code",
   "execution_count": 30,
   "metadata": {},
   "outputs": [
    {
     "data": {
      "text/plain": [
       "SVC(C=1.0, cache_size=200, class_weight=None, coef0=0.0,\n",
       "    decision_function_shape='ovr', degree=3, gamma='auto_deprecated',\n",
       "    kernel='linear', max_iter=-1, probability=False, random_state=None,\n",
       "    shrinking=True, tol=0.001, verbose=False)"
      ]
     },
     "execution_count": 30,
     "metadata": {},
     "output_type": "execute_result"
    }
   ],
   "source": [
    "# Model Kurma\n",
    "from sklearn.svm import SVC\n",
    "svm_model = SVC(kernel = \"linear\")\n",
    "svm_model.fit(X_train, y_train)\n",
    "svm_model"
   ]
  },
  {
   "cell_type": "code",
   "execution_count": 31,
   "metadata": {},
   "outputs": [
    {
     "data": {
      "text/plain": [
       "0.7445887445887446"
      ]
     },
     "execution_count": 31,
     "metadata": {},
     "output_type": "execute_result"
    }
   ],
   "source": [
    "# Test Hatası\n",
    "y_pred = svm_model.predict(X_test)\n",
    "accuracy_score(y_test, y_pred)"
   ]
  },
  {
   "cell_type": "markdown",
   "metadata": {},
   "source": [
    "#### Model Tuning"
   ]
  },
  {
   "cell_type": "markdown",
   "metadata": {},
   "source": [
    "Bu kısımda tuned edilmesi gereken hiperparametre değeri **C**'dir.Bize oluşturulacak olan doğrunun/ayrımın oluşması ile ilgili bir kontrol etme imkanı sağlayan bir parametredir."
   ]
  },
  {
   "cell_type": "code",
   "execution_count": 32,
   "metadata": {},
   "outputs": [],
   "source": [
    "# Hiperparametre\n",
    "svc_params = {\"C\":np.arange(1,10)}"
   ]
  },
  {
   "cell_type": "code",
   "execution_count": 33,
   "metadata": {},
   "outputs": [
    {
     "name": "stdout",
     "output_type": "stream",
     "text": [
      "Fitting 10 folds for each of 9 candidates, totalling 90 fits\n"
     ]
    },
    {
     "name": "stderr",
     "output_type": "stream",
     "text": [
      "[Parallel(n_jobs=-1)]: Using backend LokyBackend with 4 concurrent workers.\n",
      "[Parallel(n_jobs=-1)]: Done  33 tasks      | elapsed:  3.4min\n",
      "[Parallel(n_jobs=-1)]: Done  90 out of  90 | elapsed: 20.5min finished\n"
     ]
    },
    {
     "data": {
      "text/plain": [
       "GridSearchCV(cv=10, error_score='raise-deprecating',\n",
       "             estimator=SVC(C=1.0, cache_size=200, class_weight=None, coef0=0.0,\n",
       "                           decision_function_shape='ovr', degree=3,\n",
       "                           gamma='auto_deprecated', kernel='linear',\n",
       "                           max_iter=-1, probability=False, random_state=None,\n",
       "                           shrinking=True, tol=0.001, verbose=False),\n",
       "             iid='warn', n_jobs=-1,\n",
       "             param_grid={'C': array([1, 2, 3, 4, 5, 6, 7, 8, 9])},\n",
       "             pre_dispatch='2*n_jobs', refit=True, return_train_score=False,\n",
       "             scoring=None, verbose=2)"
      ]
     },
     "execution_count": 33,
     "metadata": {},
     "output_type": "execute_result"
    }
   ],
   "source": [
    "svc = SVC(kernel = \"linear\")\n",
    "svc_cv_model = GridSearchCV(svc, svc_params, cv =10, \n",
    "                            n_jobs = -1, \n",
    "                            verbose = 2)\n",
    "\n",
    "svc_cv_model.fit(X_train, y_train)"
   ]
  },
  {
   "cell_type": "code",
   "execution_count": 34,
   "metadata": {},
   "outputs": [
    {
     "data": {
      "text/plain": [
       "{'C': 5}"
      ]
     },
     "execution_count": 34,
     "metadata": {},
     "output_type": "execute_result"
    }
   ],
   "source": [
    "# En iyi parametre\n",
    "svc_cv_model.best_params_"
   ]
  },
  {
   "cell_type": "code",
   "execution_count": 73,
   "metadata": {},
   "outputs": [],
   "source": [
    "# Final Modeli\n",
    "svc = SVC(kernel = \"linear\", C = 5)\n",
    "svc_tuned = svc.fit(X_train, y_train)"
   ]
  },
  {
   "cell_type": "code",
   "execution_count": 36,
   "metadata": {},
   "outputs": [
    {
     "data": {
      "text/plain": [
       "0.7445887445887446"
      ]
     },
     "execution_count": 36,
     "metadata": {},
     "output_type": "execute_result"
    }
   ],
   "source": [
    "# Tuned edilmiş modelin test hatası skoru\n",
    "y_pred = svc_tuned.predict(X_test)\n",
    "accuracy_score(y_test, y_pred)"
   ]
  },
  {
   "cell_type": "markdown",
   "metadata": {},
   "source": [
    "### SVC RBF (Doğrusal Olmayan)"
   ]
  },
  {
   "cell_type": "markdown",
   "metadata": {},
   "source": [
    "#### Model ve Tahmin"
   ]
  },
  {
   "cell_type": "code",
   "execution_count": 37,
   "metadata": {},
   "outputs": [],
   "source": [
    "df = diabetes.copy()\n",
    "df = df.dropna()\n",
    "y = df[\"Outcome\"]\n",
    "X = df.drop(['Outcome'], axis=1)\n",
    "X_train, X_test, y_train, y_test = train_test_split(X, y, \n",
    "                                                    test_size=0.30,\n",
    "                                                     random_state=42)"
   ]
  },
  {
   "cell_type": "code",
   "execution_count": 38,
   "metadata": {},
   "outputs": [
    {
     "data": {
      "text/plain": [
       "SVC(C=1.0, cache_size=200, class_weight=None, coef0=0.0,\n",
       "    decision_function_shape='ovr', degree=3, gamma='auto_deprecated',\n",
       "    kernel='rbf', max_iter=-1, probability=False, random_state=None,\n",
       "    shrinking=True, tol=0.001, verbose=False)"
      ]
     },
     "execution_count": 38,
     "metadata": {},
     "output_type": "execute_result"
    }
   ],
   "source": [
    "# Model Kurma\n",
    "from sklearn.svm import SVC\n",
    "svc_model = SVC(kernel = \"rbf\")\n",
    "svc_model.fit(X_train, y_train)\n",
    "svc_model"
   ]
  },
  {
   "cell_type": "code",
   "execution_count": 39,
   "metadata": {},
   "outputs": [
    {
     "data": {
      "text/plain": [
       "0.6536796536796536"
      ]
     },
     "execution_count": 39,
     "metadata": {},
     "output_type": "execute_result"
    }
   ],
   "source": [
    "# Test Hatası\n",
    "y_pred = svc_model.predict(X_test)\n",
    "accuracy_score(y_test, y_pred)"
   ]
  },
  {
   "cell_type": "markdown",
   "metadata": {},
   "source": [
    "#### Model Tuning"
   ]
  },
  {
   "cell_type": "code",
   "execution_count": 40,
   "metadata": {},
   "outputs": [],
   "source": [
    "svc_params = {\"C\":[0.0001, 0.001, 0.1, 1, 5, 10, 50, 100],\n",
    "              \"gamma\":[0.0001, 0.001, 0.1, 1, 5, 10, 50, 100]}"
   ]
  },
  {
   "cell_type": "code",
   "execution_count": 41,
   "metadata": {},
   "outputs": [
    {
     "name": "stdout",
     "output_type": "stream",
     "text": [
      "Fitting 10 folds for each of 64 candidates, totalling 640 fits\n"
     ]
    },
    {
     "name": "stderr",
     "output_type": "stream",
     "text": [
      "[Parallel(n_jobs=-1)]: Using backend LokyBackend with 4 concurrent workers.\n",
      "[Parallel(n_jobs=-1)]: Done  33 tasks      | elapsed:    9.4s\n",
      "[Parallel(n_jobs=-1)]: Done 471 tasks      | elapsed:   16.2s\n",
      "[Parallel(n_jobs=-1)]: Done 640 out of 640 | elapsed:   19.2s finished\n"
     ]
    },
    {
     "data": {
      "text/plain": [
       "GridSearchCV(cv=10, error_score='raise-deprecating',\n",
       "             estimator=SVC(C=1.0, cache_size=200, class_weight=None, coef0=0.0,\n",
       "                           decision_function_shape='ovr', degree=3,\n",
       "                           gamma='auto_deprecated', kernel='rbf', max_iter=-1,\n",
       "                           probability=False, random_state=None, shrinking=True,\n",
       "                           tol=0.001, verbose=False),\n",
       "             iid='warn', n_jobs=-1,\n",
       "             param_grid={'C': [0.0001, 0.001, 0.1, 1, 5, 10, 50, 100],\n",
       "                         'gamma': [0.0001, 0.001, 0.1, 1, 5, 10, 50, 100]},\n",
       "             pre_dispatch='2*n_jobs', refit=True, return_train_score=False,\n",
       "             scoring=None, verbose=2)"
      ]
     },
     "execution_count": 41,
     "metadata": {},
     "output_type": "execute_result"
    }
   ],
   "source": [
    "svc = SVC(kernel = \"rbf\")\n",
    "svc_cv_model = GridSearchCV(svc,\n",
    "                            svc_params,\n",
    "                            cv=10,\n",
    "                            n_jobs =-1,\n",
    "                            verbose = 2)\n",
    "\n",
    "svc_cv_model.fit(X_train, y_train)"
   ]
  },
  {
   "cell_type": "code",
   "execution_count": 42,
   "metadata": {},
   "outputs": [
    {
     "data": {
      "text/plain": [
       "{'C': 10, 'gamma': 0.0001}"
      ]
     },
     "execution_count": 42,
     "metadata": {},
     "output_type": "execute_result"
    }
   ],
   "source": [
    "# En iyi Hiperparametre Değerleri\n",
    "svc_cv_model.best_params_"
   ]
  },
  {
   "cell_type": "code",
   "execution_count": 74,
   "metadata": {},
   "outputs": [],
   "source": [
    "# Final Modeli\n",
    "svc = SVC(kernel = \"rbf\", C=10, gamma =0.0001 )\n",
    "svc_tuned = svc.fit(X_train, y_train)"
   ]
  },
  {
   "cell_type": "code",
   "execution_count": 45,
   "metadata": {},
   "outputs": [
    {
     "data": {
      "text/plain": [
       "0.7359307359307359"
      ]
     },
     "execution_count": 45,
     "metadata": {},
     "output_type": "execute_result"
    }
   ],
   "source": [
    "# Test Hatası Skoru\n",
    "y_pred = svc_tuned.predict(X_test)\n",
    "accuracy_score(y_test, y_pred)"
   ]
  },
  {
   "cell_type": "markdown",
   "metadata": {},
   "source": [
    "## Yapay Sinir Ağları(YSA) -- Artificial Neural Networks"
   ]
  },
  {
   "cell_type": "markdown",
   "metadata": {},
   "source": [
    "İnsan beyninin bilgi işleme şeklini referans alan sınıflandırma ve regresyon problemleri için kullanılabilen kuvvetli makine öğrenmesi algoritmalarından birisidir."
   ]
  },
  {
   "cell_type": "markdown",
   "metadata": {},
   "source": [
    "#### Model ve Tahmin"
   ]
  },
  {
   "cell_type": "code",
   "execution_count": 128,
   "metadata": {},
   "outputs": [],
   "source": [
    "df = diabetes.copy()\n",
    "df = df.dropna()\n",
    "y = df[\"Outcome\"]\n",
    "X = df.drop(['Outcome'], axis=1)\n",
    "X_train, X_test, y_train, y_test = train_test_split(X, y, \n",
    "                                                    test_size=0.30,\n",
    "                                                     random_state=42)"
   ]
  },
  {
   "cell_type": "markdown",
   "metadata": {},
   "source": [
    "Standartlaştırma işlemi gerçekleştireceğiz.Yapay sinir ağlarınının değişkenlerin ölçeklerine ve bunların bir birbirleri aralarındaki durumdan etkilendiğini ifade etmiştik ve bu durumdan dolayı bu işlemi yapacağız."
   ]
  },
  {
   "cell_type": "code",
   "execution_count": 129,
   "metadata": {},
   "outputs": [],
   "source": [
    "from sklearn.preprocessing import StandardScaler"
   ]
  },
  {
   "cell_type": "code",
   "execution_count": 130,
   "metadata": {},
   "outputs": [],
   "source": [
    "scaler = StandardScaler()"
   ]
  },
  {
   "cell_type": "code",
   "execution_count": 131,
   "metadata": {},
   "outputs": [],
   "source": [
    "scaler.fit(X_train)\n",
    "X_train_scaled = scaler.transform(X_train)\n",
    "X_test_scaled = scaler.transform(X_test)"
   ]
  },
  {
   "cell_type": "code",
   "execution_count": 132,
   "metadata": {},
   "outputs": [
    {
     "data": {
      "text/plain": [
       "MLPClassifier(activation='relu', alpha=0.0001, batch_size='auto', beta_1=0.9,\n",
       "              beta_2=0.999, early_stopping=False, epsilon=1e-08,\n",
       "              hidden_layer_sizes=(100,), learning_rate='constant',\n",
       "              learning_rate_init=0.001, max_iter=200, momentum=0.9,\n",
       "              n_iter_no_change=10, nesterovs_momentum=True, power_t=0.5,\n",
       "              random_state=None, shuffle=True, solver='adam', tol=0.0001,\n",
       "              validation_fraction=0.1, verbose=False, warm_start=False)"
      ]
     },
     "execution_count": 132,
     "metadata": {},
     "output_type": "execute_result"
    }
   ],
   "source": [
    "# Model Kurma\n",
    "from sklearn.neural_network import MLPClassifier\n",
    "mlpc = MLPClassifier()\n",
    "mlpc.fit(X_train_scaled, y_train)"
   ]
  },
  {
   "cell_type": "code",
   "execution_count": 133,
   "metadata": {},
   "outputs": [
    {
     "data": {
      "text/plain": [
       "0.7272727272727273"
      ]
     },
     "execution_count": 133,
     "metadata": {},
     "output_type": "execute_result"
    }
   ],
   "source": [
    "# Test Hatası Skoru\n",
    "y_pred = mlpc.predict(X_test_scaled)\n",
    "accuracy_score(y_test, y_pred)"
   ]
  },
  {
   "cell_type": "markdown",
   "metadata": {},
   "source": [
    "#### Model Tuning"
   ]
  },
  {
   "cell_type": "code",
   "execution_count": 134,
   "metadata": {},
   "outputs": [],
   "source": [
    "# Hiperparametre\n",
    "mlpc_params = {\"alpha\": [0.1, 0.01, 0.02, 0.005, 0.0001,0.00001],\n",
    "              \"hidden_layer_sizes\": [(10,10,10),\n",
    "                                     (100,100,100),\n",
    "                                     (100,100),\n",
    "                                     (3,5), \n",
    "                                     (5, 3)],\n",
    "              \"solver\" : [\"lbfgs\",\"adam\",\"sgd\"],\n",
    "              \"activation\": [\"relu\",\"logistic\"]}"
   ]
  },
  {
   "cell_type": "code",
   "execution_count": 55,
   "metadata": {
    "collapsed": true,
    "jupyter": {
     "outputs_hidden": true
    }
   },
   "outputs": [
    {
     "name": "stdout",
     "output_type": "stream",
     "text": [
      "Fitting 10 folds for each of 180 candidates, totalling 1800 fits\n"
     ]
    },
    {
     "name": "stderr",
     "output_type": "stream",
     "text": [
      "[Parallel(n_jobs=-1)]: Using backend LokyBackend with 4 concurrent workers.\n",
      "[Parallel(n_jobs=-1)]: Done  33 tasks      | elapsed:   28.0s\n",
      "[Parallel(n_jobs=-1)]: Done 154 tasks      | elapsed:  2.3min\n",
      "[Parallel(n_jobs=-1)]: Done 357 tasks      | elapsed:  5.5min\n",
      "[Parallel(n_jobs=-1)]: Done 640 tasks      | elapsed:  8.8min\n",
      "[Parallel(n_jobs=-1)]: Done 1005 tasks      | elapsed: 13.2min\n",
      "[Parallel(n_jobs=-1)]: Done 1450 tasks      | elapsed: 17.1min\n",
      "[Parallel(n_jobs=-1)]: Done 1800 out of 1800 | elapsed: 19.9min finished\n"
     ]
    },
    {
     "data": {
      "text/plain": [
       "GridSearchCV(cv=10, error_score='raise-deprecating',\n",
       "             estimator=MLPClassifier(activation='relu', alpha=0.0001,\n",
       "                                     batch_size='auto', beta_1=0.9,\n",
       "                                     beta_2=0.999, early_stopping=False,\n",
       "                                     epsilon=1e-08, hidden_layer_sizes=(100,),\n",
       "                                     learning_rate='constant',\n",
       "                                     learning_rate_init=0.001, max_iter=200,\n",
       "                                     momentum=0.9, n_iter_no_change=10,\n",
       "                                     nesterovs_momentum=True, power_t=0.5,\n",
       "                                     random_st...\n",
       "                                     validation_fraction=0.1, verbose=False,\n",
       "                                     warm_start=False),\n",
       "             iid='warn', n_jobs=-1,\n",
       "             param_grid={'activation': ['relu', 'logistic'],\n",
       "                         'alpha': [0.1, 0.01, 0.02, 0.005, 0.0001, 1e-05],\n",
       "                         'hidden_layer_sizes': [(10, 10, 10), (100, 100, 100),\n",
       "                                                (100, 100), (3, 5), (5, 3)],\n",
       "                         'solver': ['lbfgs', 'adam', 'sgd']},\n",
       "             pre_dispatch='2*n_jobs', refit=True, return_train_score=False,\n",
       "             scoring=None, verbose=2)"
      ]
     },
     "execution_count": 55,
     "metadata": {},
     "output_type": "execute_result"
    }
   ],
   "source": [
    "# Model Kurma\n",
    "mlpc = MLPClassifier()\n",
    "mlpc_cv_model = GridSearchCV(mlpc, mlpc_params, \n",
    "                         cv = 10, \n",
    "                         n_jobs = -1,\n",
    "                         verbose = 2)\n",
    "\n",
    "mlpc_cv_model.fit(X_train_scaled, y_train)"
   ]
  },
  {
   "cell_type": "code",
   "execution_count": 56,
   "metadata": {},
   "outputs": [
    {
     "data": {
      "text/plain": [
       "{'activation': 'relu',\n",
       " 'alpha': 0.02,\n",
       " 'hidden_layer_sizes': (100, 100, 100),\n",
       " 'solver': 'sgd'}"
      ]
     },
     "execution_count": 56,
     "metadata": {},
     "output_type": "execute_result"
    }
   ],
   "source": [
    "# En iyi parametreler\n",
    "mlpc_cv_model.best_params_"
   ]
  },
  {
   "cell_type": "code",
   "execution_count": 150,
   "metadata": {},
   "outputs": [
    {
     "data": {
      "text/plain": [
       "MLPClassifier(activation='relu', alpha=0.02, batch_size='auto', beta_1=0.9,\n",
       "              beta_2=0.999, early_stopping=False, epsilon=1e-08,\n",
       "              hidden_layer_sizes=(100, 100, 100), learning_rate='constant',\n",
       "              learning_rate_init=0.001, max_iter=200, momentum=0.9,\n",
       "              n_iter_no_change=10, nesterovs_momentum=True, power_t=0.5,\n",
       "              random_state=None, shuffle=True, solver='sgd', tol=0.0001,\n",
       "              validation_fraction=0.1, verbose=False, warm_start=False)"
      ]
     },
     "execution_count": 150,
     "metadata": {},
     "output_type": "execute_result"
    }
   ],
   "source": [
    "# Final Modeli\n",
    "mlpc_tuned = MLPClassifier(activation = \"relu\", \n",
    "                           alpha = 0.02, \n",
    "                           hidden_layer_sizes = (100, 100, 100),\n",
    "                          solver = \"sgd\")\n",
    "\n",
    "mlpc_tuned.fit(X_train_scaled, y_train)"
   ]
  },
  {
   "cell_type": "code",
   "execution_count": 151,
   "metadata": {},
   "outputs": [
    {
     "data": {
      "text/plain": [
       "0.7316017316017316"
      ]
     },
     "execution_count": 151,
     "metadata": {},
     "output_type": "execute_result"
    }
   ],
   "source": [
    "# Test Hatası Skoru\n",
    "y_pred = mlpc_tuned.predict(X_test_scaled)\n",
    "accuracy_score(y_test, y_pred)"
   ]
  },
  {
   "cell_type": "markdown",
   "metadata": {},
   "source": [
    "## CART (Sınıflandırma Ağaçları) -- Classification and Regression Trees"
   ]
  },
  {
   "cell_type": "markdown",
   "metadata": {},
   "source": [
    "**Amaç** veri seti içerisindeki karmaşık yapıları basit karar yapılarına dönüştürmektir.Heterojen veri setleri belirlenmiş bir hedef değişkene göre homojen alt gruplara ayrılır.\n",
    "\n",
    "Örneğin; bir boy değeri değişkeni üzerinden evet-hayır alt sınıfına eğer evet ise erkek, hayır ise daha sonra da bir kilo değeri değişkeni üzerinden bu hayır bir evet-hayır bir alt gruba daha indirgemek ve sonuç olarak erke ya da kadın olarak belirtmek."
   ]
  },
  {
   "cell_type": "markdown",
   "metadata": {},
   "source": [
    "#### Model ve Tahmin"
   ]
  },
  {
   "cell_type": "code",
   "execution_count": 103,
   "metadata": {},
   "outputs": [],
   "source": [
    "df = diabetes.copy()\n",
    "df = df.dropna()\n",
    "y = df[\"Outcome\"]\n",
    "X = df.drop(['Outcome'], axis=1)\n",
    "#X = df[\"Pregnancies\"]\n",
    "X = pd.DataFrame(X)\n",
    "X_train, X_test, y_train, y_test = train_test_split(X, y, \n",
    "                                                    test_size=0.30, \n",
    "                                                    random_state=42)"
   ]
  },
  {
   "cell_type": "code",
   "execution_count": 99,
   "metadata": {},
   "outputs": [],
   "source": [
    "# Model Kurma\n",
    "from sklearn.tree import DecisionTreeClassifier\n",
    "cart = DecisionTreeClassifier()\n",
    "cart_model= cart.fit(X_train, y_train)"
   ]
  },
  {
   "cell_type": "code",
   "execution_count": 63,
   "metadata": {},
   "outputs": [
    {
     "data": {
      "text/plain": [
       "DecisionTreeClassifier(class_weight=None, criterion='gini', max_depth=None,\n",
       "                       max_features=None, max_leaf_nodes=None,\n",
       "                       min_impurity_decrease=0.0, min_impurity_split=None,\n",
       "                       min_samples_leaf=1, min_samples_split=2,\n",
       "                       min_weight_fraction_leaf=0.0, presort=False,\n",
       "                       random_state=None, splitter='best')"
      ]
     },
     "execution_count": 63,
     "metadata": {},
     "output_type": "execute_result"
    }
   ],
   "source": [
    "cart_model"
   ]
  },
  {
   "cell_type": "code",
   "execution_count": 65,
   "metadata": {
    "collapsed": true,
    "jupyter": {
     "outputs_hidden": true
    }
   },
   "outputs": [
    {
     "name": "stdout",
     "output_type": "stream",
     "text": [
      "Collecting skompiler\n",
      "  Downloading https://files.pythonhosted.org/packages/77/31/cbc7fc4fe064425efbf2044b94bd1973472d8aac85b4d9346c7330e03dfb/SKompiler-0.5.5.tar.gz (48kB)\n",
      "Requirement already satisfied: scikit-learn in c:\\users\\lenovo\\anaconda3\\lib\\site-packages (from skompiler) (0.21.3)\n",
      "Requirement already satisfied: scipy>=0.17.0 in c:\\users\\lenovo\\anaconda3\\lib\\site-packages (from scikit-learn->skompiler) (1.3.1)\n",
      "Requirement already satisfied: joblib>=0.11 in c:\\users\\lenovo\\anaconda3\\lib\\site-packages (from scikit-learn->skompiler) (0.13.2)\n",
      "Requirement already satisfied: numpy>=1.11.0 in c:\\users\\lenovo\\anaconda3\\lib\\site-packages (from scikit-learn->skompiler) (1.16.5)\n",
      "Building wheels for collected packages: skompiler\n",
      "  Building wheel for skompiler (setup.py): started\n",
      "  Building wheel for skompiler (setup.py): finished with status 'done'\n",
      "  Created wheel for skompiler: filename=SKompiler-0.5.5-cp37-none-any.whl size=57153 sha256=97d6ec6cc1074f1c1d087c2ac3f29ff182660fc516e10fd3e38693aa2e8ab1cd\n",
      "  Stored in directory: C:\\Users\\lenovo\\AppData\\Local\\pip\\Cache\\wheels\\21\\eb\\99\\6e32f89da503a823f6bc1a985abfdaeaa01b3a6b5ac5776d15\n",
      "Successfully built skompiler\n",
      "Installing collected packages: skompiler\n",
      "Successfully installed skompiler-0.5.5\n"
     ]
    }
   ],
   "source": [
    "# Karar Kuralı\n",
    "!pip install skompiler"
   ]
  },
  {
   "cell_type": "code",
   "execution_count": 67,
   "metadata": {},
   "outputs": [
    {
     "name": "stdout",
     "output_type": "stream",
     "text": [
      "Collecting astor\n",
      "  Downloading https://files.pythonhosted.org/packages/c3/88/97eef84f48fa04fbd6750e62dcceafba6c63c81b7ac1420856c8dcc0a3f9/astor-0.8.1-py2.py3-none-any.whl\n",
      "Installing collected packages: astor\n",
      "Successfully installed astor-0.8.1\n"
     ]
    }
   ],
   "source": [
    "!pip install astor"
   ]
  },
  {
   "cell_type": "code",
   "execution_count": 100,
   "metadata": {
    "collapsed": true,
    "jupyter": {
     "outputs_hidden": true
    }
   },
   "outputs": [
    {
     "name": "stdout",
     "output_type": "stream",
     "text": [
      "((((((0 if x[6] <= 0.671999990940094 else 1 if x[6] <= 0.6974999904632568 else\n",
      "    0) if x[5] <= 31.40000057220459 else ((0 if x[3] <= 40.5 else 1) if x[1\n",
      "    ] <= 111.5 else ((1 if x[1] <= 123.0 else 0) if x[5] <= \n",
      "    37.39999961853027 else 0) if x[2] <= 72.0 else 1) if x[4] <= 9.0 else (\n",
      "    0 if x[6] <= 0.6395000219345093 else 1 if x[6] <= 0.6759999990463257 else\n",
      "    0) if x[0] <= 4.5 else 0 if x[6] <= 0.39149999618530273 else 1) if x[5] <=\n",
      "    49.10000038146973 else 1) if x[1] <= 127.5 else 1 if x[2] <= 56.0 else \n",
      "    (0 if x[7] <= 27.5 else 1 if x[1] <= 138.0 else 0) if x[5] <= \n",
      "    30.300000190734863 else 1 if x[5] <= 32.000000953674316 else ((0 if x[5\n",
      "    ] <= 33.75 else 1) if x[0] <= 0.5 else 1 if x[5] <= 32.45000076293945 else\n",
      "    0) if x[2] <= 85.0 else 1) if x[7] <= 28.5 else (1 if x[7] <= 29.5 else\n",
      "    (0 if x[1] <= 133.0 else (0 if x[2] <= 66.5 else 1) if x[2] <= 73.0 else\n",
      "    0) if x[2] <= 94.0 else 1 if x[0] <= 9.0 else 0) if x[5] <= \n",
      "    26.949999809265137 else (1 if x[1] <= 28.5 else 0 if x[0] <= 9.5 else 0 if\n",
      "    x[3] <= 27.0 else 1 if x[3] <= 36.0 else 0) if x[1] <= 94.5 else ((((0 if\n",
      "    x[6] <= 0.24950000643730164 else 1 if x[6] <= 0.44750000536441803 else \n",
      "    0) if x[5] <= 28.34999942779541 else 1 if x[2] <= 67.0 else 0 if x[2] <=\n",
      "    69.0 else 1 if x[5] <= 31.600000381469727 else 0 if x[7] <= 36.5 else (\n",
      "    1 if x[2] <= 77.0 else 0) if x[6] <= 0.21000000089406967 else 0 if x[2] <=\n",
      "    71.0 else 1) if x[3] <= 26.5 else ((1 if x[4] <= 41.5 else 1 if x[0] <=\n",
      "    0.5 else 0) if x[2] <= 67.0 else 0 if x[4] <= 155.0 else 1 if x[4] <= \n",
      "    288.5 else 0) if x[1] <= 127.5 else (1 if x[6] <= 0.15850000083446503 else\n",
      "    0) if x[6] <= 0.3110000044107437 else 1) if x[2] <= 83.0 else ((0 if x[\n",
      "    3] <= 39.5 else 0 if x[4] <= 44.0 else 1) if x[5] <= 41.19999885559082 else\n",
      "    1) if x[4] <= 124.0 else 0 if x[3] <= 19.5 else 1) if x[6] <= \n",
      "    0.527999997138977 else ((((0 if x[6] <= 1.0524999797344208 else 1) if x\n",
      "    [5] <= 27.34999942779541 else 1) if x[1] <= 132.0 else 0) if x[5] <= \n",
      "    29.09999942779541 else 0 if x[2] <= 86.0 else 1) if x[5] <= \n",
      "    31.600000381469727 else ((1 if x[2] <= 87.0 else 0 if x[6] <= \n",
      "    0.7305000126361847 else 1) if x[3] <= 54.5 else 0) if x[6] <= \n",
      "    1.1489999890327454 else 1 if x[7] <= 36.0 else 0) if x[1] <= 154.5 else\n",
      "    (1 if x[5] <= 25.350000381469727 else (0 if x[0] <= 1.5 else 1) if x[7] <=\n",
      "    52.5 else 0) if x[5] <= 28.700000762939453 else (((0 if x[7] <= 24.5 else\n",
      "    0 if x[6] <= 0.14100000262260437 else 1) if x[1] <= 164.5 else 0) if x[\n",
      "    1] <= 165.5 else (1 if x[6] <= 0.2695000022649765 else 0) if x[6] <= \n",
      "    0.2744999974966049 else 1) if x[6] <= 1.4275000095367432 else 1 if x[0] <=\n",
      "    3.5 else 0)\n",
      "\n"
     ]
    }
   ],
   "source": [
    "from skompiler import skompile\n",
    "print(skompile(cart_model.predict).to(\"python/code\"))"
   ]
  },
  {
   "cell_type": "markdown",
   "metadata": {},
   "source": [
    "Veri setini sadece iki değişkene ve maksimum arama derinliğini 2 yaparak da az karmaşık bir yapı üzerinden (hamilelik durumununa göre diyabet olma ihtimali) gözlemleme yapabiliriz."
   ]
  },
  {
   "cell_type": "code",
   "execution_count": 92,
   "metadata": {},
   "outputs": [],
   "source": [
    "# Kaç hamilelik geçirdiği sayısını girerek diyabet olma ihtimaline bakıyoruz.\n",
    "x = [4]"
   ]
  },
  {
   "cell_type": "code",
   "execution_count": 93,
   "metadata": {},
   "outputs": [
    {
     "data": {
      "text/plain": [
       "0"
      ]
     },
     "execution_count": 93,
     "metadata": {},
     "output_type": "execute_result"
    }
   ],
   "source": [
    "((0 if x[0] <= 2.5 else 0) if x[0] <= 6.5 else 1 if x[0] <= 13.5 else 1)"
   ]
  },
  {
   "cell_type": "code",
   "execution_count": 104,
   "metadata": {},
   "outputs": [
    {
     "data": {
      "text/plain": [
       "0.7012987012987013"
      ]
     },
     "execution_count": 104,
     "metadata": {},
     "output_type": "execute_result"
    }
   ],
   "source": [
    "# Test Hatası SKoru\n",
    "y_pred = cart_model.predict(X_test)\n",
    "accuracy_score(y_test, y_pred)"
   ]
  },
  {
   "cell_type": "markdown",
   "metadata": {},
   "source": [
    "#### Model Tuning"
   ]
  },
  {
   "cell_type": "code",
   "execution_count": 105,
   "metadata": {},
   "outputs": [
    {
     "data": {
      "text/plain": [
       "DecisionTreeClassifier(class_weight=None, criterion='gini', max_depth=None,\n",
       "                       max_features=None, max_leaf_nodes=None,\n",
       "                       min_impurity_decrease=0.0, min_impurity_split=None,\n",
       "                       min_samples_leaf=1, min_samples_split=2,\n",
       "                       min_weight_fraction_leaf=0.0, presort=False,\n",
       "                       random_state=None, splitter='best')"
      ]
     },
     "execution_count": 105,
     "metadata": {},
     "output_type": "execute_result"
    }
   ],
   "source": [
    "cart_model"
   ]
  },
  {
   "cell_type": "code",
   "execution_count": 106,
   "metadata": {
    "collapsed": true,
    "jupyter": {
     "outputs_hidden": true
    }
   },
   "outputs": [
    {
     "data": {
      "text/plain": [
       "\u001b[1;31mType:\u001b[0m        DecisionTreeClassifier\n",
       "\u001b[1;31mString form:\u001b[0m\n",
       "DecisionTreeClassifier(class_weight=None, criterion='gini', max_depth=None,\n",
       "           <...> ight_fraction_leaf=0.0, presort=False,\n",
       "           random_state=None, splitter='best')\n",
       "\u001b[1;31mFile:\u001b[0m        c:\\users\\lenovo\\anaconda3\\lib\\site-packages\\sklearn\\tree\\tree.py\n",
       "\u001b[1;31mDocstring:\u001b[0m  \n",
       "A decision tree classifier.\n",
       "\n",
       "Read more in the :ref:`User Guide <tree>`.\n",
       "\n",
       "Parameters\n",
       "----------\n",
       "criterion : string, optional (default=\"gini\")\n",
       "    The function to measure the quality of a split. Supported criteria are\n",
       "    \"gini\" for the Gini impurity and \"entropy\" for the information gain.\n",
       "\n",
       "splitter : string, optional (default=\"best\")\n",
       "    The strategy used to choose the split at each node. Supported\n",
       "    strategies are \"best\" to choose the best split and \"random\" to choose\n",
       "    the best random split.\n",
       "\n",
       "max_depth : int or None, optional (default=None)\n",
       "    The maximum depth of the tree. If None, then nodes are expanded until\n",
       "    all leaves are pure or until all leaves contain less than\n",
       "    min_samples_split samples.\n",
       "\n",
       "min_samples_split : int, float, optional (default=2)\n",
       "    The minimum number of samples required to split an internal node:\n",
       "\n",
       "    - If int, then consider `min_samples_split` as the minimum number.\n",
       "    - If float, then `min_samples_split` is a fraction and\n",
       "      `ceil(min_samples_split * n_samples)` are the minimum\n",
       "      number of samples for each split.\n",
       "\n",
       "    .. versionchanged:: 0.18\n",
       "       Added float values for fractions.\n",
       "\n",
       "min_samples_leaf : int, float, optional (default=1)\n",
       "    The minimum number of samples required to be at a leaf node.\n",
       "    A split point at any depth will only be considered if it leaves at\n",
       "    least ``min_samples_leaf`` training samples in each of the left and\n",
       "    right branches.  This may have the effect of smoothing the model,\n",
       "    especially in regression.\n",
       "\n",
       "    - If int, then consider `min_samples_leaf` as the minimum number.\n",
       "    - If float, then `min_samples_leaf` is a fraction and\n",
       "      `ceil(min_samples_leaf * n_samples)` are the minimum\n",
       "      number of samples for each node.\n",
       "\n",
       "    .. versionchanged:: 0.18\n",
       "       Added float values for fractions.\n",
       "\n",
       "min_weight_fraction_leaf : float, optional (default=0.)\n",
       "    The minimum weighted fraction of the sum total of weights (of all\n",
       "    the input samples) required to be at a leaf node. Samples have\n",
       "    equal weight when sample_weight is not provided.\n",
       "\n",
       "max_features : int, float, string or None, optional (default=None)\n",
       "    The number of features to consider when looking for the best split:\n",
       "\n",
       "        - If int, then consider `max_features` features at each split.\n",
       "        - If float, then `max_features` is a fraction and\n",
       "          `int(max_features * n_features)` features are considered at each\n",
       "          split.\n",
       "        - If \"auto\", then `max_features=sqrt(n_features)`.\n",
       "        - If \"sqrt\", then `max_features=sqrt(n_features)`.\n",
       "        - If \"log2\", then `max_features=log2(n_features)`.\n",
       "        - If None, then `max_features=n_features`.\n",
       "\n",
       "    Note: the search for a split does not stop until at least one\n",
       "    valid partition of the node samples is found, even if it requires to\n",
       "    effectively inspect more than ``max_features`` features.\n",
       "\n",
       "random_state : int, RandomState instance or None, optional (default=None)\n",
       "    If int, random_state is the seed used by the random number generator;\n",
       "    If RandomState instance, random_state is the random number generator;\n",
       "    If None, the random number generator is the RandomState instance used\n",
       "    by `np.random`.\n",
       "\n",
       "max_leaf_nodes : int or None, optional (default=None)\n",
       "    Grow a tree with ``max_leaf_nodes`` in best-first fashion.\n",
       "    Best nodes are defined as relative reduction in impurity.\n",
       "    If None then unlimited number of leaf nodes.\n",
       "\n",
       "min_impurity_decrease : float, optional (default=0.)\n",
       "    A node will be split if this split induces a decrease of the impurity\n",
       "    greater than or equal to this value.\n",
       "\n",
       "    The weighted impurity decrease equation is the following::\n",
       "\n",
       "        N_t / N * (impurity - N_t_R / N_t * right_impurity\n",
       "                            - N_t_L / N_t * left_impurity)\n",
       "\n",
       "    where ``N`` is the total number of samples, ``N_t`` is the number of\n",
       "    samples at the current node, ``N_t_L`` is the number of samples in the\n",
       "    left child, and ``N_t_R`` is the number of samples in the right child.\n",
       "\n",
       "    ``N``, ``N_t``, ``N_t_R`` and ``N_t_L`` all refer to the weighted sum,\n",
       "    if ``sample_weight`` is passed.\n",
       "\n",
       "    .. versionadded:: 0.19\n",
       "\n",
       "min_impurity_split : float, (default=1e-7)\n",
       "    Threshold for early stopping in tree growth. A node will split\n",
       "    if its impurity is above the threshold, otherwise it is a leaf.\n",
       "\n",
       "    .. deprecated:: 0.19\n",
       "       ``min_impurity_split`` has been deprecated in favor of\n",
       "       ``min_impurity_decrease`` in 0.19. The default value of\n",
       "       ``min_impurity_split`` will change from 1e-7 to 0 in 0.23 and it\n",
       "       will be removed in 0.25. Use ``min_impurity_decrease`` instead.\n",
       "\n",
       "class_weight : dict, list of dicts, \"balanced\" or None, default=None\n",
       "    Weights associated with classes in the form ``{class_label: weight}``.\n",
       "    If not given, all classes are supposed to have weight one. For\n",
       "    multi-output problems, a list of dicts can be provided in the same\n",
       "    order as the columns of y.\n",
       "\n",
       "    Note that for multioutput (including multilabel) weights should be\n",
       "    defined for each class of every column in its own dict. For example,\n",
       "    for four-class multilabel classification weights should be\n",
       "    [{0: 1, 1: 1}, {0: 1, 1: 5}, {0: 1, 1: 1}, {0: 1, 1: 1}] instead of\n",
       "    [{1:1}, {2:5}, {3:1}, {4:1}].\n",
       "\n",
       "    The \"balanced\" mode uses the values of y to automatically adjust\n",
       "    weights inversely proportional to class frequencies in the input data\n",
       "    as ``n_samples / (n_classes * np.bincount(y))``\n",
       "\n",
       "    For multi-output, the weights of each column of y will be multiplied.\n",
       "\n",
       "    Note that these weights will be multiplied with sample_weight (passed\n",
       "    through the fit method) if sample_weight is specified.\n",
       "\n",
       "presort : bool, optional (default=False)\n",
       "    Whether to presort the data to speed up the finding of best splits in\n",
       "    fitting. For the default settings of a decision tree on large\n",
       "    datasets, setting this to true may slow down the training process.\n",
       "    When using either a smaller dataset or a restricted depth, this may\n",
       "    speed up the training.\n",
       "\n",
       "Attributes\n",
       "----------\n",
       "classes_ : array of shape = [n_classes] or a list of such arrays\n",
       "    The classes labels (single output problem),\n",
       "    or a list of arrays of class labels (multi-output problem).\n",
       "\n",
       "feature_importances_ : array of shape = [n_features]\n",
       "    The feature importances. The higher, the more important the\n",
       "    feature. The importance of a feature is computed as the (normalized)\n",
       "    total reduction of the criterion brought by that feature.  It is also\n",
       "    known as the Gini importance [4]_.\n",
       "\n",
       "max_features_ : int,\n",
       "    The inferred value of max_features.\n",
       "\n",
       "n_classes_ : int or list\n",
       "    The number of classes (for single output problems),\n",
       "    or a list containing the number of classes for each\n",
       "    output (for multi-output problems).\n",
       "\n",
       "n_features_ : int\n",
       "    The number of features when ``fit`` is performed.\n",
       "\n",
       "n_outputs_ : int\n",
       "    The number of outputs when ``fit`` is performed.\n",
       "\n",
       "tree_ : Tree object\n",
       "    The underlying Tree object. Please refer to\n",
       "    ``help(sklearn.tree._tree.Tree)`` for attributes of Tree object and\n",
       "    :ref:`sphx_glr_auto_examples_tree_plot_unveil_tree_structure.py`\n",
       "    for basic usage of these attributes.\n",
       "\n",
       "Notes\n",
       "-----\n",
       "The default values for the parameters controlling the size of the trees\n",
       "(e.g. ``max_depth``, ``min_samples_leaf``, etc.) lead to fully grown and\n",
       "unpruned trees which can potentially be very large on some data sets. To\n",
       "reduce memory consumption, the complexity and size of the trees should be\n",
       "controlled by setting those parameter values.\n",
       "\n",
       "The features are always randomly permuted at each split. Therefore,\n",
       "the best found split may vary, even with the same training data and\n",
       "``max_features=n_features``, if the improvement of the criterion is\n",
       "identical for several splits enumerated during the search of the best\n",
       "split. To obtain a deterministic behaviour during fitting,\n",
       "``random_state`` has to be fixed.\n",
       "\n",
       "See also\n",
       "--------\n",
       "DecisionTreeRegressor\n",
       "\n",
       "References\n",
       "----------\n",
       "\n",
       ".. [1] https://en.wikipedia.org/wiki/Decision_tree_learning\n",
       "\n",
       ".. [2] L. Breiman, J. Friedman, R. Olshen, and C. Stone, \"Classification\n",
       "       and Regression Trees\", Wadsworth, Belmont, CA, 1984.\n",
       "\n",
       ".. [3] T. Hastie, R. Tibshirani and J. Friedman. \"Elements of Statistical\n",
       "       Learning\", Springer, 2009.\n",
       "\n",
       ".. [4] L. Breiman, and A. Cutler, \"Random Forests\",\n",
       "       https://www.stat.berkeley.edu/~breiman/RandomForests/cc_home.htm\n",
       "\n",
       "Examples\n",
       "--------\n",
       ">>> from sklearn.datasets import load_iris\n",
       ">>> from sklearn.model_selection import cross_val_score\n",
       ">>> from sklearn.tree import DecisionTreeClassifier\n",
       ">>> clf = DecisionTreeClassifier(random_state=0)\n",
       ">>> iris = load_iris()\n",
       ">>> cross_val_score(clf, iris.data, iris.target, cv=10)\n",
       "...                             # doctest: +SKIP\n",
       "...\n",
       "array([ 1.     ,  0.93...,  0.86...,  0.93...,  0.93...,\n",
       "        0.93...,  0.93...,  1.     ,  0.93...,  1.      ])\n"
      ]
     },
     "metadata": {},
     "output_type": "display_data"
    }
   ],
   "source": [
    "?cart_model"
   ]
  },
  {
   "cell_type": "code",
   "execution_count": 107,
   "metadata": {},
   "outputs": [],
   "source": [
    "# Hiperparametre\n",
    "cart_params = {\"max_depth\": list(range(1,10)),\n",
    "            \"min_samples_split\" : list(range(2,50)) }"
   ]
  },
  {
   "cell_type": "code",
   "execution_count": 109,
   "metadata": {},
   "outputs": [
    {
     "name": "stdout",
     "output_type": "stream",
     "text": [
      "Fitting 10 folds for each of 432 candidates, totalling 4320 fits\n"
     ]
    },
    {
     "name": "stderr",
     "output_type": "stream",
     "text": [
      "[Parallel(n_jobs=-1)]: Using backend LokyBackend with 4 concurrent workers.\n",
      "[Parallel(n_jobs=-1)]: Done  33 tasks      | elapsed:    9.1s\n",
      "[Parallel(n_jobs=-1)]: Done 2626 tasks      | elapsed:   18.3s\n",
      "[Parallel(n_jobs=-1)]: Done 4320 out of 4320 | elapsed:   25.1s finished\n"
     ]
    }
   ],
   "source": [
    "# Model Kurma\n",
    "cart = tree.DecisionTreeClassifier()\n",
    "cart_cv = GridSearchCV(cart, cart_params, cv = 10, n_jobs = -1, verbose = 2)\n",
    "cart_cv_model = cart_cv.fit(X_train, y_train)"
   ]
  },
  {
   "cell_type": "code",
   "execution_count": 110,
   "metadata": {},
   "outputs": [
    {
     "name": "stdout",
     "output_type": "stream",
     "text": [
      "En iyi parametreler: {'max_depth': 5, 'min_samples_split': 19}\n"
     ]
    }
   ],
   "source": [
    "# En iyi parametreler\n",
    "print(\"En iyi parametreler: \" + str(cart_cv_model.best_params_))"
   ]
  },
  {
   "cell_type": "code",
   "execution_count": 76,
   "metadata": {},
   "outputs": [],
   "source": [
    "# Final Modeli\n",
    "cart = tree.DecisionTreeClassifier(max_depth = 5, min_samples_split = 19)\n",
    "cart_tuned = cart.fit(X_train, y_train)"
   ]
  },
  {
   "cell_type": "code",
   "execution_count": 112,
   "metadata": {},
   "outputs": [
    {
     "data": {
      "text/plain": [
       "0.7532467532467533"
      ]
     },
     "execution_count": 112,
     "metadata": {},
     "output_type": "execute_result"
    }
   ],
   "source": [
    "# Test Hatası Skoru\n",
    "y_pred = cart_tuned.predict(X_test)\n",
    "accuracy_score(y_test, y_pred)"
   ]
  },
  {
   "cell_type": "markdown",
   "metadata": {},
   "source": [
    "## Random Forests (RF)"
   ]
  },
  {
   "cell_type": "markdown",
   "metadata": {},
   "source": [
    "Temeli birden çok karar ağacının ürettiği tahminlerin bir araya getirilerek değerlendirilmesine dayanır.\n",
    "\n",
    " * Ağaçlar için gözlemler bootstrap rastgele örnek seçim yöntemi ile değişkenler random subspace yöntemi ile seçilir.\n",
    " * Karar ağacının her bir düğümünde en iyi dallara ayırıcı değişken tüm değişkenler arasından rastgele seçilen az sayıdaki değişken arasından seçilir.\n",
    " * Ağaç oluşturmada veri setinin 2/3'ü kullanılır.Dışarıda kalan veri ağaçların performasn değerlendirmesi ve değişken öneminin belirlenmesi için kullanılır.\n",
    " * Her düğüm noktasında rastgele değişken seçimimi yapılır.(regresyonda p/3,sınıflama'da karekök p)\n",
    " * Nihai tahmin için ağaçlardan tahmin değerleri talep edilirken her bir ağacın daha önce hesaplanan hata oranları göz önüne alınarak ağaçlara ağırlık verlilir."
   ]
  },
  {
   "cell_type": "markdown",
   "metadata": {},
   "source": [
    "#### Model ve Tahmin"
   ]
  },
  {
   "cell_type": "code",
   "execution_count": 6,
   "metadata": {},
   "outputs": [],
   "source": [
    "df = diabetes.copy()\n",
    "df = df.dropna()\n",
    "y = df[\"Outcome\"]\n",
    "X = df.drop(['Outcome'], axis=1)\n",
    "X = pd.DataFrame(X)\n",
    "X_train, X_test, y_train, y_test = train_test_split(X, y, \n",
    "                                                    test_size=0.30, \n",
    "                                                    random_state=42)"
   ]
  },
  {
   "cell_type": "code",
   "execution_count": 7,
   "metadata": {},
   "outputs": [],
   "source": [
    "# Model Kurma\n",
    "from sklearn.ensemble import RandomForestClassifier\n",
    "rf = RandomForestClassifier()\n",
    "rf_model = rf.fit(X_train, y_train)"
   ]
  },
  {
   "cell_type": "code",
   "execution_count": 8,
   "metadata": {},
   "outputs": [
    {
     "data": {
      "text/plain": [
       "RandomForestClassifier(bootstrap=True, class_weight=None, criterion='gini',\n",
       "                       max_depth=None, max_features='auto', max_leaf_nodes=None,\n",
       "                       min_impurity_decrease=0.0, min_impurity_split=None,\n",
       "                       min_samples_leaf=1, min_samples_split=2,\n",
       "                       min_weight_fraction_leaf=0.0, n_estimators=10,\n",
       "                       n_jobs=None, oob_score=False, random_state=None,\n",
       "                       verbose=0, warm_start=False)"
      ]
     },
     "execution_count": 8,
     "metadata": {},
     "output_type": "execute_result"
    }
   ],
   "source": [
    "rf_model"
   ]
  },
  {
   "cell_type": "code",
   "execution_count": 9,
   "metadata": {},
   "outputs": [
    {
     "data": {
      "text/plain": [
       "0.7186147186147186"
      ]
     },
     "execution_count": 9,
     "metadata": {},
     "output_type": "execute_result"
    }
   ],
   "source": [
    "# Test Hatası Skoru\n",
    "y_pred = rf_model.predict(X_test)\n",
    "accuracy_score(y_test, y_pred)"
   ]
  },
  {
   "cell_type": "markdown",
   "metadata": {},
   "source": [
    "#### Model Tuning"
   ]
  },
  {
   "cell_type": "markdown",
   "metadata": {},
   "source": [
    "**Random Forest**'ın en önemli iki parametresi vardır. Bunlarda bir tanesi **kullanılacak olan ağaç sayısı(n_estimators)**, diğeri ise **bölünmelerde göz önünde bulundurulacak olan değişken sayısı(max_feauture)**'dır."
   ]
  },
  {
   "cell_type": "code",
   "execution_count": 13,
   "metadata": {},
   "outputs": [],
   "source": [
    "# Hiperparametre\n",
    "rf_params = {\"max_depth\": [2,5,8,10],\n",
    "            \"max_features\": [2,5,8],\n",
    "            \"n_estimators\": [10,500,1000],\n",
    "            \"min_samples_split\": [2,5,10]}"
   ]
  },
  {
   "cell_type": "code",
   "execution_count": 15,
   "metadata": {},
   "outputs": [
    {
     "name": "stdout",
     "output_type": "stream",
     "text": [
      "Fitting 10 folds for each of 108 candidates, totalling 1080 fits\n"
     ]
    },
    {
     "name": "stderr",
     "output_type": "stream",
     "text": [
      "[Parallel(n_jobs=-1)]: Using backend LokyBackend with 4 concurrent workers.\n",
      "[Parallel(n_jobs=-1)]: Done  33 tasks      | elapsed:   18.4s\n",
      "[Parallel(n_jobs=-1)]: Done 154 tasks      | elapsed:  1.1min\n",
      "[Parallel(n_jobs=-1)]: Done 357 tasks      | elapsed:  2.7min\n",
      "[Parallel(n_jobs=-1)]: Done 640 tasks      | elapsed:  5.1min\n",
      "[Parallel(n_jobs=-1)]: Done 1005 tasks      | elapsed:  8.6min\n",
      "[Parallel(n_jobs=-1)]: Done 1080 out of 1080 | elapsed:  9.5min finished\n"
     ]
    },
    {
     "data": {
      "text/plain": [
       "GridSearchCV(cv=10, error_score='raise-deprecating',\n",
       "             estimator=RandomForestClassifier(bootstrap=True, class_weight=None,\n",
       "                                              criterion='gini', max_depth=None,\n",
       "                                              max_features='auto',\n",
       "                                              max_leaf_nodes=None,\n",
       "                                              min_impurity_decrease=0.0,\n",
       "                                              min_impurity_split=None,\n",
       "                                              min_samples_leaf=1,\n",
       "                                              min_samples_split=2,\n",
       "                                              min_weight_fraction_leaf=0.0,\n",
       "                                              n_estimators='warn', n_jobs=None,\n",
       "                                              oob_score=False,\n",
       "                                              random_state=None, verbose=0,\n",
       "                                              warm_start=False),\n",
       "             iid='warn', n_jobs=-1,\n",
       "             param_grid={'max_depth': [2, 5, 8, 10], 'max_features': [2, 5, 8],\n",
       "                         'min_samples_split': [2, 5, 10],\n",
       "                         'n_estimators': [10, 500, 1000]},\n",
       "             pre_dispatch='2*n_jobs', refit=True, return_train_score=False,\n",
       "             scoring=None, verbose=2)"
      ]
     },
     "execution_count": 15,
     "metadata": {},
     "output_type": "execute_result"
    }
   ],
   "source": [
    "# Model Kurma\n",
    "rf_model = RandomForestClassifier()\n",
    "\n",
    "rf_cv_model = GridSearchCV(rf_model, \n",
    "                           rf_params, \n",
    "                           cv = 10, \n",
    "                           n_jobs = -1, \n",
    "                           verbose = 2)\n",
    "\n",
    "rf_cv_model.fit(X_train, y_train)"
   ]
  },
  {
   "cell_type": "code",
   "execution_count": 16,
   "metadata": {},
   "outputs": [
    {
     "name": "stdout",
     "output_type": "stream",
     "text": [
      "En iyi parametreler: {'max_depth': 10, 'max_features': 5, 'min_samples_split': 2, 'n_estimators': 500}\n"
     ]
    }
   ],
   "source": [
    "# En iyi parametreler\n",
    "print(\"En iyi parametreler: \" + str(rf_cv_model.best_params_))"
   ]
  },
  {
   "cell_type": "code",
   "execution_count": 77,
   "metadata": {},
   "outputs": [
    {
     "data": {
      "text/plain": [
       "RandomForestClassifier(bootstrap=True, class_weight=None, criterion='gini',\n",
       "                       max_depth=10, max_features=5, max_leaf_nodes=None,\n",
       "                       min_impurity_decrease=0.0, min_impurity_split=None,\n",
       "                       min_samples_leaf=1, min_samples_split=2,\n",
       "                       min_weight_fraction_leaf=0.0, n_estimators=500,\n",
       "                       n_jobs=None, oob_score=False, random_state=None,\n",
       "                       verbose=0, warm_start=False)"
      ]
     },
     "execution_count": 77,
     "metadata": {},
     "output_type": "execute_result"
    }
   ],
   "source": [
    "# Final Modeli\n",
    "rf_tuned = RandomForestClassifier(max_depth = 10,\n",
    "                                  max_features = 5,\n",
    "                                  min_samples_split = 2,\n",
    "                                  n_estimators = 500)\n",
    "\n",
    "rf_tuned.fit(X_train, y_train)"
   ]
  },
  {
   "cell_type": "code",
   "execution_count": 18,
   "metadata": {},
   "outputs": [
    {
     "data": {
      "text/plain": [
       "0.7489177489177489"
      ]
     },
     "execution_count": 18,
     "metadata": {},
     "output_type": "execute_result"
    }
   ],
   "source": [
    "# Test Hatası Skoru\n",
    "y_pred = rf_tuned.predict(X_test)\n",
    "accuracy_score(y_test, y_pred)"
   ]
  },
  {
   "cell_type": "code",
   "execution_count": 19,
   "metadata": {},
   "outputs": [],
   "source": [
    "# Değişkenleri Önem Düzeyi\n",
    "Importance = pd.DataFrame({\"Importance\": rf_tuned.feature_importances_*100},\n",
    "                         index = X_train.columns)"
   ]
  },
  {
   "cell_type": "code",
   "execution_count": 21,
   "metadata": {},
   "outputs": [
    {
     "data": {
      "image/png": "[encoded data removed]",
      "text/plain": [
       "<Figure size 432x288 with 1 Axes>"
      ]
     },
     "metadata": {
      "needs_background": "light"
     },
     "output_type": "display_data"
    }
   ],
   "source": [
    "Importance.sort_values(by = \"Importance\", \n",
    "                       axis = 0, \n",
    "                       ascending = True).plot(kind =\"barh\", color = \"r\")\n",
    "\n",
    "plt.xlabel(\"Değişken Önem Düzeyleri\");"
   ]
  },
  {
   "cell_type": "markdown",
   "metadata": {},
   "source": [
    "## Gradient Boosting Machines (GBM)"
   ]
  },
  {
   "cell_type": "markdown",
   "metadata": {},
   "source": [
    "AdaBoost'un sınıflandırma ve regresyon problemlerine kolayca uyarlanabilen genelleştirilmiş versiyonudur. \n",
    "\n",
    "Artıklar üzerine tek bir tahminsel model formunda olan modeller serisi kurulur.\n",
    "\n",
    "Adaptive Boosting --Örnek : Kutu içindeki noktaların doğru şekillerde bölünerek farklı olanların hepsinin tek bir sınıf içinde toplanması."
   ]
  },
  {
   "cell_type": "markdown",
   "metadata": {},
   "source": [
    " * Gradient boosting tek bir tahminsel model formunda olan modeller serisi oluşturur.\n",
    " * Seri içersindeki bir model serideki bir önceki modelin tahmi nartıklarının/hatalarının üzerinde kurularak(fit)o oluşturulur."
   ]
  },
  {
   "cell_type": "markdown",
   "metadata": {},
   "source": [
    "#### Model ve Tahmin"
   ]
  },
  {
   "cell_type": "code",
   "execution_count": 22,
   "metadata": {},
   "outputs": [],
   "source": [
    "df = diabetes.copy()\n",
    "df = df.dropna()\n",
    "y = df[\"Outcome\"]\n",
    "X = df.drop(['Outcome'], axis=1)\n",
    "X = pd.DataFrame(X)\n",
    "X_train, X_test, y_train, y_test = train_test_split(X, y, \n",
    "                                                    test_size=0.30, \n",
    "                                                    random_state=42)"
   ]
  },
  {
   "cell_type": "code",
   "execution_count": 23,
   "metadata": {},
   "outputs": [],
   "source": [
    "# Model Kurma\n",
    "from sklearn.ensemble import GradientBoostingClassifier\n",
    "gbm = GradientBoostingClassifier()\n",
    "gbm_model = gbm.fit(X_train, y_train)"
   ]
  },
  {
   "cell_type": "code",
   "execution_count": 24,
   "metadata": {},
   "outputs": [
    {
     "data": {
      "text/plain": [
       "0.7445887445887446"
      ]
     },
     "execution_count": 24,
     "metadata": {},
     "output_type": "execute_result"
    }
   ],
   "source": [
    "# Test Hatası Skoru\n",
    "y_pred = gbm_model.predict(X_test)\n",
    "accuracy_score(y_test, y_pred)"
   ]
  },
  {
   "cell_type": "markdown",
   "metadata": {},
   "source": [
    "#### Model Tuning"
   ]
  },
  {
   "cell_type": "code",
   "execution_count": 25,
   "metadata": {},
   "outputs": [
    {
     "data": {
      "text/plain": [
       "GradientBoostingClassifier(criterion='friedman_mse', init=None,\n",
       "                           learning_rate=0.1, loss='deviance', max_depth=3,\n",
       "                           max_features=None, max_leaf_nodes=None,\n",
       "                           min_impurity_decrease=0.0, min_impurity_split=None,\n",
       "                           min_samples_leaf=1, min_samples_split=2,\n",
       "                           min_weight_fraction_leaf=0.0, n_estimators=100,\n",
       "                           n_iter_no_change=None, presort='auto',\n",
       "                           random_state=None, subsample=1.0, tol=0.0001,\n",
       "                           validation_fraction=0.1, verbose=0,\n",
       "                           warm_start=False)"
      ]
     },
     "execution_count": 25,
     "metadata": {},
     "output_type": "execute_result"
    }
   ],
   "source": [
    "gbm_model"
   ]
  },
  {
   "cell_type": "code",
   "execution_count": 26,
   "metadata": {},
   "outputs": [],
   "source": [
    "# Hiperparametre\n",
    "gbm_params = {\"learning_rate\" : [0.001, 0.01, 0.1, 0.05],\n",
    "             \"n_estimators\": [100,500,100],\n",
    "             \"max_depth\": [3,5,10],\n",
    "             \"min_samples_split\": [2,5,10]}"
   ]
  },
  {
   "cell_type": "code",
   "execution_count": 27,
   "metadata": {},
   "outputs": [
    {
     "name": "stdout",
     "output_type": "stream",
     "text": [
      "Fitting 10 folds for each of 108 candidates, totalling 1080 fits\n"
     ]
    },
    {
     "name": "stderr",
     "output_type": "stream",
     "text": [
      "[Parallel(n_jobs=-1)]: Using backend LokyBackend with 4 concurrent workers.\n",
      "[Parallel(n_jobs=-1)]: Done  33 tasks      | elapsed:   14.8s\n",
      "[Parallel(n_jobs=-1)]: Done 154 tasks      | elapsed:   45.6s\n",
      "[Parallel(n_jobs=-1)]: Done 357 tasks      | elapsed:  2.4min\n",
      "[Parallel(n_jobs=-1)]: Done 640 tasks      | elapsed:  4.6min\n",
      "[Parallel(n_jobs=-1)]: Done 1005 tasks      | elapsed:  6.5min\n",
      "[Parallel(n_jobs=-1)]: Done 1080 out of 1080 | elapsed:  7.2min finished\n"
     ]
    },
    {
     "data": {
      "text/plain": [
       "GridSearchCV(cv=10, error_score='raise-deprecating',\n",
       "             estimator=GradientBoostingClassifier(criterion='friedman_mse',\n",
       "                                                  init=None, learning_rate=0.1,\n",
       "                                                  loss='deviance', max_depth=3,\n",
       "                                                  max_features=None,\n",
       "                                                  max_leaf_nodes=None,\n",
       "                                                  min_impurity_decrease=0.0,\n",
       "                                                  min_impurity_split=None,\n",
       "                                                  min_samples_leaf=1,\n",
       "                                                  min_samples_split=2,\n",
       "                                                  min_weight_fraction_leaf=0.0,\n",
       "                                                  n_estimators=100,\n",
       "                                                  n_iter_n...=None,\n",
       "                                                  presort='auto',\n",
       "                                                  random_state=None,\n",
       "                                                  subsample=1.0, tol=0.0001,\n",
       "                                                  validation_fraction=0.1,\n",
       "                                                  verbose=0, warm_start=False),\n",
       "             iid='warn', n_jobs=-1,\n",
       "             param_grid={'learning_rate': [0.001, 0.01, 0.1, 0.05],\n",
       "                         'max_depth': [3, 5, 10],\n",
       "                         'min_samples_split': [2, 5, 10],\n",
       "                         'n_estimators': [100, 500, 100]},\n",
       "             pre_dispatch='2*n_jobs', refit=True, return_train_score=False,\n",
       "             scoring=None, verbose=2)"
      ]
     },
     "execution_count": 27,
     "metadata": {},
     "output_type": "execute_result"
    }
   ],
   "source": [
    "# Model Kurma\n",
    "gbm = GradientBoostingClassifier()\n",
    "\n",
    "gbm_cv = GridSearchCV(gbm, gbm_params, cv = 10, n_jobs = -1, verbose = 2)\n",
    "gbm_cv.fit(X_train, y_train)"
   ]
  },
  {
   "cell_type": "code",
   "execution_count": 28,
   "metadata": {},
   "outputs": [
    {
     "name": "stdout",
     "output_type": "stream",
     "text": [
      "En iyi parametreler: {'learning_rate': 0.01, 'max_depth': 3, 'min_samples_split': 5, 'n_estimators': 500}\n"
     ]
    }
   ],
   "source": [
    "print(\"En iyi parametreler: \" + str(gbm_cv.best_params_))"
   ]
  },
  {
   "cell_type": "code",
   "execution_count": 78,
   "metadata": {},
   "outputs": [],
   "source": [
    "# Final Modeli\n",
    "gbm = GradientBoostingClassifier(learning_rate = 0.01, \n",
    "                                 max_depth = 3,\n",
    "                                min_samples_split = 5,\n",
    "                                n_estimators = 500)\n",
    "\n",
    "gbm_tuned =  gbm.fit(X_train,y_train)"
   ]
  },
  {
   "cell_type": "code",
   "execution_count": 31,
   "metadata": {},
   "outputs": [
    {
     "data": {
      "text/plain": [
       "0.7489177489177489"
      ]
     },
     "execution_count": 31,
     "metadata": {},
     "output_type": "execute_result"
    }
   ],
   "source": [
    "# Test Hatası Skoru\n",
    "y_pred = gbm_tuned.predict(X_test)\n",
    "accuracy_score(y_test, y_pred)"
   ]
  },
  {
   "cell_type": "markdown",
   "metadata": {},
   "source": [
    "## XGBoost (eXtreme Gradiant Boosting)"
   ]
  },
  {
   "cell_type": "markdown",
   "metadata": {},
   "source": [
    "**XGBoost**, GBM'in hız ve tahmin performansını arttırmak üzere optimize edilmiş;ölçeklenebilir ve farklı platformlara entegre edilebilir halidir."
   ]
  },
  {
   "cell_type": "markdown",
   "metadata": {},
   "source": [
    "#### Model ve Tahmin"
   ]
  },
  {
   "cell_type": "code",
   "execution_count": 33,
   "metadata": {},
   "outputs": [],
   "source": [
    "df = diabetes.copy()\n",
    "df = df.dropna()\n",
    "y = df[\"Outcome\"]\n",
    "X = df.drop(['Outcome'], axis=1)\n",
    "X = pd.DataFrame(X)\n",
    "X_train, X_test, y_train, y_test = train_test_split(X, y, \n",
    "                                                    test_size=0.30, \n",
    "                                                    random_state=42)"
   ]
  },
  {
   "cell_type": "code",
   "execution_count": 34,
   "metadata": {
    "collapsed": true,
    "jupyter": {
     "outputs_hidden": true
    }
   },
   "outputs": [
    {
     "name": "stdout",
     "output_type": "stream",
     "text": [
      "[11:48:03] WARNING: C:/Users/Administrator/workspace/xgboost-win64_release_1.3.0/src/learner.cc:1061: Starting in XGBoost 1.3.0, the default evaluation metric used with the objective 'binary:logistic' was changed from 'error' to 'logloss'. Explicitly set eval_metric if you'd like to restore the old behavior.\n"
     ]
    }
   ],
   "source": [
    "# Model Kurma\n",
    "from xgboost import XGBClassifier\n",
    "xgb = XGBClassifier()\n",
    "xgb_model = xgb.fit(X_train, y_train)"
   ]
  },
  {
   "cell_type": "code",
   "execution_count": 35,
   "metadata": {},
   "outputs": [
    {
     "data": {
      "text/plain": [
       "0.7359307359307359"
      ]
     },
     "execution_count": 35,
     "metadata": {},
     "output_type": "execute_result"
    }
   ],
   "source": [
    "# Test Hatası Skoru\n",
    "y_pred = xgb_model.predict(X_test)\n",
    "accuracy_score(y_test, y_pred)"
   ]
  },
  {
   "cell_type": "markdown",
   "metadata": {},
   "source": [
    "#### Model Tuning"
   ]
  },
  {
   "cell_type": "code",
   "execution_count": 36,
   "metadata": {},
   "outputs": [
    {
     "data": {
      "text/plain": [
       "XGBClassifier(base_score=0.5, booster='gbtree', colsample_bylevel=1,\n",
       "              colsample_bynode=1, colsample_bytree=1, gamma=0, gpu_id=-1,\n",
       "              importance_type='gain', interaction_constraints='',\n",
       "              learning_rate=0.300000012, max_delta_step=0, max_depth=6,\n",
       "              min_child_weight=1, missing=nan, monotone_constraints='()',\n",
       "              n_estimators=100, n_jobs=4, num_parallel_tree=1,\n",
       "              objective='binary:logistic', random_state=0, reg_alpha=0,\n",
       "              reg_lambda=1, scale_pos_weight=1, subsample=1,\n",
       "              tree_method='exact', use_label_encoder=True,\n",
       "              validate_parameters=1, verbosity=None)"
      ]
     },
     "execution_count": 36,
     "metadata": {},
     "output_type": "execute_result"
    }
   ],
   "source": [
    "xgb_model"
   ]
  },
  {
   "cell_type": "code",
   "execution_count": 37,
   "metadata": {
    "collapsed": true,
    "jupyter": {
     "outputs_hidden": true
    }
   },
   "outputs": [
    {
     "data": {
      "text/plain": [
       "\u001b[1;31mType:\u001b[0m        XGBClassifier\n",
       "\u001b[1;31mString form:\u001b[0m\n",
       "XGBClassifier(base_score=0.5, booster='gbtree', colsample_bylevel=1,\n",
       "           colsample_byno <...> tree_method='exact', use_label_encoder=True,\n",
       "           validate_parameters=1, verbosity=None)\n",
       "\u001b[1;31mFile:\u001b[0m        c:\\users\\lenovo\\anaconda3\\lib\\site-packages\\xgboost\\sklearn.py\n",
       "\u001b[1;31mDocstring:\u001b[0m  \n",
       "Implementation of the scikit-learn API for XGBoost classification.\n",
       "\n",
       "\n",
       "Parameters\n",
       "----------\n",
       "\n",
       "    n_estimators : int\n",
       "        Number of boosting rounds.\n",
       "    use_label_encoder : bool\n",
       "        (Deprecated) Use the label encoder from scikit-learn to encode the labels. For new code,\n",
       "        we recommend that you set this parameter to False.\n",
       "\n",
       "    max_depth : int\n",
       "        Maximum tree depth for base learners.\n",
       "    learning_rate : float\n",
       "        Boosting learning rate (xgb's \"eta\")\n",
       "    verbosity : int\n",
       "        The degree of verbosity. Valid values are 0 (silent) - 3 (debug).\n",
       "    objective : string or callable\n",
       "        Specify the learning task and the corresponding learning objective or\n",
       "        a custom objective function to be used (see note below).\n",
       "    booster: string\n",
       "        Specify which booster to use: gbtree, gblinear or dart.\n",
       "    tree_method: string\n",
       "        Specify which tree method to use.  Default to auto.  If this parameter\n",
       "        is set to default, XGBoost will choose the most conservative option\n",
       "        available.  It's recommended to study this option from parameters\n",
       "        document.\n",
       "    n_jobs : int\n",
       "        Number of parallel threads used to run xgboost.  When used with other Scikit-Learn\n",
       "        algorithms like grid search, you may choose which algorithm to parallelize and\n",
       "        balance the threads.  Creating thread contention will significantly slow dowm both\n",
       "        algorithms.\n",
       "    gamma : float\n",
       "        Minimum loss reduction required to make a further partition on a leaf\n",
       "        node of the tree.\n",
       "    min_child_weight : float\n",
       "        Minimum sum of instance weight(hessian) needed in a child.\n",
       "    max_delta_step : int\n",
       "        Maximum delta step we allow each tree's weight estimation to be.\n",
       "    subsample : float\n",
       "        Subsample ratio of the training instance.\n",
       "    colsample_bytree : float\n",
       "        Subsample ratio of columns when constructing each tree.\n",
       "    colsample_bylevel : float\n",
       "        Subsample ratio of columns for each level.\n",
       "    colsample_bynode : float\n",
       "        Subsample ratio of columns for each split.\n",
       "    reg_alpha : float (xgb's alpha)\n",
       "        L1 regularization term on weights\n",
       "    reg_lambda : float (xgb's lambda)\n",
       "        L2 regularization term on weights\n",
       "    scale_pos_weight : float\n",
       "        Balancing of positive and negative weights.\n",
       "    base_score:\n",
       "        The initial prediction score of all instances, global bias.\n",
       "    random_state : int\n",
       "        Random number seed.\n",
       "\n",
       "        .. note::\n",
       "\n",
       "           Using gblinear booster with shotgun updater is nondeterministic as\n",
       "           it uses Hogwild algorithm.\n",
       "\n",
       "    missing : float, default np.nan\n",
       "        Value in the data which needs to be present as a missing value.\n",
       "    num_parallel_tree: int\n",
       "        Used for boosting random forest.\n",
       "    monotone_constraints : str\n",
       "        Constraint of variable monotonicity.  See tutorial for more\n",
       "        information.\n",
       "    interaction_constraints : str\n",
       "        Constraints for interaction representing permitted interactions.  The\n",
       "        constraints must be specified in the form of a nest list, e.g. [[0, 1],\n",
       "        [2, 3, 4]], where each inner list is a group of indices of features\n",
       "        that are allowed to interact with each other.  See tutorial for more\n",
       "        information\n",
       "    importance_type: string, default \"gain\"\n",
       "        The feature importance type for the feature_importances\\_ property:\n",
       "        either \"gain\", \"weight\", \"cover\", \"total_gain\" or \"total_cover\".\n",
       "\n",
       "    \\*\\*kwargs : dict, optional\n",
       "        Keyword arguments for XGBoost Booster object.  Full documentation of\n",
       "        parameters can be found here:\n",
       "        https://github.com/dmlc/xgboost/blob/master/doc/parameter.rst.\n",
       "        Attempting to set a parameter via the constructor args and \\*\\*kwargs\n",
       "        dict simultaneously will result in a TypeError.\n",
       "\n",
       "        .. note:: \\*\\*kwargs unsupported by scikit-learn\n",
       "\n",
       "            \\*\\*kwargs is unsupported by scikit-learn.  We do not guarantee\n",
       "            that parameters passed via this argument will interact properly\n",
       "            with scikit-learn.\n",
       "\n",
       "        .. note::  Custom objective function\n",
       "\n",
       "            A custom objective function can be provided for the ``objective``\n",
       "            parameter. In this case, it should have the signature\n",
       "            ``objective(y_true, y_pred) -> grad, hess``:\n",
       "\n",
       "            y_true: array_like of shape [n_samples]\n",
       "                The target values\n",
       "            y_pred: array_like of shape [n_samples]\n",
       "                The predicted values\n",
       "\n",
       "            grad: array_like of shape [n_samples]\n",
       "                The value of the gradient for each sample point.\n",
       "            hess: array_like of shape [n_samples]\n",
       "                The value of the second derivative for each sample point\n"
      ]
     },
     "metadata": {},
     "output_type": "display_data"
    }
   ],
   "source": [
    "?xgb_model"
   ]
  },
  {
   "cell_type": "code",
   "execution_count": 38,
   "metadata": {},
   "outputs": [],
   "source": [
    "# Hiperparametre\n",
    "xgb_params = {\n",
    "        'n_estimators': [100, 500, 1000, 2000],\n",
    "        'subsample': [0.6, 0.8, 1.0],\n",
    "        'max_depth': [3, 4, 5,6],\n",
    "        'learning_rate': [0.1,0.01,0.02,0.05],\n",
    "        \"min_samples_split\": [2,5,10]}"
   ]
  },
  {
   "cell_type": "code",
   "execution_count": null,
   "metadata": {},
   "outputs": [],
   "source": [
    "xgb = XGBClassifier()\n",
    "\n",
    "xgb_cv_model = GridSearchCV(xgb, xgb_params, cv = 10, n_jobs = -1, verbose = 2)\n",
    "xgb_cv_model.fit(X_train, y_train)"
   ]
  },
  {
   "cell_type": "code",
   "execution_count": null,
   "metadata": {},
   "outputs": [],
   "source": [
    "# En İyi Parametreler\n",
    "xgb_cv_model.best_params_"
   ]
  },
  {
   "cell_type": "code",
   "execution_count": 79,
   "metadata": {
    "collapsed": true,
    "jupyter": {
     "outputs_hidden": true
    }
   },
   "outputs": [
    {
     "name": "stdout",
     "output_type": "stream",
     "text": [
      "[13:30:53] WARNING: C:/Users/Administrator/workspace/xgboost-win64_release_1.3.0/src/learner.cc:541: \n",
      "Parameters: { min_samples_split } might not be used.\n",
      "\n",
      "  This may not be accurate due to some parameters are only used in language bindings but\n",
      "  passed down to XGBoost core.  Or some parameters are not used but slip through this\n",
      "  verification. Please open an issue if you find above cases.\n",
      "\n",
      "\n",
      "[13:30:53] WARNING: C:/Users/Administrator/workspace/xgboost-win64_release_1.3.0/src/learner.cc:1061: Starting in XGBoost 1.3.0, the default evaluation metric used with the objective 'binary:logistic' was changed from 'error' to 'logloss'. Explicitly set eval_metric if you'd like to restore the old behavior.\n"
     ]
    }
   ],
   "source": [
    "# Final Modeli\n",
    "xgb = XGBClassifier(learning_rate = 0.01, \n",
    "                    max_depth = 6,\n",
    "                    min_samples_split = 2,\n",
    "                    n_estimators = 100,\n",
    "                    subsample = 0.8)\n",
    "\n",
    "xgb_tuned =  xgb.fit(X_train,y_train)"
   ]
  },
  {
   "cell_type": "code",
   "execution_count": 52,
   "metadata": {},
   "outputs": [
    {
     "data": {
      "text/plain": [
       "0.7445887445887446"
      ]
     },
     "execution_count": 52,
     "metadata": {},
     "output_type": "execute_result"
    }
   ],
   "source": [
    "#Test Hatası Skoru\n",
    "y_pred = xgb_tuned.predict(X_test)\n",
    "accuracy_score(y_test, y_pred)"
   ]
  },
  {
   "cell_type": "markdown",
   "metadata": {},
   "source": [
    "## LightGBM"
   ]
  },
  {
   "cell_type": "markdown",
   "metadata": {},
   "source": [
    "**LightGBm**,XGBoost'un eğitim süresi performansını arttırmaya yönelik geliştirilen bir diğer GBM türüdür."
   ]
  },
  {
   "cell_type": "markdown",
   "metadata": {},
   "source": [
    "#### Model ve Tahmin"
   ]
  },
  {
   "cell_type": "code",
   "execution_count": 43,
   "metadata": {
    "collapsed": true,
    "jupyter": {
     "outputs_hidden": true
    }
   },
   "outputs": [
    {
     "name": "stdout",
     "output_type": "stream",
     "text": [
      "Collecting lightgbm\n",
      "  Downloading https://files.pythonhosted.org/packages/80/28/fecd02e7856e36afcdc71ee968b1b3859b3bc784e042991d5520e4d7be2c/lightgbm-3.1.1-py2.py3-none-win_amd64.whl (754kB)\n",
      "Requirement already satisfied: numpy in c:\\users\\lenovo\\anaconda3\\lib\\site-packages (from lightgbm) (1.16.5)\n",
      "Requirement already satisfied: scipy in c:\\users\\lenovo\\anaconda3\\lib\\site-packages (from lightgbm) (1.3.1)\n",
      "Requirement already satisfied: scikit-learn!=0.22.0 in c:\\users\\lenovo\\anaconda3\\lib\\site-packages (from lightgbm) (0.21.3)\n",
      "Requirement already satisfied: wheel in c:\\users\\lenovo\\anaconda3\\lib\\site-packages (from lightgbm) (0.33.6)\n",
      "Requirement already satisfied: joblib>=0.11 in c:\\users\\lenovo\\anaconda3\\lib\\site-packages (from scikit-learn!=0.22.0->lightgbm) (0.13.2)\n",
      "Installing collected packages: lightgbm\n",
      "Successfully installed lightgbm-3.1.1\n"
     ]
    }
   ],
   "source": [
    "!pip install lightgbm"
   ]
  },
  {
   "cell_type": "code",
   "execution_count": 44,
   "metadata": {},
   "outputs": [],
   "source": [
    "df = diabetes.copy()\n",
    "df = df.dropna()\n",
    "y = df[\"Outcome\"]\n",
    "X = df.drop(['Outcome'], axis=1)\n",
    "X = pd.DataFrame(X)\n",
    "X_train, X_test, y_train, y_test = train_test_split(X, y, \n",
    "                                                    test_size=0.30, \n",
    "                                                    random_state=42)"
   ]
  },
  {
   "cell_type": "code",
   "execution_count": 45,
   "metadata": {},
   "outputs": [],
   "source": [
    "# Model Kurma\n",
    "from lightgbm import LGBMClassifier\n",
    "lgbm = LGBMClassifier()\n",
    "lgbm_model = lgbm.fit(X_train, y_train)"
   ]
  },
  {
   "cell_type": "code",
   "execution_count": 46,
   "metadata": {},
   "outputs": [
    {
     "data": {
      "text/plain": [
       "0.7229437229437229"
      ]
     },
     "execution_count": 46,
     "metadata": {},
     "output_type": "execute_result"
    }
   ],
   "source": [
    "# Test Hatası Skoru\n",
    "y_pred = lgbm_model.predict(X_test)\n",
    "accuracy_score(y_test, y_pred)"
   ]
  },
  {
   "cell_type": "markdown",
   "metadata": {},
   "source": [
    "#### Model Tuning"
   ]
  },
  {
   "cell_type": "code",
   "execution_count": 47,
   "metadata": {},
   "outputs": [
    {
     "data": {
      "text/plain": [
       "LGBMClassifier(boosting_type='gbdt', class_weight=None, colsample_bytree=1.0,\n",
       "               importance_type='split', learning_rate=0.1, max_depth=-1,\n",
       "               min_child_samples=20, min_child_weight=0.001, min_split_gain=0.0,\n",
       "               n_estimators=100, n_jobs=-1, num_leaves=31, objective=None,\n",
       "               random_state=None, reg_alpha=0.0, reg_lambda=0.0, silent=True,\n",
       "               subsample=1.0, subsample_for_bin=200000, subsample_freq=0)"
      ]
     },
     "execution_count": 47,
     "metadata": {},
     "output_type": "execute_result"
    }
   ],
   "source": [
    "lgbm_model"
   ]
  },
  {
   "cell_type": "code",
   "execution_count": 48,
   "metadata": {},
   "outputs": [],
   "source": [
    "# Hiperparametre\n",
    "lgbm_params = {\n",
    "        'n_estimators': [100, 500, 1000, 2000],\n",
    "        'subsample': [0.6, 0.8, 1.0],\n",
    "        'max_depth': [3, 4, 5,6],\n",
    "        'learning_rate': [0.1,0.01,0.02,0.05],\n",
    "        \"min_child_samples\": [5,10,20]}"
   ]
  },
  {
   "cell_type": "code",
   "execution_count": null,
   "metadata": {},
   "outputs": [],
   "source": [
    "# Model Kurma\n",
    "lgbm = LGBMClassifier()\n",
    "\n",
    "lgbm_cv_model = GridSearchCV(lgbm, lgbm_params, \n",
    "                             cv = 10, \n",
    "                             n_jobs = -1, \n",
    "                             verbose = 2)\n",
    "\n",
    "lgbm_cv_model.fit(X_train, y_train)"
   ]
  },
  {
   "cell_type": "code",
   "execution_count": null,
   "metadata": {},
   "outputs": [],
   "source": [
    "# En iyi parametreler\n",
    "lgbm_cv_model.best_params_"
   ]
  },
  {
   "cell_type": "code",
   "execution_count": 80,
   "metadata": {},
   "outputs": [],
   "source": [
    "# Final Modeli\n",
    "lgbm = LGBMClassifier(learning_rate = 0.01, \n",
    "                       max_depth = 3,\n",
    "                       subsample = 0.6,\n",
    "                       n_estimators = 500,\n",
    "                       min_child_samples = 20)\n",
    "\n",
    "lgbm_tuned = lgbm.fit(X_train,y_train)"
   ]
  },
  {
   "cell_type": "code",
   "execution_count": 51,
   "metadata": {},
   "outputs": [
    {
     "data": {
      "text/plain": [
       "0.7532467532467533"
      ]
     },
     "execution_count": 51,
     "metadata": {},
     "output_type": "execute_result"
    }
   ],
   "source": [
    "# Test Hatası Skoru\n",
    "y_pred = lgbm_tuned.predict(X_test)\n",
    "accuracy_score(y_test, y_pred)"
   ]
  },
  {
   "cell_type": "markdown",
   "metadata": {},
   "source": [
    "## CatBoost (Category Boosting)"
   ]
  },
  {
   "cell_type": "markdown",
   "metadata": {},
   "source": [
    "Kategorik değişkenler ile otomatatik olarak mücadele edebilen,hızlı ve başarılı bir diğer GBM türevidir.\n",
    "\n",
    "Yandedex 2017\n",
    "\n",
    "Kategorik değişken desteği -- Veri setimizde çok fazla değişken olduğunda ve bu değişkenler arasında kategorik değişkenler sayısı fazlalaştığında bölünme işlemlerinde bazı problemler ortaya çıkmaktadır.İşte bu kategorik değişkenlerin hem bölünme anlamında hem sınıflarının etki düzeyi anlamında etkileri aynı olmayacaktır."
   ]
  },
  {
   "cell_type": "markdown",
   "metadata": {},
   "source": [
    "#### Model ve Tahmin"
   ]
  },
  {
   "cell_type": "code",
   "execution_count": 53,
   "metadata": {
    "collapsed": true,
    "jupyter": {
     "outputs_hidden": true
    }
   },
   "outputs": [
    {
     "name": "stdout",
     "output_type": "stream",
     "text": [
      "Collecting catboost\n",
      "  Downloading https://files.pythonhosted.org/packages/dd/6c/e2ab72e1b5730533a0980352816cc781351c21dfa5478b130d99d99d7ce2/catboost-0.24.4-cp37-none-win_amd64.whl (65.4MB)\n",
      "Requirement already satisfied: six in c:\\users\\lenovo\\anaconda3\\lib\\site-packages (from catboost) (1.12.0)\n",
      "Collecting graphviz (from catboost)\n",
      "  Downloading https://files.pythonhosted.org/packages/86/86/89ba50ba65928001d3161f23bfa03945ed18ea13a1d1d44a772ff1fa4e7a/graphviz-0.16-py2.py3-none-any.whl\n",
      "Collecting plotly (from catboost)\n",
      "  Downloading https://files.pythonhosted.org/packages/1f/f6/bd3c17c8003b6641df1228e80e1acac97ed8402635e46c2571f8e1ef63af/plotly-4.14.3-py2.py3-none-any.whl (13.2MB)\n",
      "Requirement already satisfied: pandas>=0.24.0 in c:\\users\\lenovo\\anaconda3\\lib\\site-packages (from catboost) (0.25.1)\n",
      "Requirement already satisfied: numpy>=1.16.0 in c:\\users\\lenovo\\anaconda3\\lib\\site-packages (from catboost) (1.16.5)\n",
      "Requirement already satisfied: scipy in c:\\users\\lenovo\\anaconda3\\lib\\site-packages (from catboost) (1.3.1)\n",
      "Requirement already satisfied: matplotlib in c:\\users\\lenovo\\anaconda3\\lib\\site-packages (from catboost) (3.1.1)\n",
      "Collecting retrying>=1.3.3 (from plotly->catboost)\n",
      "  Downloading https://files.pythonhosted.org/packages/44/ef/beae4b4ef80902f22e3af073397f079c96969c69b2c7d52a57ea9ae61c9d/retrying-1.3.3.tar.gz\n",
      "Requirement already satisfied: python-dateutil>=2.6.1 in c:\\users\\lenovo\\anaconda3\\lib\\site-packages (from pandas>=0.24.0->catboost) (2.8.0)\n",
      "Requirement already satisfied: pytz>=2017.2 in c:\\users\\lenovo\\anaconda3\\lib\\site-packages (from pandas>=0.24.0->catboost) (2019.3)\n",
      "Requirement already satisfied: cycler>=0.10 in c:\\users\\lenovo\\anaconda3\\lib\\site-packages (from matplotlib->catboost) (0.10.0)\n",
      "Requirement already satisfied: kiwisolver>=1.0.1 in c:\\users\\lenovo\\anaconda3\\lib\\site-packages (from matplotlib->catboost) (1.1.0)\n",
      "Requirement already satisfied: pyparsing!=2.0.4,!=2.1.2,!=2.1.6,>=2.0.1 in c:\\users\\lenovo\\anaconda3\\lib\\site-packages (from matplotlib->catboost) (2.4.2)\n",
      "Requirement already satisfied: setuptools in c:\\users\\lenovo\\anaconda3\\lib\\site-packages (from kiwisolver>=1.0.1->matplotlib->catboost) (41.4.0)\n",
      "Building wheels for collected packages: retrying\n",
      "  Building wheel for retrying (setup.py): started\n",
      "  Building wheel for retrying (setup.py): finished with status 'done'\n",
      "  Created wheel for retrying: filename=retrying-1.3.3-cp37-none-any.whl size=11435 sha256=76a6c005a90d95e0ffb19341053e48c9f273f5c80f1e708f9f7abacdbd9b3cbe\n",
      "  Stored in directory: C:\\Users\\lenovo\\AppData\\Local\\pip\\Cache\\wheels\\d7\\a9\\33\\acc7b709e2a35caa7d4cae442f6fe6fbf2c43f80823d46460c\n",
      "Successfully built retrying\n",
      "Installing collected packages: graphviz, retrying, plotly, catboost\n",
      "Successfully installed catboost-0.24.4 graphviz-0.16 plotly-4.14.3 retrying-1.3.3\n"
     ]
    }
   ],
   "source": [
    "!pip install catboost"
   ]
  },
  {
   "cell_type": "code",
   "execution_count": 54,
   "metadata": {},
   "outputs": [],
   "source": [
    "df = diabetes.copy()\n",
    "df = df.dropna()\n",
    "y = df[\"Outcome\"]\n",
    "X = df.drop(['Outcome'], axis=1)\n",
    "X = pd.DataFrame(X)\n",
    "X_train, X_test, y_train, y_test = train_test_split(X, y, \n",
    "                                                    test_size=0.30, \n",
    "                                                    random_state=42)"
   ]
  },
  {
   "cell_type": "code",
   "execution_count": 55,
   "metadata": {
    "collapsed": true,
    "jupyter": {
     "outputs_hidden": true
    }
   },
   "outputs": [
    {
     "name": "stdout",
     "output_type": "stream",
     "text": [
      "Learning rate set to 0.0079\n",
      "0:\tlearn: 0.6879822\ttotal: 155ms\tremaining: 2m 34s\n",
      "1:\tlearn: 0.6843544\ttotal: 159ms\tremaining: 1m 19s\n",
      "2:\tlearn: 0.6805937\ttotal: 164ms\tremaining: 54.4s\n",
      "3:\tlearn: 0.6766011\ttotal: 169ms\tremaining: 42.2s\n",
      "4:\tlearn: 0.6721103\ttotal: 174ms\tremaining: 34.7s\n",
      "5:\tlearn: 0.6681927\ttotal: 179ms\tremaining: 29.7s\n",
      "6:\tlearn: 0.6642263\ttotal: 184ms\tremaining: 26.1s\n",
      "7:\tlearn: 0.6603263\ttotal: 189ms\tremaining: 23.4s\n",
      "8:\tlearn: 0.6563030\ttotal: 194ms\tremaining: 21.3s\n",
      "9:\tlearn: 0.6528911\ttotal: 198ms\tremaining: 19.6s\n",
      "10:\tlearn: 0.6488276\ttotal: 203ms\tremaining: 18.3s\n",
      "11:\tlearn: 0.6455457\ttotal: 209ms\tremaining: 17.2s\n",
      "12:\tlearn: 0.6419444\ttotal: 216ms\tremaining: 16.4s\n",
      "13:\tlearn: 0.6374939\ttotal: 227ms\tremaining: 16s\n",
      "14:\tlearn: 0.6340194\ttotal: 238ms\tremaining: 15.6s\n",
      "15:\tlearn: 0.6304776\ttotal: 242ms\tremaining: 14.9s\n",
      "16:\tlearn: 0.6267531\ttotal: 248ms\tremaining: 14.3s\n",
      "17:\tlearn: 0.6238199\ttotal: 252ms\tremaining: 13.7s\n",
      "18:\tlearn: 0.6204938\ttotal: 256ms\tremaining: 13.2s\n",
      "19:\tlearn: 0.6170669\ttotal: 261ms\tremaining: 12.8s\n",
      "20:\tlearn: 0.6133936\ttotal: 265ms\tremaining: 12.4s\n",
      "21:\tlearn: 0.6105467\ttotal: 270ms\tremaining: 12s\n",
      "22:\tlearn: 0.6070055\ttotal: 274ms\tremaining: 11.6s\n",
      "23:\tlearn: 0.6036988\ttotal: 279ms\tremaining: 11.3s\n",
      "24:\tlearn: 0.6005906\ttotal: 283ms\tremaining: 11s\n",
      "25:\tlearn: 0.5978029\ttotal: 288ms\tremaining: 10.8s\n",
      "26:\tlearn: 0.5948687\ttotal: 292ms\tremaining: 10.5s\n",
      "27:\tlearn: 0.5920321\ttotal: 296ms\tremaining: 10.3s\n",
      "28:\tlearn: 0.5885543\ttotal: 301ms\tremaining: 10.1s\n",
      "29:\tlearn: 0.5848739\ttotal: 305ms\tremaining: 9.86s\n",
      "30:\tlearn: 0.5814562\ttotal: 309ms\tremaining: 9.67s\n",
      "31:\tlearn: 0.5783158\ttotal: 314ms\tremaining: 9.5s\n",
      "32:\tlearn: 0.5754880\ttotal: 319ms\tremaining: 9.35s\n",
      "33:\tlearn: 0.5737960\ttotal: 325ms\tremaining: 9.23s\n",
      "34:\tlearn: 0.5713558\ttotal: 329ms\tremaining: 9.08s\n",
      "35:\tlearn: 0.5687880\ttotal: 334ms\tremaining: 8.94s\n",
      "36:\tlearn: 0.5660068\ttotal: 339ms\tremaining: 8.83s\n",
      "37:\tlearn: 0.5642053\ttotal: 347ms\tremaining: 8.77s\n",
      "38:\tlearn: 0.5618905\ttotal: 352ms\tremaining: 8.66s\n",
      "39:\tlearn: 0.5596534\ttotal: 356ms\tremaining: 8.55s\n",
      "40:\tlearn: 0.5576328\ttotal: 361ms\tremaining: 8.45s\n",
      "41:\tlearn: 0.5553185\ttotal: 366ms\tremaining: 8.35s\n",
      "42:\tlearn: 0.5531257\ttotal: 370ms\tremaining: 8.24s\n",
      "43:\tlearn: 0.5501080\ttotal: 375ms\tremaining: 8.16s\n",
      "44:\tlearn: 0.5479930\ttotal: 380ms\tremaining: 8.06s\n",
      "45:\tlearn: 0.5456177\ttotal: 384ms\tremaining: 7.96s\n",
      "46:\tlearn: 0.5438786\ttotal: 388ms\tremaining: 7.87s\n",
      "47:\tlearn: 0.5419967\ttotal: 392ms\tremaining: 7.78s\n",
      "48:\tlearn: 0.5394665\ttotal: 399ms\tremaining: 7.74s\n",
      "49:\tlearn: 0.5376058\ttotal: 406ms\tremaining: 7.71s\n",
      "50:\tlearn: 0.5352902\ttotal: 412ms\tremaining: 7.66s\n",
      "51:\tlearn: 0.5332041\ttotal: 417ms\tremaining: 7.6s\n",
      "52:\tlearn: 0.5306692\ttotal: 421ms\tremaining: 7.52s\n",
      "53:\tlearn: 0.5284961\ttotal: 426ms\tremaining: 7.46s\n",
      "54:\tlearn: 0.5266646\ttotal: 430ms\tremaining: 7.39s\n",
      "55:\tlearn: 0.5245416\ttotal: 434ms\tremaining: 7.32s\n",
      "56:\tlearn: 0.5225713\ttotal: 438ms\tremaining: 7.25s\n",
      "57:\tlearn: 0.5206087\ttotal: 443ms\tremaining: 7.19s\n",
      "58:\tlearn: 0.5182788\ttotal: 447ms\tremaining: 7.13s\n",
      "59:\tlearn: 0.5160537\ttotal: 451ms\tremaining: 7.07s\n",
      "60:\tlearn: 0.5146418\ttotal: 456ms\tremaining: 7.01s\n",
      "61:\tlearn: 0.5133434\ttotal: 460ms\tremaining: 6.96s\n",
      "62:\tlearn: 0.5120091\ttotal: 464ms\tremaining: 6.91s\n",
      "63:\tlearn: 0.5105931\ttotal: 468ms\tremaining: 6.85s\n",
      "64:\tlearn: 0.5082239\ttotal: 475ms\tremaining: 6.83s\n",
      "65:\tlearn: 0.5062303\ttotal: 480ms\tremaining: 6.79s\n",
      "66:\tlearn: 0.5046140\ttotal: 484ms\tremaining: 6.74s\n",
      "67:\tlearn: 0.5026774\ttotal: 489ms\tremaining: 6.7s\n",
      "68:\tlearn: 0.5014878\ttotal: 491ms\tremaining: 6.63s\n",
      "69:\tlearn: 0.5001072\ttotal: 503ms\tremaining: 6.69s\n",
      "70:\tlearn: 0.4986150\ttotal: 514ms\tremaining: 6.72s\n",
      "71:\tlearn: 0.4968047\ttotal: 523ms\tremaining: 6.74s\n",
      "72:\tlearn: 0.4953632\ttotal: 528ms\tremaining: 6.7s\n",
      "73:\tlearn: 0.4938498\ttotal: 532ms\tremaining: 6.66s\n",
      "74:\tlearn: 0.4922801\ttotal: 537ms\tremaining: 6.62s\n",
      "75:\tlearn: 0.4908261\ttotal: 541ms\tremaining: 6.58s\n",
      "76:\tlearn: 0.4892363\ttotal: 546ms\tremaining: 6.54s\n",
      "77:\tlearn: 0.4876098\ttotal: 550ms\tremaining: 6.5s\n",
      "78:\tlearn: 0.4862050\ttotal: 554ms\tremaining: 6.46s\n",
      "79:\tlearn: 0.4850063\ttotal: 558ms\tremaining: 6.42s\n",
      "80:\tlearn: 0.4839806\ttotal: 562ms\tremaining: 6.38s\n",
      "81:\tlearn: 0.4823197\ttotal: 567ms\tremaining: 6.34s\n",
      "82:\tlearn: 0.4806850\ttotal: 571ms\tremaining: 6.31s\n",
      "83:\tlearn: 0.4791040\ttotal: 575ms\tremaining: 6.27s\n",
      "84:\tlearn: 0.4776899\ttotal: 580ms\tremaining: 6.24s\n",
      "85:\tlearn: 0.4760505\ttotal: 584ms\tremaining: 6.21s\n",
      "86:\tlearn: 0.4750202\ttotal: 589ms\tremaining: 6.18s\n",
      "87:\tlearn: 0.4736074\ttotal: 593ms\tremaining: 6.15s\n",
      "88:\tlearn: 0.4721145\ttotal: 597ms\tremaining: 6.12s\n",
      "89:\tlearn: 0.4709314\ttotal: 602ms\tremaining: 6.09s\n",
      "90:\tlearn: 0.4693651\ttotal: 607ms\tremaining: 6.06s\n",
      "91:\tlearn: 0.4679810\ttotal: 611ms\tremaining: 6.03s\n",
      "92:\tlearn: 0.4665089\ttotal: 616ms\tremaining: 6s\n",
      "93:\tlearn: 0.4650662\ttotal: 620ms\tremaining: 5.98s\n",
      "94:\tlearn: 0.4638027\ttotal: 624ms\tremaining: 5.95s\n",
      "95:\tlearn: 0.4625580\ttotal: 629ms\tremaining: 5.92s\n",
      "96:\tlearn: 0.4611601\ttotal: 634ms\tremaining: 5.9s\n",
      "97:\tlearn: 0.4601908\ttotal: 639ms\tremaining: 5.88s\n",
      "98:\tlearn: 0.4589758\ttotal: 643ms\tremaining: 5.86s\n",
      "99:\tlearn: 0.4579517\ttotal: 648ms\tremaining: 5.83s\n",
      "100:\tlearn: 0.4568376\ttotal: 652ms\tremaining: 5.8s\n",
      "101:\tlearn: 0.4560033\ttotal: 656ms\tremaining: 5.78s\n",
      "102:\tlearn: 0.4550106\ttotal: 661ms\tremaining: 5.75s\n",
      "103:\tlearn: 0.4538100\ttotal: 666ms\tremaining: 5.73s\n",
      "104:\tlearn: 0.4525246\ttotal: 670ms\tremaining: 5.71s\n",
      "105:\tlearn: 0.4516290\ttotal: 674ms\tremaining: 5.68s\n",
      "106:\tlearn: 0.4505692\ttotal: 678ms\tremaining: 5.66s\n",
      "107:\tlearn: 0.4493491\ttotal: 683ms\tremaining: 5.64s\n",
      "108:\tlearn: 0.4484229\ttotal: 687ms\tremaining: 5.61s\n",
      "109:\tlearn: 0.4475237\ttotal: 691ms\tremaining: 5.59s\n",
      "110:\tlearn: 0.4462811\ttotal: 695ms\tremaining: 5.56s\n",
      "111:\tlearn: 0.4455498\ttotal: 699ms\tremaining: 5.54s\n",
      "112:\tlearn: 0.4447490\ttotal: 704ms\tremaining: 5.52s\n",
      "113:\tlearn: 0.4436312\ttotal: 708ms\tremaining: 5.5s\n",
      "114:\tlearn: 0.4426529\ttotal: 712ms\tremaining: 5.48s\n",
      "115:\tlearn: 0.4419532\ttotal: 717ms\tremaining: 5.46s\n",
      "116:\tlearn: 0.4408642\ttotal: 721ms\tremaining: 5.44s\n",
      "117:\tlearn: 0.4400705\ttotal: 726ms\tremaining: 5.42s\n",
      "118:\tlearn: 0.4392703\ttotal: 730ms\tremaining: 5.41s\n",
      "119:\tlearn: 0.4382235\ttotal: 735ms\tremaining: 5.39s\n",
      "120:\tlearn: 0.4373214\ttotal: 742ms\tremaining: 5.39s\n",
      "121:\tlearn: 0.4364590\ttotal: 752ms\tremaining: 5.41s\n",
      "122:\tlearn: 0.4358042\ttotal: 757ms\tremaining: 5.4s\n",
      "123:\tlearn: 0.4346576\ttotal: 763ms\tremaining: 5.39s\n",
      "124:\tlearn: 0.4334821\ttotal: 768ms\tremaining: 5.37s\n",
      "125:\tlearn: 0.4328019\ttotal: 772ms\tremaining: 5.35s\n",
      "126:\tlearn: 0.4319468\ttotal: 777ms\tremaining: 5.34s\n",
      "127:\tlearn: 0.4313707\ttotal: 784ms\tremaining: 5.34s\n",
      "128:\tlearn: 0.4305355\ttotal: 789ms\tremaining: 5.33s\n",
      "129:\tlearn: 0.4298462\ttotal: 794ms\tremaining: 5.31s\n",
      "130:\tlearn: 0.4292290\ttotal: 798ms\tremaining: 5.29s\n",
      "131:\tlearn: 0.4280695\ttotal: 803ms\tremaining: 5.28s\n",
      "132:\tlearn: 0.4270546\ttotal: 808ms\tremaining: 5.26s\n",
      "133:\tlearn: 0.4260827\ttotal: 812ms\tremaining: 5.25s\n",
      "134:\tlearn: 0.4253427\ttotal: 817ms\tremaining: 5.24s\n",
      "135:\tlearn: 0.4245101\ttotal: 822ms\tremaining: 5.22s\n",
      "136:\tlearn: 0.4237595\ttotal: 827ms\tremaining: 5.21s\n",
      "137:\tlearn: 0.4228898\ttotal: 833ms\tremaining: 5.2s\n",
      "138:\tlearn: 0.4221720\ttotal: 838ms\tremaining: 5.19s\n",
      "139:\tlearn: 0.4214328\ttotal: 845ms\tremaining: 5.19s\n",
      "140:\tlearn: 0.4206441\ttotal: 849ms\tremaining: 5.17s\n",
      "141:\tlearn: 0.4194387\ttotal: 854ms\tremaining: 5.16s\n",
      "142:\tlearn: 0.4190300\ttotal: 858ms\tremaining: 5.14s\n",
      "143:\tlearn: 0.4183890\ttotal: 862ms\tremaining: 5.13s\n",
      "144:\tlearn: 0.4178356\ttotal: 868ms\tremaining: 5.12s\n",
      "145:\tlearn: 0.4169107\ttotal: 873ms\tremaining: 5.11s\n",
      "146:\tlearn: 0.4165857\ttotal: 878ms\tremaining: 5.09s\n",
      "147:\tlearn: 0.4157928\ttotal: 883ms\tremaining: 5.08s\n",
      "148:\tlearn: 0.4151702\ttotal: 887ms\tremaining: 5.07s\n",
      "149:\tlearn: 0.4140647\ttotal: 892ms\tremaining: 5.05s\n",
      "150:\tlearn: 0.4134993\ttotal: 896ms\tremaining: 5.04s\n",
      "151:\tlearn: 0.4129717\ttotal: 902ms\tremaining: 5.03s\n",
      "152:\tlearn: 0.4118548\ttotal: 906ms\tremaining: 5.02s\n",
      "153:\tlearn: 0.4111608\ttotal: 914ms\tremaining: 5.02s\n",
      "154:\tlearn: 0.4104780\ttotal: 918ms\tremaining: 5.01s\n",
      "155:\tlearn: 0.4098930\ttotal: 923ms\tremaining: 4.99s\n",
      "156:\tlearn: 0.4089691\ttotal: 932ms\tremaining: 5.01s\n",
      "157:\tlearn: 0.4087054\ttotal: 938ms\tremaining: 5s\n",
      "158:\tlearn: 0.4077668\ttotal: 956ms\tremaining: 5.06s\n",
      "159:\tlearn: 0.4072638\ttotal: 961ms\tremaining: 5.04s\n",
      "160:\tlearn: 0.4067148\ttotal: 965ms\tremaining: 5.03s\n",
      "161:\tlearn: 0.4060385\ttotal: 970ms\tremaining: 5.02s\n",
      "162:\tlearn: 0.4055288\ttotal: 974ms\tremaining: 5s\n",
      "163:\tlearn: 0.4047306\ttotal: 979ms\tremaining: 4.99s\n",
      "164:\tlearn: 0.4037789\ttotal: 983ms\tremaining: 4.97s\n",
      "165:\tlearn: 0.4031834\ttotal: 988ms\tremaining: 4.96s\n",
      "166:\tlearn: 0.4026181\ttotal: 992ms\tremaining: 4.95s\n",
      "167:\tlearn: 0.4019249\ttotal: 996ms\tremaining: 4.93s\n",
      "168:\tlearn: 0.4011902\ttotal: 1s\tremaining: 4.92s\n",
      "169:\tlearn: 0.4004675\ttotal: 1s\tremaining: 4.91s\n",
      "170:\tlearn: 0.3998937\ttotal: 1.01s\tremaining: 4.9s\n",
      "171:\tlearn: 0.3990494\ttotal: 1.02s\tremaining: 4.9s\n",
      "172:\tlearn: 0.3984273\ttotal: 1.02s\tremaining: 4.89s\n",
      "173:\tlearn: 0.3978255\ttotal: 1.03s\tremaining: 4.89s\n",
      "174:\tlearn: 0.3969608\ttotal: 1.04s\tremaining: 4.9s\n",
      "175:\tlearn: 0.3965716\ttotal: 1.04s\tremaining: 4.89s\n",
      "176:\tlearn: 0.3958000\ttotal: 1.05s\tremaining: 4.88s\n",
      "177:\tlearn: 0.3950526\ttotal: 1.05s\tremaining: 4.87s\n",
      "178:\tlearn: 0.3943012\ttotal: 1.06s\tremaining: 4.86s\n",
      "179:\tlearn: 0.3936510\ttotal: 1.06s\tremaining: 4.85s\n",
      "180:\tlearn: 0.3931304\ttotal: 1.07s\tremaining: 4.84s\n",
      "181:\tlearn: 0.3922809\ttotal: 1.08s\tremaining: 4.84s\n",
      "182:\tlearn: 0.3916910\ttotal: 1.08s\tremaining: 4.84s\n",
      "183:\tlearn: 0.3911177\ttotal: 1.09s\tremaining: 4.83s\n",
      "184:\tlearn: 0.3902377\ttotal: 1.09s\tremaining: 4.83s\n",
      "185:\tlearn: 0.3896318\ttotal: 1.1s\tremaining: 4.81s\n",
      "186:\tlearn: 0.3889018\ttotal: 1.1s\tremaining: 4.8s\n",
      "187:\tlearn: 0.3884345\ttotal: 1.11s\tremaining: 4.79s\n",
      "188:\tlearn: 0.3880162\ttotal: 1.11s\tremaining: 4.78s\n",
      "189:\tlearn: 0.3873354\ttotal: 1.13s\tremaining: 4.83s\n",
      "190:\tlearn: 0.3865013\ttotal: 1.14s\tremaining: 4.85s\n",
      "191:\tlearn: 0.3858420\ttotal: 1.15s\tremaining: 4.84s\n",
      "192:\tlearn: 0.3851892\ttotal: 1.16s\tremaining: 4.83s\n",
      "193:\tlearn: 0.3846598\ttotal: 1.16s\tremaining: 4.82s\n",
      "194:\tlearn: 0.3840737\ttotal: 1.17s\tremaining: 4.81s\n",
      "195:\tlearn: 0.3837046\ttotal: 1.2s\tremaining: 4.91s\n",
      "196:\tlearn: 0.3832085\ttotal: 1.2s\tremaining: 4.89s\n",
      "197:\tlearn: 0.3827921\ttotal: 1.21s\tremaining: 4.88s\n",
      "198:\tlearn: 0.3823105\ttotal: 1.21s\tremaining: 4.87s\n",
      "199:\tlearn: 0.3818350\ttotal: 1.22s\tremaining: 4.86s\n",
      "200:\tlearn: 0.3815497\ttotal: 1.22s\tremaining: 4.86s\n",
      "201:\tlearn: 0.3809861\ttotal: 1.23s\tremaining: 4.84s\n",
      "202:\tlearn: 0.3805201\ttotal: 1.23s\tremaining: 4.83s\n",
      "203:\tlearn: 0.3800554\ttotal: 1.24s\tremaining: 4.82s\n",
      "204:\tlearn: 0.3796176\ttotal: 1.24s\tremaining: 4.82s\n",
      "205:\tlearn: 0.3791170\ttotal: 1.25s\tremaining: 4.81s\n",
      "206:\tlearn: 0.3783718\ttotal: 1.25s\tremaining: 4.8s\n",
      "207:\tlearn: 0.3780501\ttotal: 1.26s\tremaining: 4.79s\n",
      "208:\tlearn: 0.3773893\ttotal: 1.26s\tremaining: 4.78s\n",
      "209:\tlearn: 0.3766736\ttotal: 1.27s\tremaining: 4.77s\n",
      "210:\tlearn: 0.3762009\ttotal: 1.27s\tremaining: 4.76s\n",
      "211:\tlearn: 0.3754611\ttotal: 1.28s\tremaining: 4.75s\n",
      "212:\tlearn: 0.3750611\ttotal: 1.28s\tremaining: 4.75s\n",
      "213:\tlearn: 0.3744271\ttotal: 1.29s\tremaining: 4.74s\n",
      "214:\tlearn: 0.3738456\ttotal: 1.3s\tremaining: 4.76s\n",
      "215:\tlearn: 0.3730705\ttotal: 1.32s\tremaining: 4.78s\n",
      "216:\tlearn: 0.3725167\ttotal: 1.33s\tremaining: 4.79s\n",
      "217:\tlearn: 0.3718862\ttotal: 1.33s\tremaining: 4.79s\n",
      "218:\tlearn: 0.3714487\ttotal: 1.34s\tremaining: 4.78s\n",
      "219:\tlearn: 0.3709871\ttotal: 1.34s\tremaining: 4.76s\n",
      "220:\tlearn: 0.3707378\ttotal: 1.35s\tremaining: 4.75s\n",
      "221:\tlearn: 0.3704158\ttotal: 1.35s\tremaining: 4.74s\n",
      "222:\tlearn: 0.3699811\ttotal: 1.36s\tremaining: 4.73s\n",
      "223:\tlearn: 0.3695598\ttotal: 1.36s\tremaining: 4.72s\n",
      "224:\tlearn: 0.3689447\ttotal: 1.37s\tremaining: 4.71s\n",
      "225:\tlearn: 0.3685225\ttotal: 1.37s\tremaining: 4.71s\n",
      "226:\tlearn: 0.3680421\ttotal: 1.38s\tremaining: 4.7s\n",
      "227:\tlearn: 0.3676042\ttotal: 1.38s\tremaining: 4.68s\n",
      "228:\tlearn: 0.3671906\ttotal: 1.39s\tremaining: 4.67s\n",
      "229:\tlearn: 0.3668212\ttotal: 1.39s\tremaining: 4.66s\n",
      "230:\tlearn: 0.3663692\ttotal: 1.4s\tremaining: 4.65s\n",
      "231:\tlearn: 0.3659467\ttotal: 1.4s\tremaining: 4.64s\n",
      "232:\tlearn: 0.3655393\ttotal: 1.41s\tremaining: 4.64s\n",
      "233:\tlearn: 0.3651726\ttotal: 1.41s\tremaining: 4.63s\n",
      "234:\tlearn: 0.3647837\ttotal: 1.42s\tremaining: 4.63s\n",
      "235:\tlearn: 0.3641776\ttotal: 1.43s\tremaining: 4.62s\n",
      "236:\tlearn: 0.3638442\ttotal: 1.44s\tremaining: 4.63s\n",
      "237:\tlearn: 0.3635195\ttotal: 1.44s\tremaining: 4.62s\n",
      "238:\tlearn: 0.3631796\ttotal: 1.45s\tremaining: 4.61s\n",
      "239:\tlearn: 0.3626676\ttotal: 1.45s\tremaining: 4.6s\n",
      "240:\tlearn: 0.3622121\ttotal: 1.46s\tremaining: 4.59s\n",
      "241:\tlearn: 0.3619048\ttotal: 1.46s\tremaining: 4.58s\n",
      "242:\tlearn: 0.3615063\ttotal: 1.47s\tremaining: 4.57s\n",
      "243:\tlearn: 0.3612841\ttotal: 1.47s\tremaining: 4.56s\n",
      "244:\tlearn: 0.3609073\ttotal: 1.48s\tremaining: 4.55s\n",
      "245:\tlearn: 0.3604078\ttotal: 1.48s\tremaining: 4.54s\n",
      "246:\tlearn: 0.3599520\ttotal: 1.49s\tremaining: 4.53s\n",
      "247:\tlearn: 0.3595811\ttotal: 1.49s\tremaining: 4.52s\n",
      "248:\tlearn: 0.3591317\ttotal: 1.5s\tremaining: 4.51s\n",
      "249:\tlearn: 0.3588479\ttotal: 1.5s\tremaining: 4.51s\n",
      "250:\tlearn: 0.3583543\ttotal: 1.51s\tremaining: 4.5s\n",
      "251:\tlearn: 0.3581791\ttotal: 1.51s\tremaining: 4.49s\n",
      "252:\tlearn: 0.3578163\ttotal: 1.52s\tremaining: 4.48s\n",
      "253:\tlearn: 0.3575379\ttotal: 1.52s\tremaining: 4.47s\n",
      "254:\tlearn: 0.3572027\ttotal: 1.53s\tremaining: 4.46s\n",
      "255:\tlearn: 0.3567982\ttotal: 1.53s\tremaining: 4.45s\n",
      "256:\tlearn: 0.3562229\ttotal: 1.54s\tremaining: 4.45s\n",
      "257:\tlearn: 0.3558689\ttotal: 1.54s\tremaining: 4.45s\n",
      "258:\tlearn: 0.3551774\ttotal: 1.56s\tremaining: 4.47s\n",
      "259:\tlearn: 0.3548640\ttotal: 1.57s\tremaining: 4.48s\n",
      "260:\tlearn: 0.3544581\ttotal: 1.58s\tremaining: 4.47s\n",
      "261:\tlearn: 0.3540613\ttotal: 1.59s\tremaining: 4.47s\n",
      "262:\tlearn: 0.3538128\ttotal: 1.59s\tremaining: 4.46s\n",
      "263:\tlearn: 0.3532543\ttotal: 1.59s\tremaining: 4.45s\n",
      "264:\tlearn: 0.3528296\ttotal: 1.6s\tremaining: 4.44s\n",
      "265:\tlearn: 0.3524755\ttotal: 1.61s\tremaining: 4.43s\n",
      "266:\tlearn: 0.3521389\ttotal: 1.61s\tremaining: 4.43s\n",
      "267:\tlearn: 0.3518051\ttotal: 1.62s\tremaining: 4.42s\n",
      "268:\tlearn: 0.3513371\ttotal: 1.62s\tremaining: 4.42s\n",
      "269:\tlearn: 0.3509465\ttotal: 1.63s\tremaining: 4.41s\n",
      "270:\tlearn: 0.3506477\ttotal: 1.64s\tremaining: 4.4s\n",
      "271:\tlearn: 0.3502686\ttotal: 1.64s\tremaining: 4.4s\n",
      "272:\tlearn: 0.3499996\ttotal: 1.65s\tremaining: 4.39s\n",
      "273:\tlearn: 0.3494654\ttotal: 1.65s\tremaining: 4.38s\n",
      "274:\tlearn: 0.3490672\ttotal: 1.66s\tremaining: 4.37s\n",
      "275:\tlearn: 0.3487140\ttotal: 1.66s\tremaining: 4.37s\n",
      "276:\tlearn: 0.3483148\ttotal: 1.67s\tremaining: 4.36s\n",
      "277:\tlearn: 0.3479376\ttotal: 1.67s\tremaining: 4.35s\n",
      "278:\tlearn: 0.3476559\ttotal: 1.68s\tremaining: 4.34s\n",
      "279:\tlearn: 0.3475056\ttotal: 1.68s\tremaining: 4.32s\n",
      "280:\tlearn: 0.3470299\ttotal: 1.69s\tremaining: 4.31s\n",
      "281:\tlearn: 0.3465974\ttotal: 1.69s\tremaining: 4.31s\n",
      "282:\tlearn: 0.3457104\ttotal: 1.7s\tremaining: 4.31s\n",
      "283:\tlearn: 0.3453699\ttotal: 1.7s\tremaining: 4.3s\n",
      "284:\tlearn: 0.3449194\ttotal: 1.71s\tremaining: 4.29s\n",
      "285:\tlearn: 0.3445781\ttotal: 1.72s\tremaining: 4.29s\n",
      "286:\tlearn: 0.3442549\ttotal: 1.72s\tremaining: 4.28s\n",
      "287:\tlearn: 0.3436732\ttotal: 1.73s\tremaining: 4.28s\n",
      "288:\tlearn: 0.3431971\ttotal: 1.74s\tremaining: 4.27s\n",
      "289:\tlearn: 0.3430385\ttotal: 1.74s\tremaining: 4.26s\n",
      "290:\tlearn: 0.3426125\ttotal: 1.75s\tremaining: 4.25s\n",
      "291:\tlearn: 0.3423901\ttotal: 1.75s\tremaining: 4.25s\n",
      "292:\tlearn: 0.3418502\ttotal: 1.76s\tremaining: 4.24s\n",
      "293:\tlearn: 0.3413629\ttotal: 1.76s\tremaining: 4.24s\n",
      "294:\tlearn: 0.3410155\ttotal: 1.77s\tremaining: 4.23s\n",
      "295:\tlearn: 0.3406270\ttotal: 1.77s\tremaining: 4.22s\n",
      "296:\tlearn: 0.3403616\ttotal: 1.78s\tremaining: 4.21s\n",
      "297:\tlearn: 0.3400305\ttotal: 1.78s\tremaining: 4.21s\n",
      "298:\tlearn: 0.3397938\ttotal: 1.79s\tremaining: 4.2s\n",
      "299:\tlearn: 0.3395162\ttotal: 1.8s\tremaining: 4.19s\n",
      "300:\tlearn: 0.3391135\ttotal: 1.8s\tremaining: 4.18s\n",
      "301:\tlearn: 0.3387590\ttotal: 1.81s\tremaining: 4.18s\n",
      "302:\tlearn: 0.3383585\ttotal: 1.81s\tremaining: 4.17s\n",
      "303:\tlearn: 0.3379814\ttotal: 1.82s\tremaining: 4.17s\n",
      "304:\tlearn: 0.3375277\ttotal: 1.82s\tremaining: 4.16s\n",
      "305:\tlearn: 0.3372477\ttotal: 1.83s\tremaining: 4.16s\n",
      "306:\tlearn: 0.3369210\ttotal: 1.84s\tremaining: 4.15s\n",
      "307:\tlearn: 0.3367762\ttotal: 1.84s\tremaining: 4.14s\n",
      "308:\tlearn: 0.3363929\ttotal: 1.85s\tremaining: 4.13s\n",
      "309:\tlearn: 0.3361404\ttotal: 1.85s\tremaining: 4.13s\n",
      "310:\tlearn: 0.3358016\ttotal: 1.86s\tremaining: 4.13s\n",
      "311:\tlearn: 0.3354371\ttotal: 1.87s\tremaining: 4.12s\n",
      "312:\tlearn: 0.3351281\ttotal: 1.88s\tremaining: 4.12s\n",
      "313:\tlearn: 0.3349342\ttotal: 1.89s\tremaining: 4.12s\n",
      "314:\tlearn: 0.3345681\ttotal: 1.89s\tremaining: 4.12s\n",
      "315:\tlearn: 0.3341835\ttotal: 1.9s\tremaining: 4.11s\n",
      "316:\tlearn: 0.3339848\ttotal: 1.9s\tremaining: 4.1s\n",
      "317:\tlearn: 0.3334631\ttotal: 1.91s\tremaining: 4.09s\n",
      "318:\tlearn: 0.3333090\ttotal: 1.91s\tremaining: 4.08s\n",
      "319:\tlearn: 0.3331853\ttotal: 1.92s\tremaining: 4.07s\n",
      "320:\tlearn: 0.3329144\ttotal: 1.92s\tremaining: 4.07s\n",
      "321:\tlearn: 0.3325655\ttotal: 1.93s\tremaining: 4.06s\n",
      "322:\tlearn: 0.3323911\ttotal: 1.93s\tremaining: 4.05s\n",
      "323:\tlearn: 0.3321008\ttotal: 1.94s\tremaining: 4.04s\n",
      "324:\tlearn: 0.3318429\ttotal: 1.94s\tremaining: 4.03s\n",
      "325:\tlearn: 0.3313364\ttotal: 1.95s\tremaining: 4.02s\n",
      "326:\tlearn: 0.3311141\ttotal: 1.95s\tremaining: 4.02s\n",
      "327:\tlearn: 0.3306946\ttotal: 1.96s\tremaining: 4.01s\n",
      "328:\tlearn: 0.3303195\ttotal: 1.97s\tremaining: 4.01s\n",
      "329:\tlearn: 0.3299492\ttotal: 1.97s\tremaining: 4s\n",
      "330:\tlearn: 0.3296295\ttotal: 1.98s\tremaining: 4s\n",
      "331:\tlearn: 0.3292299\ttotal: 1.98s\tremaining: 3.99s\n",
      "332:\tlearn: 0.3288012\ttotal: 1.99s\tremaining: 3.99s\n",
      "333:\tlearn: 0.3284230\ttotal: 2s\tremaining: 3.98s\n",
      "334:\tlearn: 0.3281356\ttotal: 2s\tremaining: 3.97s\n",
      "335:\tlearn: 0.3278105\ttotal: 2s\tremaining: 3.96s\n",
      "336:\tlearn: 0.3275766\ttotal: 2.01s\tremaining: 3.95s\n",
      "337:\tlearn: 0.3272361\ttotal: 2.01s\tremaining: 3.94s\n",
      "338:\tlearn: 0.3271448\ttotal: 2.02s\tremaining: 3.94s\n",
      "339:\tlearn: 0.3270027\ttotal: 2.03s\tremaining: 3.94s\n",
      "340:\tlearn: 0.3264515\ttotal: 2.03s\tremaining: 3.93s\n",
      "341:\tlearn: 0.3261568\ttotal: 2.04s\tremaining: 3.93s\n",
      "342:\tlearn: 0.3259076\ttotal: 2.05s\tremaining: 3.94s\n",
      "343:\tlearn: 0.3257816\ttotal: 2.06s\tremaining: 3.94s\n",
      "344:\tlearn: 0.3253372\ttotal: 2.07s\tremaining: 3.93s\n",
      "345:\tlearn: 0.3249546\ttotal: 2.08s\tremaining: 3.92s\n",
      "346:\tlearn: 0.3247155\ttotal: 2.08s\tremaining: 3.91s\n",
      "347:\tlearn: 0.3242784\ttotal: 2.09s\tremaining: 3.91s\n",
      "348:\tlearn: 0.3240593\ttotal: 2.09s\tremaining: 3.9s\n",
      "349:\tlearn: 0.3236125\ttotal: 2.1s\tremaining: 3.89s\n",
      "350:\tlearn: 0.3233139\ttotal: 2.1s\tremaining: 3.88s\n",
      "351:\tlearn: 0.3230584\ttotal: 2.1s\tremaining: 3.87s\n",
      "352:\tlearn: 0.3227589\ttotal: 2.11s\tremaining: 3.86s\n",
      "353:\tlearn: 0.3226484\ttotal: 2.11s\tremaining: 3.86s\n",
      "354:\tlearn: 0.3224708\ttotal: 2.12s\tremaining: 3.85s\n",
      "355:\tlearn: 0.3222481\ttotal: 2.12s\tremaining: 3.84s\n",
      "356:\tlearn: 0.3220751\ttotal: 2.13s\tremaining: 3.83s\n",
      "357:\tlearn: 0.3217743\ttotal: 2.13s\tremaining: 3.82s\n",
      "358:\tlearn: 0.3215696\ttotal: 2.13s\tremaining: 3.81s\n",
      "359:\tlearn: 0.3213855\ttotal: 2.14s\tremaining: 3.8s\n",
      "360:\tlearn: 0.3210040\ttotal: 2.14s\tremaining: 3.8s\n",
      "361:\tlearn: 0.3206377\ttotal: 2.15s\tremaining: 3.79s\n",
      "362:\tlearn: 0.3203844\ttotal: 2.16s\tremaining: 3.79s\n",
      "363:\tlearn: 0.3199615\ttotal: 2.16s\tremaining: 3.78s\n",
      "364:\tlearn: 0.3196000\ttotal: 2.17s\tremaining: 3.77s\n",
      "365:\tlearn: 0.3192366\ttotal: 2.17s\tremaining: 3.76s\n",
      "366:\tlearn: 0.3189433\ttotal: 2.18s\tremaining: 3.76s\n",
      "367:\tlearn: 0.3187596\ttotal: 2.18s\tremaining: 3.75s\n",
      "368:\tlearn: 0.3183334\ttotal: 2.19s\tremaining: 3.74s\n",
      "369:\tlearn: 0.3181075\ttotal: 2.2s\tremaining: 3.74s\n",
      "370:\tlearn: 0.3179868\ttotal: 2.2s\tremaining: 3.73s\n",
      "371:\tlearn: 0.3177287\ttotal: 2.21s\tremaining: 3.72s\n",
      "372:\tlearn: 0.3174213\ttotal: 2.21s\tremaining: 3.72s\n",
      "373:\tlearn: 0.3173105\ttotal: 2.21s\tremaining: 3.71s\n",
      "374:\tlearn: 0.3169930\ttotal: 2.22s\tremaining: 3.7s\n",
      "375:\tlearn: 0.3167770\ttotal: 2.22s\tremaining: 3.69s\n",
      "376:\tlearn: 0.3164586\ttotal: 2.23s\tremaining: 3.69s\n",
      "377:\tlearn: 0.3162964\ttotal: 2.23s\tremaining: 3.68s\n",
      "378:\tlearn: 0.3157005\ttotal: 2.24s\tremaining: 3.67s\n",
      "379:\tlearn: 0.3154507\ttotal: 2.24s\tremaining: 3.66s\n",
      "380:\tlearn: 0.3150930\ttotal: 2.25s\tremaining: 3.65s\n",
      "381:\tlearn: 0.3147706\ttotal: 2.25s\tremaining: 3.65s\n",
      "382:\tlearn: 0.3143755\ttotal: 2.26s\tremaining: 3.64s\n",
      "383:\tlearn: 0.3139819\ttotal: 2.27s\tremaining: 3.63s\n",
      "384:\tlearn: 0.3136702\ttotal: 2.27s\tremaining: 3.63s\n",
      "385:\tlearn: 0.3134343\ttotal: 2.27s\tremaining: 3.62s\n",
      "386:\tlearn: 0.3133741\ttotal: 2.28s\tremaining: 3.61s\n",
      "387:\tlearn: 0.3130709\ttotal: 2.28s\tremaining: 3.6s\n",
      "388:\tlearn: 0.3128360\ttotal: 2.29s\tremaining: 3.59s\n",
      "389:\tlearn: 0.3124279\ttotal: 2.29s\tremaining: 3.59s\n",
      "390:\tlearn: 0.3121571\ttotal: 2.3s\tremaining: 3.58s\n",
      "391:\tlearn: 0.3118727\ttotal: 2.3s\tremaining: 3.57s\n",
      "392:\tlearn: 0.3117433\ttotal: 2.31s\tremaining: 3.56s\n",
      "393:\tlearn: 0.3113093\ttotal: 2.31s\tremaining: 3.56s\n",
      "394:\tlearn: 0.3111498\ttotal: 2.32s\tremaining: 3.55s\n",
      "395:\tlearn: 0.3108884\ttotal: 2.33s\tremaining: 3.55s\n",
      "396:\tlearn: 0.3106935\ttotal: 2.33s\tremaining: 3.54s\n",
      "397:\tlearn: 0.3104544\ttotal: 2.34s\tremaining: 3.54s\n",
      "398:\tlearn: 0.3100203\ttotal: 2.34s\tremaining: 3.53s\n",
      "399:\tlearn: 0.3097922\ttotal: 2.35s\tremaining: 3.52s\n",
      "400:\tlearn: 0.3093006\ttotal: 2.35s\tremaining: 3.52s\n",
      "401:\tlearn: 0.3090082\ttotal: 2.36s\tremaining: 3.51s\n",
      "402:\tlearn: 0.3086350\ttotal: 2.36s\tremaining: 3.5s\n",
      "403:\tlearn: 0.3085525\ttotal: 2.37s\tremaining: 3.49s\n",
      "404:\tlearn: 0.3082926\ttotal: 2.37s\tremaining: 3.48s\n",
      "405:\tlearn: 0.3079534\ttotal: 2.38s\tremaining: 3.48s\n",
      "406:\tlearn: 0.3077615\ttotal: 2.38s\tremaining: 3.47s\n",
      "407:\tlearn: 0.3076204\ttotal: 2.38s\tremaining: 3.46s\n",
      "408:\tlearn: 0.3073705\ttotal: 2.39s\tremaining: 3.45s\n",
      "409:\tlearn: 0.3072051\ttotal: 2.4s\tremaining: 3.45s\n",
      "410:\tlearn: 0.3069296\ttotal: 2.4s\tremaining: 3.44s\n",
      "411:\tlearn: 0.3067305\ttotal: 2.4s\tremaining: 3.43s\n",
      "412:\tlearn: 0.3064667\ttotal: 2.41s\tremaining: 3.43s\n",
      "413:\tlearn: 0.3062177\ttotal: 2.42s\tremaining: 3.42s\n",
      "414:\tlearn: 0.3059366\ttotal: 2.42s\tremaining: 3.41s\n",
      "415:\tlearn: 0.3057826\ttotal: 2.42s\tremaining: 3.4s\n",
      "416:\tlearn: 0.3053670\ttotal: 2.43s\tremaining: 3.4s\n",
      "417:\tlearn: 0.3052102\ttotal: 2.43s\tremaining: 3.39s\n",
      "418:\tlearn: 0.3048241\ttotal: 2.44s\tremaining: 3.38s\n",
      "419:\tlearn: 0.3043941\ttotal: 2.45s\tremaining: 3.38s\n",
      "420:\tlearn: 0.3042906\ttotal: 2.46s\tremaining: 3.38s\n",
      "421:\tlearn: 0.3042106\ttotal: 2.46s\tremaining: 3.38s\n",
      "422:\tlearn: 0.3039127\ttotal: 2.48s\tremaining: 3.38s\n",
      "423:\tlearn: 0.3036822\ttotal: 2.48s\tremaining: 3.37s\n",
      "424:\tlearn: 0.3032348\ttotal: 2.49s\tremaining: 3.36s\n",
      "425:\tlearn: 0.3030739\ttotal: 2.49s\tremaining: 3.36s\n",
      "426:\tlearn: 0.3027756\ttotal: 2.5s\tremaining: 3.35s\n",
      "427:\tlearn: 0.3025508\ttotal: 2.5s\tremaining: 3.34s\n",
      "428:\tlearn: 0.3022920\ttotal: 2.5s\tremaining: 3.33s\n",
      "429:\tlearn: 0.3020336\ttotal: 2.51s\tremaining: 3.33s\n",
      "430:\tlearn: 0.3018311\ttotal: 2.52s\tremaining: 3.32s\n",
      "431:\tlearn: 0.3016490\ttotal: 2.52s\tremaining: 3.31s\n",
      "432:\tlearn: 0.3014655\ttotal: 2.52s\tremaining: 3.3s\n",
      "433:\tlearn: 0.3011402\ttotal: 2.53s\tremaining: 3.3s\n",
      "434:\tlearn: 0.3008430\ttotal: 2.53s\tremaining: 3.29s\n",
      "435:\tlearn: 0.3005948\ttotal: 2.54s\tremaining: 3.28s\n",
      "436:\tlearn: 0.3003246\ttotal: 2.54s\tremaining: 3.27s\n",
      "437:\tlearn: 0.2998332\ttotal: 2.55s\tremaining: 3.27s\n",
      "438:\tlearn: 0.2995628\ttotal: 2.55s\tremaining: 3.26s\n",
      "439:\tlearn: 0.2993476\ttotal: 2.55s\tremaining: 3.25s\n",
      "440:\tlearn: 0.2992118\ttotal: 2.56s\tremaining: 3.24s\n",
      "441:\tlearn: 0.2989786\ttotal: 2.56s\tremaining: 3.24s\n",
      "442:\tlearn: 0.2987332\ttotal: 2.57s\tremaining: 3.23s\n",
      "443:\tlearn: 0.2983521\ttotal: 2.57s\tremaining: 3.22s\n",
      "444:\tlearn: 0.2981144\ttotal: 2.58s\tremaining: 3.21s\n",
      "445:\tlearn: 0.2979409\ttotal: 2.58s\tremaining: 3.21s\n",
      "446:\tlearn: 0.2976007\ttotal: 2.58s\tremaining: 3.2s\n",
      "447:\tlearn: 0.2974376\ttotal: 2.59s\tremaining: 3.19s\n",
      "448:\tlearn: 0.2971482\ttotal: 2.59s\tremaining: 3.18s\n",
      "449:\tlearn: 0.2970532\ttotal: 2.6s\tremaining: 3.17s\n",
      "450:\tlearn: 0.2968756\ttotal: 2.6s\tremaining: 3.17s\n",
      "451:\tlearn: 0.2966521\ttotal: 2.61s\tremaining: 3.16s\n",
      "452:\tlearn: 0.2963392\ttotal: 2.61s\tremaining: 3.15s\n",
      "453:\tlearn: 0.2962526\ttotal: 2.62s\tremaining: 3.15s\n",
      "454:\tlearn: 0.2959383\ttotal: 2.62s\tremaining: 3.14s\n",
      "455:\tlearn: 0.2957414\ttotal: 2.62s\tremaining: 3.13s\n",
      "456:\tlearn: 0.2954628\ttotal: 2.63s\tremaining: 3.12s\n",
      "457:\tlearn: 0.2951344\ttotal: 2.63s\tremaining: 3.12s\n",
      "458:\tlearn: 0.2949065\ttotal: 2.64s\tremaining: 3.11s\n",
      "459:\tlearn: 0.2948312\ttotal: 2.65s\tremaining: 3.1s\n",
      "460:\tlearn: 0.2946606\ttotal: 2.65s\tremaining: 3.1s\n",
      "461:\tlearn: 0.2944450\ttotal: 2.66s\tremaining: 3.1s\n",
      "462:\tlearn: 0.2942192\ttotal: 2.66s\tremaining: 3.09s\n",
      "463:\tlearn: 0.2940629\ttotal: 2.67s\tremaining: 3.08s\n",
      "464:\tlearn: 0.2936862\ttotal: 2.67s\tremaining: 3.07s\n",
      "465:\tlearn: 0.2934564\ttotal: 2.68s\tremaining: 3.07s\n",
      "466:\tlearn: 0.2931260\ttotal: 2.68s\tremaining: 3.06s\n",
      "467:\tlearn: 0.2927964\ttotal: 2.69s\tremaining: 3.05s\n",
      "468:\tlearn: 0.2926018\ttotal: 2.69s\tremaining: 3.04s\n",
      "469:\tlearn: 0.2923854\ttotal: 2.69s\tremaining: 3.04s\n",
      "470:\tlearn: 0.2921834\ttotal: 2.7s\tremaining: 3.03s\n",
      "471:\tlearn: 0.2919782\ttotal: 2.7s\tremaining: 3.02s\n",
      "472:\tlearn: 0.2917113\ttotal: 2.71s\tremaining: 3.02s\n",
      "473:\tlearn: 0.2912696\ttotal: 2.71s\tremaining: 3.01s\n",
      "474:\tlearn: 0.2910249\ttotal: 2.72s\tremaining: 3s\n",
      "475:\tlearn: 0.2907673\ttotal: 2.72s\tremaining: 3s\n",
      "476:\tlearn: 0.2904237\ttotal: 2.73s\tremaining: 2.99s\n",
      "477:\tlearn: 0.2902551\ttotal: 2.73s\tremaining: 2.98s\n",
      "478:\tlearn: 0.2899177\ttotal: 2.74s\tremaining: 2.98s\n",
      "479:\tlearn: 0.2897175\ttotal: 2.74s\tremaining: 2.97s\n",
      "480:\tlearn: 0.2896110\ttotal: 2.75s\tremaining: 2.97s\n",
      "481:\tlearn: 0.2892980\ttotal: 2.76s\tremaining: 2.96s\n",
      "482:\tlearn: 0.2889870\ttotal: 2.76s\tremaining: 2.96s\n",
      "483:\tlearn: 0.2887236\ttotal: 2.77s\tremaining: 2.95s\n",
      "484:\tlearn: 0.2885040\ttotal: 2.78s\tremaining: 2.95s\n",
      "485:\tlearn: 0.2881886\ttotal: 2.78s\tremaining: 2.94s\n",
      "486:\tlearn: 0.2880321\ttotal: 2.79s\tremaining: 2.93s\n",
      "487:\tlearn: 0.2877498\ttotal: 2.79s\tremaining: 2.93s\n",
      "488:\tlearn: 0.2874975\ttotal: 2.79s\tremaining: 2.92s\n",
      "489:\tlearn: 0.2870005\ttotal: 2.8s\tremaining: 2.91s\n",
      "490:\tlearn: 0.2867773\ttotal: 2.8s\tremaining: 2.9s\n",
      "491:\tlearn: 0.2866602\ttotal: 2.81s\tremaining: 2.9s\n",
      "492:\tlearn: 0.2864573\ttotal: 2.81s\tremaining: 2.89s\n",
      "493:\tlearn: 0.2862369\ttotal: 2.82s\tremaining: 2.88s\n",
      "494:\tlearn: 0.2860048\ttotal: 2.82s\tremaining: 2.88s\n",
      "495:\tlearn: 0.2858847\ttotal: 2.83s\tremaining: 2.87s\n",
      "496:\tlearn: 0.2856706\ttotal: 2.83s\tremaining: 2.86s\n",
      "497:\tlearn: 0.2853657\ttotal: 2.83s\tremaining: 2.86s\n",
      "498:\tlearn: 0.2851930\ttotal: 2.84s\tremaining: 2.85s\n",
      "499:\tlearn: 0.2848883\ttotal: 2.84s\tremaining: 2.84s\n",
      "500:\tlearn: 0.2847668\ttotal: 2.85s\tremaining: 2.84s\n",
      "501:\tlearn: 0.2846362\ttotal: 2.85s\tremaining: 2.83s\n",
      "502:\tlearn: 0.2843093\ttotal: 2.86s\tremaining: 2.82s\n",
      "503:\tlearn: 0.2841273\ttotal: 2.86s\tremaining: 2.81s\n",
      "504:\tlearn: 0.2839508\ttotal: 2.87s\tremaining: 2.81s\n",
      "505:\tlearn: 0.2838791\ttotal: 2.87s\tremaining: 2.8s\n",
      "506:\tlearn: 0.2835382\ttotal: 2.88s\tremaining: 2.79s\n",
      "507:\tlearn: 0.2832336\ttotal: 2.88s\tremaining: 2.79s\n",
      "508:\tlearn: 0.2830058\ttotal: 2.88s\tremaining: 2.78s\n",
      "509:\tlearn: 0.2828549\ttotal: 2.89s\tremaining: 2.78s\n",
      "510:\tlearn: 0.2826536\ttotal: 2.9s\tremaining: 2.77s\n",
      "511:\tlearn: 0.2821348\ttotal: 2.9s\tremaining: 2.76s\n",
      "512:\tlearn: 0.2817643\ttotal: 2.9s\tremaining: 2.76s\n",
      "513:\tlearn: 0.2817056\ttotal: 2.91s\tremaining: 2.75s\n",
      "514:\tlearn: 0.2815301\ttotal: 2.91s\tremaining: 2.74s\n",
      "515:\tlearn: 0.2812127\ttotal: 2.92s\tremaining: 2.73s\n",
      "516:\tlearn: 0.2811157\ttotal: 2.92s\tremaining: 2.73s\n",
      "517:\tlearn: 0.2810220\ttotal: 2.92s\tremaining: 2.72s\n",
      "518:\tlearn: 0.2808123\ttotal: 2.93s\tremaining: 2.71s\n",
      "519:\tlearn: 0.2804794\ttotal: 2.93s\tremaining: 2.71s\n",
      "520:\tlearn: 0.2802338\ttotal: 2.94s\tremaining: 2.7s\n",
      "521:\tlearn: 0.2800138\ttotal: 2.94s\tremaining: 2.69s\n",
      "522:\tlearn: 0.2798458\ttotal: 2.94s\tremaining: 2.69s\n",
      "523:\tlearn: 0.2795009\ttotal: 2.95s\tremaining: 2.68s\n",
      "524:\tlearn: 0.2792134\ttotal: 2.95s\tremaining: 2.67s\n",
      "525:\tlearn: 0.2789277\ttotal: 2.96s\tremaining: 2.67s\n",
      "526:\tlearn: 0.2787092\ttotal: 2.96s\tremaining: 2.66s\n",
      "527:\tlearn: 0.2785171\ttotal: 2.97s\tremaining: 2.65s\n",
      "528:\tlearn: 0.2782431\ttotal: 2.97s\tremaining: 2.65s\n",
      "529:\tlearn: 0.2780792\ttotal: 2.98s\tremaining: 2.64s\n",
      "530:\tlearn: 0.2778468\ttotal: 2.98s\tremaining: 2.63s\n",
      "531:\tlearn: 0.2776214\ttotal: 2.98s\tremaining: 2.63s\n",
      "532:\tlearn: 0.2775225\ttotal: 2.99s\tremaining: 2.62s\n",
      "533:\tlearn: 0.2772761\ttotal: 2.99s\tremaining: 2.61s\n",
      "534:\tlearn: 0.2770526\ttotal: 3s\tremaining: 2.61s\n",
      "535:\tlearn: 0.2768688\ttotal: 3s\tremaining: 2.6s\n",
      "536:\tlearn: 0.2767198\ttotal: 3.01s\tremaining: 2.6s\n",
      "537:\tlearn: 0.2763635\ttotal: 3.02s\tremaining: 2.59s\n",
      "538:\tlearn: 0.2761839\ttotal: 3.02s\tremaining: 2.58s\n",
      "539:\tlearn: 0.2760329\ttotal: 3.03s\tremaining: 2.58s\n",
      "540:\tlearn: 0.2758814\ttotal: 3.03s\tremaining: 2.57s\n",
      "541:\tlearn: 0.2756554\ttotal: 3.04s\tremaining: 2.57s\n",
      "542:\tlearn: 0.2753469\ttotal: 3.04s\tremaining: 2.56s\n",
      "543:\tlearn: 0.2751437\ttotal: 3.05s\tremaining: 2.55s\n",
      "544:\tlearn: 0.2749836\ttotal: 3.05s\tremaining: 2.55s\n",
      "545:\tlearn: 0.2748715\ttotal: 3.06s\tremaining: 2.54s\n",
      "546:\tlearn: 0.2748156\ttotal: 3.06s\tremaining: 2.54s\n",
      "547:\tlearn: 0.2746396\ttotal: 3.07s\tremaining: 2.53s\n",
      "548:\tlearn: 0.2742751\ttotal: 3.07s\tremaining: 2.52s\n",
      "549:\tlearn: 0.2740222\ttotal: 3.08s\tremaining: 2.52s\n",
      "550:\tlearn: 0.2737643\ttotal: 3.08s\tremaining: 2.51s\n",
      "551:\tlearn: 0.2735570\ttotal: 3.08s\tremaining: 2.5s\n",
      "552:\tlearn: 0.2732473\ttotal: 3.09s\tremaining: 2.5s\n",
      "553:\tlearn: 0.2730397\ttotal: 3.1s\tremaining: 2.49s\n",
      "554:\tlearn: 0.2726986\ttotal: 3.1s\tremaining: 2.49s\n",
      "555:\tlearn: 0.2726207\ttotal: 3.1s\tremaining: 2.48s\n",
      "556:\tlearn: 0.2724192\ttotal: 3.11s\tremaining: 2.47s\n",
      "557:\tlearn: 0.2722507\ttotal: 3.12s\tremaining: 2.47s\n",
      "558:\tlearn: 0.2718974\ttotal: 3.12s\tremaining: 2.46s\n",
      "559:\tlearn: 0.2717007\ttotal: 3.13s\tremaining: 2.46s\n",
      "560:\tlearn: 0.2714049\ttotal: 3.13s\tremaining: 2.45s\n",
      "561:\tlearn: 0.2712418\ttotal: 3.13s\tremaining: 2.44s\n",
      "562:\tlearn: 0.2709507\ttotal: 3.14s\tremaining: 2.44s\n",
      "563:\tlearn: 0.2707628\ttotal: 3.14s\tremaining: 2.43s\n",
      "564:\tlearn: 0.2705255\ttotal: 3.15s\tremaining: 2.42s\n",
      "565:\tlearn: 0.2703786\ttotal: 3.15s\tremaining: 2.42s\n",
      "566:\tlearn: 0.2702270\ttotal: 3.15s\tremaining: 2.41s\n",
      "567:\tlearn: 0.2699564\ttotal: 3.16s\tremaining: 2.4s\n",
      "568:\tlearn: 0.2697149\ttotal: 3.16s\tremaining: 2.4s\n",
      "569:\tlearn: 0.2695101\ttotal: 3.17s\tremaining: 2.39s\n",
      "570:\tlearn: 0.2693226\ttotal: 3.17s\tremaining: 2.38s\n",
      "571:\tlearn: 0.2692401\ttotal: 3.18s\tremaining: 2.38s\n",
      "572:\tlearn: 0.2690312\ttotal: 3.18s\tremaining: 2.37s\n",
      "573:\tlearn: 0.2688283\ttotal: 3.19s\tremaining: 2.36s\n",
      "574:\tlearn: 0.2685991\ttotal: 3.19s\tremaining: 2.36s\n",
      "575:\tlearn: 0.2684519\ttotal: 3.2s\tremaining: 2.35s\n",
      "576:\tlearn: 0.2681852\ttotal: 3.2s\tremaining: 2.35s\n",
      "577:\tlearn: 0.2679966\ttotal: 3.21s\tremaining: 2.34s\n",
      "578:\tlearn: 0.2678214\ttotal: 3.21s\tremaining: 2.33s\n",
      "579:\tlearn: 0.2675508\ttotal: 3.21s\tremaining: 2.33s\n",
      "580:\tlearn: 0.2672992\ttotal: 3.22s\tremaining: 2.32s\n",
      "581:\tlearn: 0.2671163\ttotal: 3.22s\tremaining: 2.31s\n",
      "582:\tlearn: 0.2669239\ttotal: 3.23s\tremaining: 2.31s\n",
      "583:\tlearn: 0.2667451\ttotal: 3.23s\tremaining: 2.3s\n",
      "584:\tlearn: 0.2665639\ttotal: 3.24s\tremaining: 2.29s\n",
      "585:\tlearn: 0.2662928\ttotal: 3.24s\tremaining: 2.29s\n",
      "586:\tlearn: 0.2659768\ttotal: 3.24s\tremaining: 2.28s\n",
      "587:\tlearn: 0.2657706\ttotal: 3.25s\tremaining: 2.28s\n",
      "588:\tlearn: 0.2656701\ttotal: 3.25s\tremaining: 2.27s\n",
      "589:\tlearn: 0.2653913\ttotal: 3.26s\tremaining: 2.26s\n",
      "590:\tlearn: 0.2652461\ttotal: 3.26s\tremaining: 2.26s\n",
      "591:\tlearn: 0.2650850\ttotal: 3.27s\tremaining: 2.25s\n",
      "592:\tlearn: 0.2649887\ttotal: 3.28s\tremaining: 2.25s\n",
      "593:\tlearn: 0.2649084\ttotal: 3.28s\tremaining: 2.24s\n",
      "594:\tlearn: 0.2647971\ttotal: 3.29s\tremaining: 2.24s\n",
      "595:\tlearn: 0.2646760\ttotal: 3.29s\tremaining: 2.23s\n",
      "596:\tlearn: 0.2643129\ttotal: 3.3s\tremaining: 2.23s\n",
      "597:\tlearn: 0.2641118\ttotal: 3.3s\tremaining: 2.22s\n",
      "598:\tlearn: 0.2638480\ttotal: 3.31s\tremaining: 2.21s\n",
      "599:\tlearn: 0.2636756\ttotal: 3.31s\tremaining: 2.21s\n",
      "600:\tlearn: 0.2634917\ttotal: 3.32s\tremaining: 2.2s\n",
      "601:\tlearn: 0.2632788\ttotal: 3.32s\tremaining: 2.2s\n",
      "602:\tlearn: 0.2630358\ttotal: 3.33s\tremaining: 2.19s\n",
      "603:\tlearn: 0.2627907\ttotal: 3.33s\tremaining: 2.18s\n",
      "604:\tlearn: 0.2626487\ttotal: 3.34s\tremaining: 2.18s\n",
      "605:\tlearn: 0.2623086\ttotal: 3.34s\tremaining: 2.17s\n",
      "606:\tlearn: 0.2622148\ttotal: 3.35s\tremaining: 2.17s\n",
      "607:\tlearn: 0.2619977\ttotal: 3.36s\tremaining: 2.16s\n",
      "608:\tlearn: 0.2618683\ttotal: 3.36s\tremaining: 2.16s\n",
      "609:\tlearn: 0.2617262\ttotal: 3.37s\tremaining: 2.15s\n",
      "610:\tlearn: 0.2614272\ttotal: 3.37s\tremaining: 2.15s\n",
      "611:\tlearn: 0.2612679\ttotal: 3.38s\tremaining: 2.14s\n",
      "612:\tlearn: 0.2610038\ttotal: 3.38s\tremaining: 2.14s\n",
      "613:\tlearn: 0.2607667\ttotal: 3.39s\tremaining: 2.13s\n",
      "614:\tlearn: 0.2605145\ttotal: 3.39s\tremaining: 2.12s\n",
      "615:\tlearn: 0.2602892\ttotal: 3.4s\tremaining: 2.12s\n",
      "616:\tlearn: 0.2599984\ttotal: 3.4s\tremaining: 2.11s\n",
      "617:\tlearn: 0.2598193\ttotal: 3.41s\tremaining: 2.11s\n",
      "618:\tlearn: 0.2596203\ttotal: 3.41s\tremaining: 2.1s\n",
      "619:\tlearn: 0.2594357\ttotal: 3.42s\tremaining: 2.1s\n",
      "620:\tlearn: 0.2590858\ttotal: 3.42s\tremaining: 2.09s\n",
      "621:\tlearn: 0.2589773\ttotal: 3.43s\tremaining: 2.08s\n",
      "622:\tlearn: 0.2585929\ttotal: 3.43s\tremaining: 2.08s\n",
      "623:\tlearn: 0.2581706\ttotal: 3.44s\tremaining: 2.07s\n",
      "624:\tlearn: 0.2578699\ttotal: 3.44s\tremaining: 2.07s\n",
      "625:\tlearn: 0.2576291\ttotal: 3.45s\tremaining: 2.06s\n",
      "626:\tlearn: 0.2574157\ttotal: 3.45s\tremaining: 2.05s\n",
      "627:\tlearn: 0.2569596\ttotal: 3.46s\tremaining: 2.05s\n",
      "628:\tlearn: 0.2566992\ttotal: 3.46s\tremaining: 2.04s\n",
      "629:\tlearn: 0.2564773\ttotal: 3.46s\tremaining: 2.04s\n",
      "630:\tlearn: 0.2563904\ttotal: 3.47s\tremaining: 2.03s\n",
      "631:\tlearn: 0.2562541\ttotal: 3.47s\tremaining: 2.02s\n",
      "632:\tlearn: 0.2560905\ttotal: 3.48s\tremaining: 2.02s\n",
      "633:\tlearn: 0.2559196\ttotal: 3.48s\tremaining: 2.01s\n",
      "634:\tlearn: 0.2556727\ttotal: 3.49s\tremaining: 2s\n",
      "635:\tlearn: 0.2554610\ttotal: 3.49s\tremaining: 2s\n",
      "636:\tlearn: 0.2553226\ttotal: 3.5s\tremaining: 1.99s\n",
      "637:\tlearn: 0.2551740\ttotal: 3.5s\tremaining: 1.99s\n",
      "638:\tlearn: 0.2549789\ttotal: 3.5s\tremaining: 1.98s\n",
      "639:\tlearn: 0.2547121\ttotal: 3.51s\tremaining: 1.97s\n",
      "640:\tlearn: 0.2546132\ttotal: 3.51s\tremaining: 1.97s\n",
      "641:\tlearn: 0.2543087\ttotal: 3.52s\tremaining: 1.96s\n",
      "642:\tlearn: 0.2541042\ttotal: 3.52s\tremaining: 1.96s\n",
      "643:\tlearn: 0.2538693\ttotal: 3.53s\tremaining: 1.95s\n",
      "644:\tlearn: 0.2535917\ttotal: 3.53s\tremaining: 1.94s\n",
      "645:\tlearn: 0.2533902\ttotal: 3.54s\tremaining: 1.94s\n",
      "646:\tlearn: 0.2532326\ttotal: 3.54s\tremaining: 1.93s\n",
      "647:\tlearn: 0.2530459\ttotal: 3.54s\tremaining: 1.93s\n",
      "648:\tlearn: 0.2528119\ttotal: 3.55s\tremaining: 1.92s\n",
      "649:\tlearn: 0.2525547\ttotal: 3.55s\tremaining: 1.91s\n",
      "650:\tlearn: 0.2524567\ttotal: 3.56s\tremaining: 1.91s\n",
      "651:\tlearn: 0.2521524\ttotal: 3.57s\tremaining: 1.9s\n",
      "652:\tlearn: 0.2518746\ttotal: 3.57s\tremaining: 1.9s\n",
      "653:\tlearn: 0.2515442\ttotal: 3.58s\tremaining: 1.9s\n",
      "654:\tlearn: 0.2513742\ttotal: 3.59s\tremaining: 1.89s\n",
      "655:\tlearn: 0.2511759\ttotal: 3.59s\tremaining: 1.88s\n",
      "656:\tlearn: 0.2508741\ttotal: 3.6s\tremaining: 1.88s\n",
      "657:\tlearn: 0.2507077\ttotal: 3.6s\tremaining: 1.87s\n",
      "658:\tlearn: 0.2505781\ttotal: 3.6s\tremaining: 1.86s\n",
      "659:\tlearn: 0.2505100\ttotal: 3.61s\tremaining: 1.86s\n",
      "660:\tlearn: 0.2501853\ttotal: 3.61s\tremaining: 1.85s\n",
      "661:\tlearn: 0.2500339\ttotal: 3.62s\tremaining: 1.85s\n",
      "662:\tlearn: 0.2498808\ttotal: 3.62s\tremaining: 1.84s\n",
      "663:\tlearn: 0.2496646\ttotal: 3.63s\tremaining: 1.83s\n",
      "664:\tlearn: 0.2493293\ttotal: 3.63s\tremaining: 1.83s\n",
      "665:\tlearn: 0.2491573\ttotal: 3.63s\tremaining: 1.82s\n",
      "666:\tlearn: 0.2489233\ttotal: 3.64s\tremaining: 1.82s\n",
      "667:\tlearn: 0.2488568\ttotal: 3.64s\tremaining: 1.81s\n",
      "668:\tlearn: 0.2486144\ttotal: 3.65s\tremaining: 1.8s\n",
      "669:\tlearn: 0.2483773\ttotal: 3.65s\tremaining: 1.8s\n",
      "670:\tlearn: 0.2482201\ttotal: 3.65s\tremaining: 1.79s\n",
      "671:\tlearn: 0.2481445\ttotal: 3.66s\tremaining: 1.79s\n",
      "672:\tlearn: 0.2480453\ttotal: 3.66s\tremaining: 1.78s\n",
      "673:\tlearn: 0.2478585\ttotal: 3.67s\tremaining: 1.77s\n",
      "674:\tlearn: 0.2477204\ttotal: 3.67s\tremaining: 1.77s\n",
      "675:\tlearn: 0.2476415\ttotal: 3.68s\tremaining: 1.76s\n",
      "676:\tlearn: 0.2473815\ttotal: 3.68s\tremaining: 1.76s\n",
      "677:\tlearn: 0.2471798\ttotal: 3.69s\tremaining: 1.75s\n",
      "678:\tlearn: 0.2470178\ttotal: 3.69s\tremaining: 1.74s\n",
      "679:\tlearn: 0.2468595\ttotal: 3.69s\tremaining: 1.74s\n",
      "680:\tlearn: 0.2465018\ttotal: 3.7s\tremaining: 1.73s\n",
      "681:\tlearn: 0.2463322\ttotal: 3.7s\tremaining: 1.73s\n",
      "682:\tlearn: 0.2461881\ttotal: 3.71s\tremaining: 1.72s\n",
      "683:\tlearn: 0.2460320\ttotal: 3.71s\tremaining: 1.72s\n",
      "684:\tlearn: 0.2459155\ttotal: 3.72s\tremaining: 1.71s\n",
      "685:\tlearn: 0.2457787\ttotal: 3.72s\tremaining: 1.7s\n",
      "686:\tlearn: 0.2455912\ttotal: 3.73s\tremaining: 1.7s\n",
      "687:\tlearn: 0.2453303\ttotal: 3.73s\tremaining: 1.69s\n",
      "688:\tlearn: 0.2451950\ttotal: 3.73s\tremaining: 1.69s\n",
      "689:\tlearn: 0.2450738\ttotal: 3.74s\tremaining: 1.68s\n",
      "690:\tlearn: 0.2448890\ttotal: 3.74s\tremaining: 1.67s\n",
      "691:\tlearn: 0.2445965\ttotal: 3.75s\tremaining: 1.67s\n",
      "692:\tlearn: 0.2444868\ttotal: 3.75s\tremaining: 1.66s\n",
      "693:\tlearn: 0.2443674\ttotal: 3.76s\tremaining: 1.66s\n",
      "694:\tlearn: 0.2442138\ttotal: 3.76s\tremaining: 1.65s\n",
      "695:\tlearn: 0.2439370\ttotal: 3.76s\tremaining: 1.64s\n",
      "696:\tlearn: 0.2438278\ttotal: 3.77s\tremaining: 1.64s\n",
      "697:\tlearn: 0.2435801\ttotal: 3.77s\tremaining: 1.63s\n",
      "698:\tlearn: 0.2434457\ttotal: 3.78s\tremaining: 1.63s\n",
      "699:\tlearn: 0.2432475\ttotal: 3.78s\tremaining: 1.62s\n",
      "700:\tlearn: 0.2428014\ttotal: 3.79s\tremaining: 1.61s\n",
      "701:\tlearn: 0.2424086\ttotal: 3.79s\tremaining: 1.61s\n",
      "702:\tlearn: 0.2423574\ttotal: 3.79s\tremaining: 1.6s\n",
      "703:\tlearn: 0.2422899\ttotal: 3.8s\tremaining: 1.6s\n",
      "704:\tlearn: 0.2420831\ttotal: 3.8s\tremaining: 1.59s\n",
      "705:\tlearn: 0.2418675\ttotal: 3.81s\tremaining: 1.58s\n",
      "706:\tlearn: 0.2417139\ttotal: 3.81s\tremaining: 1.58s\n",
      "707:\tlearn: 0.2416066\ttotal: 3.82s\tremaining: 1.57s\n",
      "708:\tlearn: 0.2413955\ttotal: 3.82s\tremaining: 1.57s\n",
      "709:\tlearn: 0.2412798\ttotal: 3.82s\tremaining: 1.56s\n",
      "710:\tlearn: 0.2409843\ttotal: 3.83s\tremaining: 1.56s\n",
      "711:\tlearn: 0.2405534\ttotal: 3.83s\tremaining: 1.55s\n",
      "712:\tlearn: 0.2403035\ttotal: 3.85s\tremaining: 1.55s\n",
      "713:\tlearn: 0.2401702\ttotal: 3.86s\tremaining: 1.55s\n",
      "714:\tlearn: 0.2399140\ttotal: 3.87s\tremaining: 1.54s\n",
      "715:\tlearn: 0.2397337\ttotal: 3.87s\tremaining: 1.53s\n",
      "716:\tlearn: 0.2396964\ttotal: 3.87s\tremaining: 1.53s\n",
      "717:\tlearn: 0.2395390\ttotal: 3.88s\tremaining: 1.52s\n",
      "718:\tlearn: 0.2392122\ttotal: 3.89s\tremaining: 1.52s\n",
      "719:\tlearn: 0.2390619\ttotal: 3.89s\tremaining: 1.51s\n",
      "720:\tlearn: 0.2389439\ttotal: 3.9s\tremaining: 1.51s\n",
      "721:\tlearn: 0.2385429\ttotal: 3.9s\tremaining: 1.5s\n",
      "722:\tlearn: 0.2383707\ttotal: 3.9s\tremaining: 1.5s\n",
      "723:\tlearn: 0.2382535\ttotal: 3.91s\tremaining: 1.49s\n",
      "724:\tlearn: 0.2381393\ttotal: 3.91s\tremaining: 1.48s\n",
      "725:\tlearn: 0.2379856\ttotal: 3.92s\tremaining: 1.48s\n",
      "726:\tlearn: 0.2377765\ttotal: 3.92s\tremaining: 1.47s\n",
      "727:\tlearn: 0.2376745\ttotal: 3.92s\tremaining: 1.47s\n",
      "728:\tlearn: 0.2375429\ttotal: 3.93s\tremaining: 1.46s\n",
      "729:\tlearn: 0.2373491\ttotal: 3.93s\tremaining: 1.45s\n",
      "730:\tlearn: 0.2370027\ttotal: 3.94s\tremaining: 1.45s\n",
      "731:\tlearn: 0.2368848\ttotal: 3.94s\tremaining: 1.44s\n",
      "732:\tlearn: 0.2367762\ttotal: 3.95s\tremaining: 1.44s\n",
      "733:\tlearn: 0.2366998\ttotal: 3.95s\tremaining: 1.43s\n",
      "734:\tlearn: 0.2364429\ttotal: 3.95s\tremaining: 1.43s\n",
      "735:\tlearn: 0.2363494\ttotal: 3.96s\tremaining: 1.42s\n",
      "736:\tlearn: 0.2361932\ttotal: 3.96s\tremaining: 1.41s\n",
      "737:\tlearn: 0.2358759\ttotal: 3.97s\tremaining: 1.41s\n",
      "738:\tlearn: 0.2356413\ttotal: 3.97s\tremaining: 1.4s\n",
      "739:\tlearn: 0.2354374\ttotal: 3.98s\tremaining: 1.4s\n",
      "740:\tlearn: 0.2353556\ttotal: 3.98s\tremaining: 1.39s\n",
      "741:\tlearn: 0.2352407\ttotal: 3.98s\tremaining: 1.39s\n",
      "742:\tlearn: 0.2350888\ttotal: 3.99s\tremaining: 1.38s\n",
      "743:\tlearn: 0.2348339\ttotal: 3.99s\tremaining: 1.37s\n",
      "744:\tlearn: 0.2344997\ttotal: 4s\tremaining: 1.37s\n",
      "745:\tlearn: 0.2343514\ttotal: 4s\tremaining: 1.36s\n",
      "746:\tlearn: 0.2341343\ttotal: 4s\tremaining: 1.36s\n",
      "747:\tlearn: 0.2337582\ttotal: 4.01s\tremaining: 1.35s\n",
      "748:\tlearn: 0.2335933\ttotal: 4.01s\tremaining: 1.34s\n",
      "749:\tlearn: 0.2334627\ttotal: 4.02s\tremaining: 1.34s\n",
      "750:\tlearn: 0.2332623\ttotal: 4.02s\tremaining: 1.33s\n",
      "751:\tlearn: 0.2331015\ttotal: 4.03s\tremaining: 1.33s\n",
      "752:\tlearn: 0.2330066\ttotal: 4.03s\tremaining: 1.32s\n",
      "753:\tlearn: 0.2328590\ttotal: 4.04s\tremaining: 1.32s\n",
      "754:\tlearn: 0.2327142\ttotal: 4.04s\tremaining: 1.31s\n",
      "755:\tlearn: 0.2323644\ttotal: 4.05s\tremaining: 1.31s\n",
      "756:\tlearn: 0.2320818\ttotal: 4.05s\tremaining: 1.3s\n",
      "757:\tlearn: 0.2319190\ttotal: 4.06s\tremaining: 1.29s\n",
      "758:\tlearn: 0.2315921\ttotal: 4.06s\tremaining: 1.29s\n",
      "759:\tlearn: 0.2314518\ttotal: 4.06s\tremaining: 1.28s\n",
      "760:\tlearn: 0.2312555\ttotal: 4.07s\tremaining: 1.28s\n",
      "761:\tlearn: 0.2310545\ttotal: 4.07s\tremaining: 1.27s\n",
      "762:\tlearn: 0.2309143\ttotal: 4.08s\tremaining: 1.27s\n",
      "763:\tlearn: 0.2307787\ttotal: 4.08s\tremaining: 1.26s\n",
      "764:\tlearn: 0.2303175\ttotal: 4.09s\tremaining: 1.25s\n",
      "765:\tlearn: 0.2300101\ttotal: 4.09s\tremaining: 1.25s\n",
      "766:\tlearn: 0.2298963\ttotal: 4.09s\tremaining: 1.24s\n",
      "767:\tlearn: 0.2296899\ttotal: 4.1s\tremaining: 1.24s\n",
      "768:\tlearn: 0.2295813\ttotal: 4.1s\tremaining: 1.23s\n",
      "769:\tlearn: 0.2292246\ttotal: 4.11s\tremaining: 1.23s\n",
      "770:\tlearn: 0.2290453\ttotal: 4.11s\tremaining: 1.22s\n",
      "771:\tlearn: 0.2289676\ttotal: 4.12s\tremaining: 1.22s\n",
      "772:\tlearn: 0.2286484\ttotal: 4.12s\tremaining: 1.21s\n",
      "773:\tlearn: 0.2284585\ttotal: 4.13s\tremaining: 1.21s\n",
      "774:\tlearn: 0.2282500\ttotal: 4.14s\tremaining: 1.2s\n",
      "775:\tlearn: 0.2281407\ttotal: 4.14s\tremaining: 1.2s\n",
      "776:\tlearn: 0.2279219\ttotal: 4.15s\tremaining: 1.19s\n",
      "777:\tlearn: 0.2276128\ttotal: 4.16s\tremaining: 1.19s\n",
      "778:\tlearn: 0.2274184\ttotal: 4.16s\tremaining: 1.18s\n",
      "779:\tlearn: 0.2271612\ttotal: 4.16s\tremaining: 1.17s\n",
      "780:\tlearn: 0.2269394\ttotal: 4.17s\tremaining: 1.17s\n",
      "781:\tlearn: 0.2268496\ttotal: 4.17s\tremaining: 1.16s\n",
      "782:\tlearn: 0.2267682\ttotal: 4.18s\tremaining: 1.16s\n",
      "783:\tlearn: 0.2266919\ttotal: 4.18s\tremaining: 1.15s\n",
      "784:\tlearn: 0.2264667\ttotal: 4.19s\tremaining: 1.15s\n",
      "785:\tlearn: 0.2261897\ttotal: 4.19s\tremaining: 1.14s\n",
      "786:\tlearn: 0.2261238\ttotal: 4.2s\tremaining: 1.14s\n",
      "787:\tlearn: 0.2260221\ttotal: 4.2s\tremaining: 1.13s\n",
      "788:\tlearn: 0.2259542\ttotal: 4.21s\tremaining: 1.12s\n",
      "789:\tlearn: 0.2257492\ttotal: 4.21s\tremaining: 1.12s\n",
      "790:\tlearn: 0.2255727\ttotal: 4.21s\tremaining: 1.11s\n",
      "791:\tlearn: 0.2254361\ttotal: 4.22s\tremaining: 1.11s\n",
      "792:\tlearn: 0.2251975\ttotal: 4.22s\tremaining: 1.1s\n",
      "793:\tlearn: 0.2251099\ttotal: 4.23s\tremaining: 1.1s\n",
      "794:\tlearn: 0.2250267\ttotal: 4.23s\tremaining: 1.09s\n",
      "795:\tlearn: 0.2249045\ttotal: 4.24s\tremaining: 1.08s\n",
      "796:\tlearn: 0.2246708\ttotal: 4.24s\tremaining: 1.08s\n",
      "797:\tlearn: 0.2244320\ttotal: 4.24s\tremaining: 1.07s\n",
      "798:\tlearn: 0.2242313\ttotal: 4.25s\tremaining: 1.07s\n",
      "799:\tlearn: 0.2238984\ttotal: 4.25s\tremaining: 1.06s\n",
      "800:\tlearn: 0.2234516\ttotal: 4.26s\tremaining: 1.06s\n",
      "801:\tlearn: 0.2233933\ttotal: 4.26s\tremaining: 1.05s\n",
      "802:\tlearn: 0.2232868\ttotal: 4.26s\tremaining: 1.05s\n",
      "803:\tlearn: 0.2230518\ttotal: 4.27s\tremaining: 1.04s\n",
      "804:\tlearn: 0.2228824\ttotal: 4.27s\tremaining: 1.03s\n",
      "805:\tlearn: 0.2226697\ttotal: 4.28s\tremaining: 1.03s\n",
      "806:\tlearn: 0.2225086\ttotal: 4.28s\tremaining: 1.02s\n",
      "807:\tlearn: 0.2223386\ttotal: 4.29s\tremaining: 1.02s\n",
      "808:\tlearn: 0.2221959\ttotal: 4.29s\tremaining: 1.01s\n",
      "809:\tlearn: 0.2219787\ttotal: 4.3s\tremaining: 1.01s\n",
      "810:\tlearn: 0.2216724\ttotal: 4.3s\tremaining: 1s\n",
      "811:\tlearn: 0.2214549\ttotal: 4.3s\tremaining: 997ms\n",
      "812:\tlearn: 0.2211909\ttotal: 4.31s\tremaining: 991ms\n",
      "813:\tlearn: 0.2208207\ttotal: 4.32s\tremaining: 986ms\n",
      "814:\tlearn: 0.2206241\ttotal: 4.32s\tremaining: 981ms\n",
      "815:\tlearn: 0.2204944\ttotal: 4.32s\tremaining: 975ms\n",
      "816:\tlearn: 0.2203338\ttotal: 4.33s\tremaining: 969ms\n",
      "817:\tlearn: 0.2202234\ttotal: 4.33s\tremaining: 964ms\n",
      "818:\tlearn: 0.2199347\ttotal: 4.34s\tremaining: 958ms\n",
      "819:\tlearn: 0.2197637\ttotal: 4.34s\tremaining: 953ms\n",
      "820:\tlearn: 0.2196321\ttotal: 4.35s\tremaining: 948ms\n",
      "821:\tlearn: 0.2195166\ttotal: 4.35s\tremaining: 942ms\n",
      "822:\tlearn: 0.2193558\ttotal: 4.36s\tremaining: 937ms\n",
      "823:\tlearn: 0.2192363\ttotal: 4.36s\tremaining: 932ms\n",
      "824:\tlearn: 0.2190681\ttotal: 4.37s\tremaining: 926ms\n",
      "825:\tlearn: 0.2188877\ttotal: 4.37s\tremaining: 921ms\n",
      "826:\tlearn: 0.2188229\ttotal: 4.38s\tremaining: 915ms\n",
      "827:\tlearn: 0.2187377\ttotal: 4.38s\tremaining: 910ms\n",
      "828:\tlearn: 0.2185021\ttotal: 4.38s\tremaining: 904ms\n",
      "829:\tlearn: 0.2184467\ttotal: 4.39s\tremaining: 899ms\n",
      "830:\tlearn: 0.2182458\ttotal: 4.39s\tremaining: 893ms\n",
      "831:\tlearn: 0.2179170\ttotal: 4.4s\tremaining: 888ms\n",
      "832:\tlearn: 0.2177744\ttotal: 4.4s\tremaining: 883ms\n",
      "833:\tlearn: 0.2176498\ttotal: 4.41s\tremaining: 877ms\n",
      "834:\tlearn: 0.2174674\ttotal: 4.41s\tremaining: 872ms\n",
      "835:\tlearn: 0.2171573\ttotal: 4.42s\tremaining: 866ms\n",
      "836:\tlearn: 0.2170428\ttotal: 4.42s\tremaining: 862ms\n",
      "837:\tlearn: 0.2168558\ttotal: 4.43s\tremaining: 857ms\n",
      "838:\tlearn: 0.2167658\ttotal: 4.44s\tremaining: 852ms\n",
      "839:\tlearn: 0.2165640\ttotal: 4.44s\tremaining: 846ms\n",
      "840:\tlearn: 0.2164665\ttotal: 4.45s\tremaining: 841ms\n",
      "841:\tlearn: 0.2163036\ttotal: 4.45s\tremaining: 836ms\n",
      "842:\tlearn: 0.2161783\ttotal: 4.46s\tremaining: 830ms\n",
      "843:\tlearn: 0.2160460\ttotal: 4.46s\tremaining: 825ms\n",
      "844:\tlearn: 0.2159027\ttotal: 4.46s\tremaining: 819ms\n",
      "845:\tlearn: 0.2157109\ttotal: 4.47s\tremaining: 814ms\n",
      "846:\tlearn: 0.2156211\ttotal: 4.47s\tremaining: 808ms\n",
      "847:\tlearn: 0.2155515\ttotal: 4.48s\tremaining: 803ms\n",
      "848:\tlearn: 0.2154780\ttotal: 4.48s\tremaining: 797ms\n",
      "849:\tlearn: 0.2152790\ttotal: 4.49s\tremaining: 792ms\n",
      "850:\tlearn: 0.2151652\ttotal: 4.49s\tremaining: 786ms\n",
      "851:\tlearn: 0.2151018\ttotal: 4.5s\tremaining: 781ms\n",
      "852:\tlearn: 0.2149208\ttotal: 4.5s\tremaining: 776ms\n",
      "853:\tlearn: 0.2147438\ttotal: 4.5s\tremaining: 770ms\n",
      "854:\tlearn: 0.2145937\ttotal: 4.51s\tremaining: 765ms\n",
      "855:\tlearn: 0.2145381\ttotal: 4.51s\tremaining: 759ms\n",
      "856:\tlearn: 0.2144657\ttotal: 4.52s\tremaining: 754ms\n",
      "857:\tlearn: 0.2141945\ttotal: 4.52s\tremaining: 749ms\n",
      "858:\tlearn: 0.2141378\ttotal: 4.53s\tremaining: 743ms\n",
      "859:\tlearn: 0.2140764\ttotal: 4.53s\tremaining: 738ms\n",
      "860:\tlearn: 0.2139788\ttotal: 4.54s\tremaining: 732ms\n",
      "861:\tlearn: 0.2138364\ttotal: 4.54s\tremaining: 727ms\n",
      "862:\tlearn: 0.2136299\ttotal: 4.54s\tremaining: 722ms\n",
      "863:\tlearn: 0.2134113\ttotal: 4.55s\tremaining: 716ms\n",
      "864:\tlearn: 0.2132956\ttotal: 4.55s\tremaining: 711ms\n",
      "865:\tlearn: 0.2130691\ttotal: 4.56s\tremaining: 705ms\n",
      "866:\tlearn: 0.2128784\ttotal: 4.56s\tremaining: 700ms\n",
      "867:\tlearn: 0.2126727\ttotal: 4.57s\tremaining: 695ms\n",
      "868:\tlearn: 0.2125340\ttotal: 4.57s\tremaining: 689ms\n",
      "869:\tlearn: 0.2122840\ttotal: 4.58s\tremaining: 684ms\n",
      "870:\tlearn: 0.2120469\ttotal: 4.58s\tremaining: 679ms\n",
      "871:\tlearn: 0.2118639\ttotal: 4.58s\tremaining: 673ms\n",
      "872:\tlearn: 0.2117496\ttotal: 4.59s\tremaining: 668ms\n",
      "873:\tlearn: 0.2114516\ttotal: 4.59s\tremaining: 662ms\n",
      "874:\tlearn: 0.2111775\ttotal: 4.6s\tremaining: 657ms\n",
      "875:\tlearn: 0.2110101\ttotal: 4.6s\tremaining: 652ms\n",
      "876:\tlearn: 0.2107460\ttotal: 4.61s\tremaining: 646ms\n",
      "877:\tlearn: 0.2106560\ttotal: 4.61s\tremaining: 641ms\n",
      "878:\tlearn: 0.2104605\ttotal: 4.62s\tremaining: 636ms\n",
      "879:\tlearn: 0.2103590\ttotal: 4.62s\tremaining: 630ms\n",
      "880:\tlearn: 0.2103160\ttotal: 4.63s\tremaining: 625ms\n",
      "881:\tlearn: 0.2102141\ttotal: 4.63s\tremaining: 620ms\n",
      "882:\tlearn: 0.2098803\ttotal: 4.63s\tremaining: 614ms\n",
      "883:\tlearn: 0.2097233\ttotal: 4.64s\tremaining: 609ms\n",
      "884:\tlearn: 0.2095986\ttotal: 4.64s\tremaining: 604ms\n",
      "885:\tlearn: 0.2094989\ttotal: 4.65s\tremaining: 598ms\n",
      "886:\tlearn: 0.2092139\ttotal: 4.65s\tremaining: 593ms\n",
      "887:\tlearn: 0.2090122\ttotal: 4.66s\tremaining: 588ms\n",
      "888:\tlearn: 0.2088416\ttotal: 4.66s\tremaining: 582ms\n",
      "889:\tlearn: 0.2087120\ttotal: 4.67s\tremaining: 577ms\n",
      "890:\tlearn: 0.2085946\ttotal: 4.67s\tremaining: 571ms\n",
      "891:\tlearn: 0.2084567\ttotal: 4.68s\tremaining: 566ms\n",
      "892:\tlearn: 0.2083637\ttotal: 4.68s\tremaining: 561ms\n",
      "893:\tlearn: 0.2082819\ttotal: 4.68s\tremaining: 556ms\n",
      "894:\tlearn: 0.2081431\ttotal: 4.69s\tremaining: 550ms\n",
      "895:\tlearn: 0.2079990\ttotal: 4.7s\tremaining: 545ms\n",
      "896:\tlearn: 0.2078031\ttotal: 4.7s\tremaining: 540ms\n",
      "897:\tlearn: 0.2076147\ttotal: 4.7s\tremaining: 534ms\n",
      "898:\tlearn: 0.2074966\ttotal: 4.71s\tremaining: 529ms\n",
      "899:\tlearn: 0.2074233\ttotal: 4.71s\tremaining: 524ms\n",
      "900:\tlearn: 0.2073176\ttotal: 4.72s\tremaining: 519ms\n",
      "901:\tlearn: 0.2071963\ttotal: 4.72s\tremaining: 513ms\n",
      "902:\tlearn: 0.2070281\ttotal: 4.73s\tremaining: 508ms\n",
      "903:\tlearn: 0.2068952\ttotal: 4.73s\tremaining: 503ms\n",
      "904:\tlearn: 0.2067909\ttotal: 4.74s\tremaining: 497ms\n",
      "905:\tlearn: 0.2065923\ttotal: 4.75s\tremaining: 493ms\n",
      "906:\tlearn: 0.2064879\ttotal: 4.75s\tremaining: 488ms\n",
      "907:\tlearn: 0.2062348\ttotal: 4.76s\tremaining: 483ms\n",
      "908:\tlearn: 0.2061212\ttotal: 4.77s\tremaining: 477ms\n",
      "909:\tlearn: 0.2059688\ttotal: 4.77s\tremaining: 472ms\n",
      "910:\tlearn: 0.2057464\ttotal: 4.78s\tremaining: 467ms\n",
      "911:\tlearn: 0.2056163\ttotal: 4.78s\tremaining: 461ms\n",
      "912:\tlearn: 0.2055138\ttotal: 4.78s\tremaining: 456ms\n",
      "913:\tlearn: 0.2054613\ttotal: 4.79s\tremaining: 451ms\n",
      "914:\tlearn: 0.2053515\ttotal: 4.79s\tremaining: 445ms\n",
      "915:\tlearn: 0.2052184\ttotal: 4.8s\tremaining: 440ms\n",
      "916:\tlearn: 0.2050330\ttotal: 4.8s\tremaining: 435ms\n",
      "917:\tlearn: 0.2049049\ttotal: 4.81s\tremaining: 429ms\n",
      "918:\tlearn: 0.2046657\ttotal: 4.81s\tremaining: 424ms\n",
      "919:\tlearn: 0.2043994\ttotal: 4.82s\tremaining: 419ms\n",
      "920:\tlearn: 0.2043421\ttotal: 4.82s\tremaining: 414ms\n",
      "921:\tlearn: 0.2040999\ttotal: 4.83s\tremaining: 408ms\n",
      "922:\tlearn: 0.2039345\ttotal: 4.83s\tremaining: 403ms\n",
      "923:\tlearn: 0.2037581\ttotal: 4.83s\tremaining: 398ms\n",
      "924:\tlearn: 0.2036368\ttotal: 4.84s\tremaining: 392ms\n",
      "925:\tlearn: 0.2035197\ttotal: 4.84s\tremaining: 387ms\n",
      "926:\tlearn: 0.2033980\ttotal: 4.85s\tremaining: 382ms\n",
      "927:\tlearn: 0.2032414\ttotal: 4.85s\tremaining: 377ms\n",
      "928:\tlearn: 0.2030566\ttotal: 4.86s\tremaining: 371ms\n",
      "929:\tlearn: 0.2027728\ttotal: 4.86s\tremaining: 366ms\n",
      "930:\tlearn: 0.2025859\ttotal: 4.87s\tremaining: 361ms\n",
      "931:\tlearn: 0.2025003\ttotal: 4.87s\tremaining: 356ms\n",
      "932:\tlearn: 0.2023148\ttotal: 4.88s\tremaining: 350ms\n",
      "933:\tlearn: 0.2022241\ttotal: 4.88s\tremaining: 345ms\n",
      "934:\tlearn: 0.2021301\ttotal: 4.88s\tremaining: 340ms\n",
      "935:\tlearn: 0.2020509\ttotal: 4.89s\tremaining: 334ms\n",
      "936:\tlearn: 0.2019055\ttotal: 4.89s\tremaining: 329ms\n",
      "937:\tlearn: 0.2018676\ttotal: 4.9s\tremaining: 324ms\n",
      "938:\tlearn: 0.2016924\ttotal: 4.9s\tremaining: 319ms\n",
      "939:\tlearn: 0.2016378\ttotal: 4.91s\tremaining: 313ms\n",
      "940:\tlearn: 0.2014014\ttotal: 4.91s\tremaining: 308ms\n",
      "941:\tlearn: 0.2012791\ttotal: 4.92s\tremaining: 303ms\n",
      "942:\tlearn: 0.2012014\ttotal: 4.92s\tremaining: 297ms\n",
      "943:\tlearn: 0.2010983\ttotal: 4.93s\tremaining: 292ms\n",
      "944:\tlearn: 0.2009464\ttotal: 4.93s\tremaining: 287ms\n",
      "945:\tlearn: 0.2008588\ttotal: 4.94s\tremaining: 282ms\n",
      "946:\tlearn: 0.2007579\ttotal: 4.94s\tremaining: 277ms\n",
      "947:\tlearn: 0.2006770\ttotal: 4.95s\tremaining: 271ms\n",
      "948:\tlearn: 0.2005245\ttotal: 4.95s\tremaining: 266ms\n",
      "949:\tlearn: 0.2004856\ttotal: 4.96s\tremaining: 261ms\n",
      "950:\tlearn: 0.2004359\ttotal: 4.96s\tremaining: 256ms\n",
      "951:\tlearn: 0.2001823\ttotal: 4.97s\tremaining: 250ms\n",
      "952:\tlearn: 0.1999742\ttotal: 4.97s\tremaining: 245ms\n",
      "953:\tlearn: 0.1998538\ttotal: 4.97s\tremaining: 240ms\n",
      "954:\tlearn: 0.1997505\ttotal: 4.98s\tremaining: 235ms\n",
      "955:\tlearn: 0.1996788\ttotal: 5s\tremaining: 230ms\n",
      "956:\tlearn: 0.1994983\ttotal: 5s\tremaining: 225ms\n",
      "957:\tlearn: 0.1993423\ttotal: 5.01s\tremaining: 219ms\n",
      "958:\tlearn: 0.1992059\ttotal: 5.01s\tremaining: 214ms\n",
      "959:\tlearn: 0.1989424\ttotal: 5.01s\tremaining: 209ms\n",
      "960:\tlearn: 0.1987826\ttotal: 5.02s\tremaining: 204ms\n",
      "961:\tlearn: 0.1986675\ttotal: 5.02s\tremaining: 198ms\n",
      "962:\tlearn: 0.1986389\ttotal: 5.03s\tremaining: 193ms\n",
      "963:\tlearn: 0.1985507\ttotal: 5.03s\tremaining: 188ms\n",
      "964:\tlearn: 0.1984114\ttotal: 5.04s\tremaining: 183ms\n",
      "965:\tlearn: 0.1983626\ttotal: 5.04s\tremaining: 177ms\n",
      "966:\tlearn: 0.1981922\ttotal: 5.04s\tremaining: 172ms\n",
      "967:\tlearn: 0.1979989\ttotal: 5.05s\tremaining: 167ms\n",
      "968:\tlearn: 0.1979202\ttotal: 5.05s\tremaining: 162ms\n",
      "969:\tlearn: 0.1977933\ttotal: 5.06s\tremaining: 156ms\n",
      "970:\tlearn: 0.1976935\ttotal: 5.06s\tremaining: 151ms\n",
      "971:\tlearn: 0.1975237\ttotal: 5.07s\tremaining: 146ms\n",
      "972:\tlearn: 0.1974117\ttotal: 5.07s\tremaining: 141ms\n",
      "973:\tlearn: 0.1972646\ttotal: 5.08s\tremaining: 136ms\n",
      "974:\tlearn: 0.1971243\ttotal: 5.08s\tremaining: 130ms\n",
      "975:\tlearn: 0.1969940\ttotal: 5.09s\tremaining: 125ms\n",
      "976:\tlearn: 0.1969432\ttotal: 5.09s\tremaining: 120ms\n",
      "977:\tlearn: 0.1967682\ttotal: 5.1s\tremaining: 115ms\n",
      "978:\tlearn: 0.1966439\ttotal: 5.11s\tremaining: 110ms\n",
      "979:\tlearn: 0.1965434\ttotal: 5.12s\tremaining: 105ms\n",
      "980:\tlearn: 0.1964754\ttotal: 5.13s\tremaining: 99.3ms\n",
      "981:\tlearn: 0.1963268\ttotal: 5.13s\tremaining: 94.1ms\n",
      "982:\tlearn: 0.1961554\ttotal: 5.14s\tremaining: 88.8ms\n",
      "983:\tlearn: 0.1958981\ttotal: 5.14s\tremaining: 83.6ms\n",
      "984:\tlearn: 0.1958360\ttotal: 5.14s\tremaining: 78.4ms\n",
      "985:\tlearn: 0.1955453\ttotal: 5.15s\tremaining: 73.1ms\n",
      "986:\tlearn: 0.1954170\ttotal: 5.15s\tremaining: 67.9ms\n",
      "987:\tlearn: 0.1952517\ttotal: 5.16s\tremaining: 62.7ms\n",
      "988:\tlearn: 0.1950590\ttotal: 5.16s\tremaining: 57.4ms\n",
      "989:\tlearn: 0.1948965\ttotal: 5.17s\tremaining: 52.2ms\n",
      "990:\tlearn: 0.1947814\ttotal: 5.17s\tremaining: 47ms\n",
      "991:\tlearn: 0.1945362\ttotal: 5.18s\tremaining: 41.8ms\n",
      "992:\tlearn: 0.1944756\ttotal: 5.18s\tremaining: 36.5ms\n",
      "993:\tlearn: 0.1943506\ttotal: 5.19s\tremaining: 31.3ms\n",
      "994:\tlearn: 0.1942585\ttotal: 5.19s\tremaining: 26.1ms\n",
      "995:\tlearn: 0.1941885\ttotal: 5.19s\tremaining: 20.9ms\n",
      "996:\tlearn: 0.1939930\ttotal: 5.2s\tremaining: 15.6ms\n",
      "997:\tlearn: 0.1938128\ttotal: 5.2s\tremaining: 10.4ms\n",
      "998:\tlearn: 0.1936294\ttotal: 5.21s\tremaining: 5.21ms\n",
      "999:\tlearn: 0.1935149\ttotal: 5.21s\tremaining: 0us\n"
     ]
    }
   ],
   "source": [
    "# Model Kurma\n",
    "from catboost import CatBoostClassifier\n",
    "catb = CatBoostClassifier()\n",
    "catb_model = catb.fit(X_train, y_train)"
   ]
  },
  {
   "cell_type": "code",
   "execution_count": 58,
   "metadata": {},
   "outputs": [
    {
     "data": {
      "text/plain": [
       "0.7402597402597403"
      ]
     },
     "execution_count": 58,
     "metadata": {},
     "output_type": "execute_result"
    }
   ],
   "source": [
    "# Test Hatası Skoru\n",
    "y_pred = catb_model.predict(X_test)\n",
    "accuracy_score(y_test, y_pred)"
   ]
  },
  {
   "cell_type": "markdown",
   "metadata": {},
   "source": [
    "#### Model Tuning"
   ]
  },
  {
   "cell_type": "code",
   "execution_count": 62,
   "metadata": {},
   "outputs": [],
   "source": [
    "# Hiperparametre\n",
    "catb_params = {\n",
    "    'iterations': [200,500],\n",
    "    'learning_rate': [0.01,0.05, 0.1],\n",
    "    'depth': [3,5,8] }"
   ]
  },
  {
   "cell_type": "code",
   "execution_count": null,
   "metadata": {},
   "outputs": [],
   "source": [
    "# Model Kurma\n",
    "catb = CatBoostClassifier()\n",
    "catb_cv_model = GridSearchCV(catb, catb_params, cv=5, n_jobs = -1, verbose = 2)\n",
    "catb_cv_model.fit(X_train, y_train)"
   ]
  },
  {
   "cell_type": "code",
   "execution_count": null,
   "metadata": {},
   "outputs": [],
   "source": [
    "# En iyi parametreler\n",
    "catb_model.best_params_"
   ]
  },
  {
   "cell_type": "code",
   "execution_count": 81,
   "metadata": {
    "collapsed": true,
    "jupyter": {
     "outputs_hidden": true
    }
   },
   "outputs": [
    {
     "name": "stdout",
     "output_type": "stream",
     "text": [
      "0:\tlearn: 0.6616627\ttotal: 12.6ms\tremaining: 2.52s\n",
      "1:\tlearn: 0.6400771\ttotal: 15.9ms\tremaining: 1.57s\n",
      "2:\tlearn: 0.6218613\ttotal: 19.6ms\tremaining: 1.29s\n",
      "3:\tlearn: 0.6091958\ttotal: 22.8ms\tremaining: 1.12s\n",
      "4:\tlearn: 0.5938260\ttotal: 26.9ms\tremaining: 1.05s\n",
      "5:\tlearn: 0.5777363\ttotal: 30.2ms\tremaining: 977ms\n",
      "6:\tlearn: 0.5641154\ttotal: 34.6ms\tremaining: 954ms\n",
      "7:\tlearn: 0.5465291\ttotal: 37.9ms\tremaining: 910ms\n",
      "8:\tlearn: 0.5343176\ttotal: 41.6ms\tremaining: 883ms\n",
      "9:\tlearn: 0.5253371\ttotal: 45.5ms\tremaining: 864ms\n",
      "10:\tlearn: 0.5152429\ttotal: 48.6ms\tremaining: 835ms\n",
      "11:\tlearn: 0.5039035\ttotal: 52.3ms\tremaining: 820ms\n",
      "12:\tlearn: 0.4940833\ttotal: 56ms\tremaining: 806ms\n",
      "13:\tlearn: 0.4869167\ttotal: 59.2ms\tremaining: 786ms\n",
      "14:\tlearn: 0.4800142\ttotal: 62.8ms\tremaining: 775ms\n",
      "15:\tlearn: 0.4744378\ttotal: 66.3ms\tremaining: 762ms\n",
      "16:\tlearn: 0.4684316\ttotal: 69.5ms\tremaining: 748ms\n",
      "17:\tlearn: 0.4619170\ttotal: 73ms\tremaining: 738ms\n",
      "18:\tlearn: 0.4560716\ttotal: 76.5ms\tremaining: 728ms\n",
      "19:\tlearn: 0.4520436\ttotal: 80.9ms\tremaining: 728ms\n",
      "20:\tlearn: 0.4497033\ttotal: 84.7ms\tremaining: 722ms\n",
      "21:\tlearn: 0.4455907\ttotal: 88.1ms\tremaining: 713ms\n",
      "22:\tlearn: 0.4423133\ttotal: 91.3ms\tremaining: 703ms\n",
      "23:\tlearn: 0.4386980\ttotal: 94.5ms\tremaining: 693ms\n",
      "24:\tlearn: 0.4349802\ttotal: 97.9ms\tremaining: 686ms\n",
      "25:\tlearn: 0.4310116\ttotal: 101ms\tremaining: 678ms\n",
      "26:\tlearn: 0.4267070\ttotal: 105ms\tremaining: 672ms\n",
      "27:\tlearn: 0.4235043\ttotal: 109ms\tremaining: 668ms\n",
      "28:\tlearn: 0.4208978\ttotal: 112ms\tremaining: 661ms\n",
      "29:\tlearn: 0.4172591\ttotal: 116ms\tremaining: 656ms\n",
      "30:\tlearn: 0.4133506\ttotal: 119ms\tremaining: 651ms\n",
      "31:\tlearn: 0.4102273\ttotal: 123ms\tremaining: 645ms\n",
      "32:\tlearn: 0.4066658\ttotal: 126ms\tremaining: 638ms\n",
      "33:\tlearn: 0.4045114\ttotal: 129ms\tremaining: 631ms\n",
      "34:\tlearn: 0.4023280\ttotal: 132ms\tremaining: 624ms\n",
      "35:\tlearn: 0.3999824\ttotal: 136ms\tremaining: 617ms\n",
      "36:\tlearn: 0.3963377\ttotal: 139ms\tremaining: 612ms\n",
      "37:\tlearn: 0.3934108\ttotal: 142ms\tremaining: 605ms\n",
      "38:\tlearn: 0.3912932\ttotal: 145ms\tremaining: 600ms\n",
      "39:\tlearn: 0.3893715\ttotal: 148ms\tremaining: 594ms\n",
      "40:\tlearn: 0.3875596\ttotal: 152ms\tremaining: 588ms\n",
      "41:\tlearn: 0.3849698\ttotal: 156ms\tremaining: 588ms\n",
      "42:\tlearn: 0.3813678\ttotal: 160ms\tremaining: 585ms\n",
      "43:\tlearn: 0.3795781\ttotal: 164ms\tremaining: 581ms\n",
      "44:\tlearn: 0.3777554\ttotal: 167ms\tremaining: 576ms\n",
      "45:\tlearn: 0.3757326\ttotal: 170ms\tremaining: 570ms\n",
      "46:\tlearn: 0.3745693\ttotal: 173ms\tremaining: 565ms\n",
      "47:\tlearn: 0.3721740\ttotal: 177ms\tremaining: 559ms\n",
      "48:\tlearn: 0.3686164\ttotal: 180ms\tremaining: 554ms\n",
      "49:\tlearn: 0.3666828\ttotal: 184ms\tremaining: 551ms\n",
      "50:\tlearn: 0.3645101\ttotal: 187ms\tremaining: 547ms\n",
      "51:\tlearn: 0.3625507\ttotal: 191ms\tremaining: 543ms\n",
      "52:\tlearn: 0.3612248\ttotal: 195ms\tremaining: 541ms\n",
      "53:\tlearn: 0.3604204\ttotal: 199ms\tremaining: 537ms\n",
      "54:\tlearn: 0.3590330\ttotal: 202ms\tremaining: 533ms\n",
      "55:\tlearn: 0.3575423\ttotal: 206ms\tremaining: 529ms\n",
      "56:\tlearn: 0.3554918\ttotal: 209ms\tremaining: 525ms\n",
      "57:\tlearn: 0.3544390\ttotal: 213ms\tremaining: 521ms\n",
      "58:\tlearn: 0.3526415\ttotal: 217ms\tremaining: 518ms\n",
      "59:\tlearn: 0.3511699\ttotal: 220ms\tremaining: 513ms\n",
      "60:\tlearn: 0.3494531\ttotal: 223ms\tremaining: 509ms\n",
      "61:\tlearn: 0.3483422\ttotal: 227ms\tremaining: 505ms\n",
      "62:\tlearn: 0.3451843\ttotal: 230ms\tremaining: 500ms\n",
      "63:\tlearn: 0.3435601\ttotal: 233ms\tremaining: 496ms\n",
      "64:\tlearn: 0.3423130\ttotal: 237ms\tremaining: 492ms\n",
      "65:\tlearn: 0.3398605\ttotal: 240ms\tremaining: 487ms\n",
      "66:\tlearn: 0.3385222\ttotal: 243ms\tremaining: 483ms\n",
      "67:\tlearn: 0.3351718\ttotal: 246ms\tremaining: 478ms\n",
      "68:\tlearn: 0.3340515\ttotal: 250ms\tremaining: 475ms\n",
      "69:\tlearn: 0.3331527\ttotal: 254ms\tremaining: 471ms\n",
      "70:\tlearn: 0.3316703\ttotal: 257ms\tremaining: 467ms\n",
      "71:\tlearn: 0.3302135\ttotal: 260ms\tremaining: 463ms\n",
      "72:\tlearn: 0.3295554\ttotal: 264ms\tremaining: 459ms\n",
      "73:\tlearn: 0.3284618\ttotal: 268ms\tremaining: 456ms\n",
      "74:\tlearn: 0.3280059\ttotal: 271ms\tremaining: 451ms\n",
      "75:\tlearn: 0.3269349\ttotal: 274ms\tremaining: 447ms\n",
      "76:\tlearn: 0.3254912\ttotal: 278ms\tremaining: 444ms\n",
      "77:\tlearn: 0.3241503\ttotal: 281ms\tremaining: 440ms\n",
      "78:\tlearn: 0.3229153\ttotal: 285ms\tremaining: 436ms\n",
      "79:\tlearn: 0.3219831\ttotal: 288ms\tremaining: 433ms\n",
      "80:\tlearn: 0.3206452\ttotal: 292ms\tremaining: 430ms\n",
      "81:\tlearn: 0.3192228\ttotal: 299ms\tremaining: 430ms\n",
      "82:\tlearn: 0.3171288\ttotal: 306ms\tremaining: 432ms\n",
      "83:\tlearn: 0.3161241\ttotal: 310ms\tremaining: 429ms\n",
      "84:\tlearn: 0.3151305\ttotal: 313ms\tremaining: 424ms\n",
      "85:\tlearn: 0.3140531\ttotal: 317ms\tremaining: 421ms\n",
      "86:\tlearn: 0.3130597\ttotal: 321ms\tremaining: 416ms\n",
      "87:\tlearn: 0.3107272\ttotal: 324ms\tremaining: 412ms\n",
      "88:\tlearn: 0.3086432\ttotal: 328ms\tremaining: 409ms\n",
      "89:\tlearn: 0.3064505\ttotal: 334ms\tremaining: 408ms\n",
      "90:\tlearn: 0.3045960\ttotal: 338ms\tremaining: 405ms\n",
      "91:\tlearn: 0.3037277\ttotal: 341ms\tremaining: 400ms\n",
      "92:\tlearn: 0.3033130\ttotal: 344ms\tremaining: 396ms\n",
      "93:\tlearn: 0.3023577\ttotal: 348ms\tremaining: 392ms\n",
      "94:\tlearn: 0.3009671\ttotal: 351ms\tremaining: 388ms\n",
      "95:\tlearn: 0.2996384\ttotal: 354ms\tremaining: 384ms\n",
      "96:\tlearn: 0.2985628\ttotal: 357ms\tremaining: 380ms\n",
      "97:\tlearn: 0.2976959\ttotal: 361ms\tremaining: 375ms\n",
      "98:\tlearn: 0.2963551\ttotal: 364ms\tremaining: 371ms\n",
      "99:\tlearn: 0.2953933\ttotal: 367ms\tremaining: 367ms\n",
      "100:\tlearn: 0.2939242\ttotal: 370ms\tremaining: 363ms\n",
      "101:\tlearn: 0.2922286\ttotal: 374ms\tremaining: 359ms\n",
      "102:\tlearn: 0.2913076\ttotal: 377ms\tremaining: 355ms\n",
      "103:\tlearn: 0.2909115\ttotal: 381ms\tremaining: 351ms\n",
      "104:\tlearn: 0.2899733\ttotal: 384ms\tremaining: 347ms\n",
      "105:\tlearn: 0.2890918\ttotal: 387ms\tremaining: 343ms\n",
      "106:\tlearn: 0.2877411\ttotal: 390ms\tremaining: 339ms\n",
      "107:\tlearn: 0.2862047\ttotal: 393ms\tremaining: 335ms\n",
      "108:\tlearn: 0.2856506\ttotal: 397ms\tremaining: 331ms\n",
      "109:\tlearn: 0.2850160\ttotal: 400ms\tremaining: 327ms\n",
      "110:\tlearn: 0.2834787\ttotal: 403ms\tremaining: 323ms\n",
      "111:\tlearn: 0.2828109\ttotal: 406ms\tremaining: 319ms\n",
      "112:\tlearn: 0.2819049\ttotal: 409ms\tremaining: 315ms\n",
      "113:\tlearn: 0.2807782\ttotal: 413ms\tremaining: 311ms\n",
      "114:\tlearn: 0.2796423\ttotal: 417ms\tremaining: 308ms\n",
      "115:\tlearn: 0.2784843\ttotal: 423ms\tremaining: 306ms\n",
      "116:\tlearn: 0.2768594\ttotal: 427ms\tremaining: 303ms\n",
      "117:\tlearn: 0.2765319\ttotal: 433ms\tremaining: 301ms\n",
      "118:\tlearn: 0.2747042\ttotal: 437ms\tremaining: 297ms\n",
      "119:\tlearn: 0.2741504\ttotal: 441ms\tremaining: 294ms\n",
      "120:\tlearn: 0.2735553\ttotal: 444ms\tremaining: 290ms\n",
      "121:\tlearn: 0.2730906\ttotal: 449ms\tremaining: 287ms\n",
      "122:\tlearn: 0.2723083\ttotal: 452ms\tremaining: 283ms\n",
      "123:\tlearn: 0.2716527\ttotal: 455ms\tremaining: 279ms\n",
      "124:\tlearn: 0.2700564\ttotal: 458ms\tremaining: 275ms\n",
      "125:\tlearn: 0.2696717\ttotal: 461ms\tremaining: 271ms\n",
      "126:\tlearn: 0.2688315\ttotal: 464ms\tremaining: 267ms\n",
      "127:\tlearn: 0.2678454\ttotal: 468ms\tremaining: 263ms\n",
      "128:\tlearn: 0.2670500\ttotal: 471ms\tremaining: 259ms\n",
      "129:\tlearn: 0.2661800\ttotal: 474ms\tremaining: 255ms\n",
      "130:\tlearn: 0.2651020\ttotal: 477ms\tremaining: 251ms\n",
      "131:\tlearn: 0.2648681\ttotal: 480ms\tremaining: 247ms\n",
      "132:\tlearn: 0.2642249\ttotal: 484ms\tremaining: 244ms\n",
      "133:\tlearn: 0.2633764\ttotal: 487ms\tremaining: 240ms\n",
      "134:\tlearn: 0.2624557\ttotal: 490ms\tremaining: 236ms\n",
      "135:\tlearn: 0.2619357\ttotal: 493ms\tremaining: 232ms\n",
      "136:\tlearn: 0.2611252\ttotal: 498ms\tremaining: 229ms\n",
      "137:\tlearn: 0.2604343\ttotal: 503ms\tremaining: 226ms\n",
      "138:\tlearn: 0.2589164\ttotal: 506ms\tremaining: 222ms\n",
      "139:\tlearn: 0.2573269\ttotal: 512ms\tremaining: 219ms\n",
      "140:\tlearn: 0.2564114\ttotal: 516ms\tremaining: 216ms\n",
      "141:\tlearn: 0.2556587\ttotal: 519ms\tremaining: 212ms\n",
      "142:\tlearn: 0.2548240\ttotal: 525ms\tremaining: 209ms\n",
      "143:\tlearn: 0.2529632\ttotal: 528ms\tremaining: 205ms\n",
      "144:\tlearn: 0.2521939\ttotal: 531ms\tremaining: 201ms\n",
      "145:\tlearn: 0.2514038\ttotal: 534ms\tremaining: 198ms\n",
      "146:\tlearn: 0.2498185\ttotal: 538ms\tremaining: 194ms\n",
      "147:\tlearn: 0.2479856\ttotal: 542ms\tremaining: 190ms\n",
      "148:\tlearn: 0.2466856\ttotal: 545ms\tremaining: 187ms\n",
      "149:\tlearn: 0.2460918\ttotal: 548ms\tremaining: 183ms\n",
      "150:\tlearn: 0.2453118\ttotal: 552ms\tremaining: 179ms\n",
      "151:\tlearn: 0.2450614\ttotal: 555ms\tremaining: 175ms\n",
      "152:\tlearn: 0.2445249\ttotal: 558ms\tremaining: 171ms\n",
      "153:\tlearn: 0.2432892\ttotal: 561ms\tremaining: 168ms\n",
      "154:\tlearn: 0.2428001\ttotal: 565ms\tremaining: 164ms\n",
      "155:\tlearn: 0.2425766\ttotal: 568ms\tremaining: 160ms\n",
      "156:\tlearn: 0.2416697\ttotal: 571ms\tremaining: 156ms\n",
      "157:\tlearn: 0.2409910\ttotal: 574ms\tremaining: 153ms\n",
      "158:\tlearn: 0.2403762\ttotal: 579ms\tremaining: 149ms\n",
      "159:\tlearn: 0.2395608\ttotal: 582ms\tremaining: 145ms\n",
      "160:\tlearn: 0.2391207\ttotal: 585ms\tremaining: 142ms\n",
      "161:\tlearn: 0.2384521\ttotal: 588ms\tremaining: 138ms\n",
      "162:\tlearn: 0.2376778\ttotal: 592ms\tremaining: 134ms\n",
      "163:\tlearn: 0.2367178\ttotal: 595ms\tremaining: 131ms\n",
      "164:\tlearn: 0.2349060\ttotal: 598ms\tremaining: 127ms\n",
      "165:\tlearn: 0.2344390\ttotal: 602ms\tremaining: 123ms\n",
      "166:\tlearn: 0.2329196\ttotal: 605ms\tremaining: 120ms\n",
      "167:\tlearn: 0.2320098\ttotal: 608ms\tremaining: 116ms\n",
      "168:\tlearn: 0.2313207\ttotal: 612ms\tremaining: 112ms\n",
      "169:\tlearn: 0.2306976\ttotal: 615ms\tremaining: 109ms\n",
      "170:\tlearn: 0.2290764\ttotal: 619ms\tremaining: 105ms\n",
      "171:\tlearn: 0.2284909\ttotal: 622ms\tremaining: 101ms\n",
      "172:\tlearn: 0.2277733\ttotal: 625ms\tremaining: 97.5ms\n",
      "173:\tlearn: 0.2258114\ttotal: 628ms\tremaining: 93.8ms\n",
      "174:\tlearn: 0.2252669\ttotal: 631ms\tremaining: 90.2ms\n",
      "175:\tlearn: 0.2233868\ttotal: 634ms\tremaining: 86.5ms\n",
      "176:\tlearn: 0.2228784\ttotal: 637ms\tremaining: 82.8ms\n",
      "177:\tlearn: 0.2223604\ttotal: 640ms\tremaining: 79.1ms\n",
      "178:\tlearn: 0.2207318\ttotal: 644ms\tremaining: 75.5ms\n",
      "179:\tlearn: 0.2200060\ttotal: 647ms\tremaining: 71.9ms\n",
      "180:\tlearn: 0.2193713\ttotal: 650ms\tremaining: 68.3ms\n",
      "181:\tlearn: 0.2185273\ttotal: 654ms\tremaining: 64.6ms\n",
      "182:\tlearn: 0.2180744\ttotal: 657ms\tremaining: 61ms\n",
      "183:\tlearn: 0.2176278\ttotal: 660ms\tremaining: 57.4ms\n",
      "184:\tlearn: 0.2170626\ttotal: 664ms\tremaining: 53.8ms\n",
      "185:\tlearn: 0.2166607\ttotal: 667ms\tremaining: 50.2ms\n",
      "186:\tlearn: 0.2162465\ttotal: 670ms\tremaining: 46.6ms\n",
      "187:\tlearn: 0.2155382\ttotal: 673ms\tremaining: 43ms\n",
      "188:\tlearn: 0.2152433\ttotal: 676ms\tremaining: 39.4ms\n",
      "189:\tlearn: 0.2138442\ttotal: 680ms\tremaining: 35.8ms\n",
      "190:\tlearn: 0.2122594\ttotal: 683ms\tremaining: 32.2ms\n",
      "191:\tlearn: 0.2110281\ttotal: 686ms\tremaining: 28.6ms\n",
      "192:\tlearn: 0.2100246\ttotal: 689ms\tremaining: 25ms\n",
      "193:\tlearn: 0.2095451\ttotal: 692ms\tremaining: 21.4ms\n",
      "194:\tlearn: 0.2085057\ttotal: 696ms\tremaining: 17.8ms\n",
      "195:\tlearn: 0.2076547\ttotal: 699ms\tremaining: 14.3ms\n",
      "196:\tlearn: 0.2071886\ttotal: 702ms\tremaining: 10.7ms\n",
      "197:\tlearn: 0.2064421\ttotal: 705ms\tremaining: 7.12ms\n",
      "198:\tlearn: 0.2062648\ttotal: 708ms\tremaining: 3.56ms\n",
      "199:\tlearn: 0.2056894\ttotal: 712ms\tremaining: 0us\n"
     ]
    }
   ],
   "source": [
    "# Final Modeli\n",
    "catb = CatBoostClassifier(iterations = 200, \n",
    "                          learning_rate = 0.05, \n",
    "                          depth = 5)\n",
    "\n",
    "catb_tuned = catb.fit(X_train, y_train)\n",
    "y_pred = catb_tuned.predict(X_test)"
   ]
  },
  {
   "cell_type": "code",
   "execution_count": 64,
   "metadata": {},
   "outputs": [
    {
     "data": {
      "text/plain": [
       "0.7445887445887446"
      ]
     },
     "execution_count": 64,
     "metadata": {},
     "output_type": "execute_result"
    }
   ],
   "source": [
    "# Test Hatası Skoru\n",
    "y_pred = catb_tuned.predict(X_test)\n",
    "accuracy_score(y_test, y_pred)"
   ]
  },
  {
   "cell_type": "markdown",
   "metadata": {},
   "source": [
    "## Tüm Modellerin Karşılaştırılması"
   ]
  },
  {
   "cell_type": "code",
   "execution_count": 162,
   "metadata": {},
   "outputs": [
    {
     "name": "stdout",
     "output_type": "stream",
     "text": [
      "----------------------------\n",
      "KNeighborsClassifier:\n",
      "Accuracy: 73.1602%\n",
      "----------------------------\n",
      "LogisticRegression:\n",
      "Accuracy: 75.3247%\n",
      "----------------------------\n",
      "SVC:\n",
      "Accuracy: 73.5931%\n",
      "----------------------------\n",
      "GaussianNB:\n",
      "Accuracy: 74.4589%\n",
      "----------------------------\n",
      "MLPClassifier:\n",
      "Accuracy: 73.1602%\n",
      "----------------------------\n",
      "DecisionTreeClassifier:\n",
      "Accuracy: 75.3247%\n",
      "----------------------------\n",
      "RandomForestClassifier:\n",
      "Accuracy: 74.8918%\n",
      "----------------------------\n",
      "GradientBoostingClassifier:\n",
      "Accuracy: 74.8918%\n",
      "----------------------------\n",
      "CatBoostClassifier:\n",
      "Accuracy: 74.4589%\n",
      "----------------------------\n",
      "LGBMClassifier:\n",
      "Accuracy: 75.3247%\n",
      "----------------------------\n",
      "XGBClassifier:\n",
      "Accuracy: 74.4589%\n"
     ]
    }
   ],
   "source": [
    "modeller = [\n",
    "    knn_tuned,\n",
    "    loj_model,\n",
    "    svc_tuned,\n",
    "    nb_model,\n",
    "    mlpc_tuned,\n",
    "    cart_tuned,\n",
    "    rf_tuned,\n",
    "    gbm_tuned,\n",
    "    catb_tuned,\n",
    "    lgbm_tuned,\n",
    "    xgb_tuned\n",
    "    \n",
    "]\n",
    "\n",
    "for model in modeller:\n",
    "    \n",
    "    if(model == mlpc_tuned):\n",
    "        \n",
    "        isimler = model.__class__.__name__\n",
    "        y_pred = model.predict(X_test_scaled)\n",
    "        dogruluk = accuracy_score(y_test, y_pred)\n",
    "        print(\"-\"*28)\n",
    "        print(isimler + \":\" )\n",
    "        print(\"Accuracy: {:.4%}\".format(dogruluk))\n",
    "        \n",
    "    else:\n",
    "        isimler = model.__class__.__name__\n",
    "        y_pred = model.predict(X_test)\n",
    "        dogruluk = accuracy_score(y_test, y_pred)\n",
    "        print(\"-\"*28)\n",
    "        print(isimler + \":\" )\n",
    "        print(\"Accuracy: {:.4%}\".format(dogruluk))\n",
    "        "
   ]
  },
  {
   "cell_type": "code",
   "execution_count": 170,
   "metadata": {},
   "outputs": [
    {
     "data": {
      "image/png": "[encoded data removed]",
      "text/plain": [
       "<Figure size 432x288 with 1 Axes>"
      ]
     },
     "metadata": {
      "needs_background": "light"
     },
     "output_type": "display_data"
    }
   ],
   "source": [
    "sonuc = []\n",
    "\n",
    "sonuclar = pd.DataFrame(columns= [\"Modeller\",\"Accuracy\"])\n",
    "\n",
    "for model in modeller:\n",
    "    \n",
    "    if(model == mlpc_tuned):\n",
    "        \n",
    "        isimler = model.__class__.__name__\n",
    "        y_pred = model.predict(X_test_scaled)\n",
    "        dogruluk = accuracy_score(y_test, y_pred)  \n",
    "        sonuc = pd.DataFrame([[isimler, dogruluk*100]], columns= [\"Modeller\",\"Accuracy\"])\n",
    "        sonuclar = sonuclar.append(sonuc)\n",
    "        \n",
    "    else:\n",
    "        \n",
    "        isimler = model.__class__.__name__\n",
    "        y_pred = model.predict(X_test)\n",
    "        dogruluk = accuracy_score(y_test, y_pred)    \n",
    "        sonuc = pd.DataFrame([[isimler, dogruluk*100]], columns= [\"Modeller\",\"Accuracy\"])\n",
    "        sonuclar = sonuclar.append(sonuc)\n",
    "    \n",
    "    \n",
    "    \n",
    "sns.barplot(x= 'Accuracy', y = 'Modeller', data=sonuclar, color=\"r\")\n",
    "plt.xlabel('Accuracy %')\n",
    "plt.title('Modellerin Doğruluk Oranları');        "
   ]
  },
  {
   "cell_type": "code",
   "execution_count": null,
   "metadata": {},
   "outputs": [],
   "source": []
  }
 ],
 "metadata": {
  "kernelspec": {
   "display_name": "Python 3",
   "language": "python",
   "name": "python3"
  },
  "language_info": {
   "codemirror_mode": {
    "name": "ipython",
    "version": 3
   },
   "file_extension": ".py",
   "mimetype": "text/x-python",
   "name": "python",
   "nbconvert_exporter": "python",
   "pygments_lexer": "ipython3",
   "version": "3.7.4"
  }
 },
 "nbformat": 4,
 "nbformat_minor": 4
}
